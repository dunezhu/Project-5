{
  "nbformat": 4,
  "nbformat_minor": 0,
  "metadata": {
    "colab": {
      "provenance": [],
      "authorship_tag": "ABX9TyPoD/7L23bh9de0bWrymwFm"
    },
    "kernelspec": {
      "name": "python3",
      "display_name": "Python 3"
    },
    "language_info": {
      "name": "python"
    }
  },
  "cells": [
    {
      "cell_type": "code",
      "execution_count": null,
      "metadata": {
        "id": "xsnTsiQRPCXC"
      },
      "outputs": [],
      "source": [
        "# Import the necessary libraries\n",
        "!pip install python-docx\n",
        "import docx\n",
        "from google.colab import files\n",
        "\n",
        "# Select the Word file from your Local Machine\n",
        "uploaded = files.upload()\n",
        "\n",
        "# Open the Word file\n",
        "doc = docx.Document(list(uploaded.keys())[0])\n",
        "\n",
        "#CHANGE THE GOOGLE DOC NAME WITH EACH DOWNLOAD TO LOCAL MACHINE AS COLAB SAVES PREVIOUS NAME IN MEMORY"
      ]
    },
    {
      "cell_type": "code",
      "source": [
        "# PRINT: Iterate through each paragraph in the document\n",
        "for paragraph in doc.paragraphs:\n",
        "  # Print the text of the paragraph\n",
        "  print(paragraph.text)"
      ],
      "metadata": {
        "id": "KCuix4UgPM9P"
      },
      "execution_count": null,
      "outputs": []
    },
    {
      "cell_type": "code",
      "source": [
        "# Add ' before all entries beginning in http\n",
        "for para in doc.paragraphs:\n",
        "    if para.text.startswith('http'):\n",
        "        para.text = \"'\" + para.text\n",
        "\n",
        "# Add ' after all entries beginning in 'http\n",
        "for para in doc.paragraphs:\n",
        "    if para.text.startswith(\"'http\"):\n",
        "        para.text += \"'\""
      ],
      "metadata": {
        "id": "Vme3S40z3Des"
      },
      "execution_count": null,
      "outputs": []
    },
    {
      "cell_type": "code",
      "source": [
        "# [1ST LAYER SPECIFIC]: Check if the line is equal to the base URL and applicable outer URL(s) and delete for the -1st and PRECURSIVE LAYERS\n",
        "keywords = [\n",
        "\n",
        " \"'https://www.website.suffix/'\", \"'https://'\"\n",
        "\n",
        "    ]\n",
        "\n",
        "# Iterate through the paragraphs of the document\n",
        "for para in doc.paragraphs:\n",
        "    for keyword in keywords:\n",
        "        if keyword in para.text:\n",
        "            # If the keyword is found in the paragraph, remove it\n",
        "            para.text = para.text.replace(keyword, \"\")"
      ],
      "metadata": {
        "id": "nCx9XpeT2xOf"
      },
      "execution_count": null,
      "outputs": []
    },
    {
      "cell_type": "code",
      "source": [
        "# THIS IS SUBSEQUENT LAYERS SPECIFIC: Define a list of recursive URLs to delete for the [Nth] LAYERS URL LIST SEARCH\n",
        "keywords = [\n",
        "\n",
        "#BASE LAYER\n",
        "'https://www.website.suffix/subject',\n",
        "'https://www.website.suffix/subject/two',\n",
        "'https://www.website.suffix/subject/three', \n",
        " \n",
        "#2ND LAYER\n",
        "'https://www.website.suffix/subject/one',\n",
        "'https://www.website.suffix/subject/two/one',\n",
        "'https://www.website.suffix/subject/three/one', \n",
        "\n",
        "#3RD LAYER\n",
        "'https://www.website.suffix/subject/one/two',\n",
        "'https://www.website.suffix/subject/two/one/two',\n",
        "'https://www.website.suffix/subject/three/one/two',\n",
        "\n",
        "    ]\n",
        "\n",
        "# Iterate through the paragraphs of the document\n",
        "for para in doc.paragraphs:\n",
        "    for keyword in keywords:\n",
        "        if keyword in para.text:\n",
        "            # If the keyword is found in the paragraph, remove it\n",
        "            para.text = para.text.replace(keyword, \"\")"
      ],
      "metadata": {
        "id": "oeyFm30J2t3q"
      },
      "execution_count": null,
      "outputs": []
    },
    {
      "cell_type": "code",
      "source": [
        "# Loop through the paragraphs in reverse order and remove empty paragraphs\n",
        "for i in range(len(doc.paragraphs)-1, -1, -1):\n",
        "    if not doc.paragraphs[i].text.strip():\n",
        "        # Remove the paragraph if it is empty\n",
        "        p = doc.paragraphs[i]\n",
        "        p._element.getparent().remove(p._element)"
      ],
      "metadata": {
        "id": "-woia2nHLjBj"
      },
      "execution_count": null,
      "outputs": []
    },
    {
      "cell_type": "code",
      "source": [
        "# Add '\"' to all entries beginning in \"'\"\n",
        "for para in doc.paragraphs:\n",
        "    if para.text.startswith(\"'\"):\n",
        "        para.text = '\"' + para.text\n",
        "\n",
        "# Add '\"' after all entries beginning in '\"'\n",
        "for para in doc.paragraphs:\n",
        "    if para.text.startswith('\"'):\n",
        "        para.text += '\"'\n",
        "\n",
        "# Add ',' after all entries beginning in '\"'\n",
        "for para in doc.paragraphs:\n",
        "    if para.text.startswith('\"'):\n",
        "        para.text += \",\""
      ],
      "metadata": {
        "id": "sn9EtwKfLE5D"
      },
      "execution_count": null,
      "outputs": []
    },
    {
      "cell_type": "code",
      "source": [
        "# PRINT: Iterate through each paragraph in the document\n",
        "for paragraph in doc.paragraphs:\n",
        "  # Print the text of the paragraph\n",
        "  print(paragraph.text)"
      ],
      "metadata": {
        "id": "QReJvaFK7F0M"
      },
      "execution_count": null,
      "outputs": []
    },
    {
      "cell_type": "code",
      "source": [
        "# THIS IS SUBSEQUENT LAYERS SPECIFIC: Define a list of recursive URLs to delete for the [CURRENT LAYER] URL LIST SEARCH\n",
        "keywords = [\n",
        "\n",
        "# [CURRENT LAYER]\n",
        "'https://www.website.suffix/subject/one/two',\n",
        "'https://www.website.suffix/subject/two/one/two',\n",
        "'https://www.website.suffix/subject/three/one/two',\n",
        "\n",
        "    ]\n",
        "\n",
        "# Iterate through the paragraphs of the document\n",
        "for para in doc.paragraphs:\n",
        "    for keyword in keywords:\n",
        "        if keyword in para.text:\n",
        "            # If the keyword is found in the paragraph, remove it\n",
        "            para.text = para.text.replace(keyword, \"\")"
      ],
      "metadata": {
        "id": "c5jcM67m61uf"
      },
      "execution_count": null,
      "outputs": []
    },
    {
      "cell_type": "code",
      "source": [
        "#UPDATE 'keywords' FOR [NTH LAYER]\n",
        "#UPDATE 'keywords' IN 'search_list'  "
      ],
      "metadata": {
        "id": "8qVolB3u7UBk"
      },
      "execution_count": null,
      "outputs": []
    },
    {
      "cell_type": "code",
      "source": [
        "# Convert the Word file to a Text file and download\n",
        "!pip install docx2txt\n",
        "from google.colab import files\n",
        "import docx2txt\n",
        "\n",
        "# Upload the word document from the desktop\n",
        "uploaded = files.upload()\n",
        "\n",
        "for name, data in uploaded.items():\n",
        "    with open(name, 'wb') as f:\n",
        "        f.write(data)\n",
        "    print(f'File \"{name}\" was imported successfully!')\n",
        "    \n",
        "    # Extract text from the word document\n",
        "    text = docx2txt.process(name)\n",
        "\n",
        "    # Remove blank spaces and newline characters\n",
        "    text = text.replace(\"\\n\", \" \")\n",
        "    text = \" \".join(text.split())\n",
        "\n",
        "    # Save the text to a file\n",
        "    with open(name+\".txt\", \"w\") as text_file:\n",
        "        text_file.write(text)\n",
        "        \n",
        "    # Download the text file\n",
        "    files.download(name+\".txt\")"
      ],
      "metadata": {
        "id": "G1YLZ4UsLt-w"
      },
      "execution_count": null,
      "outputs": []
    }
  ]
}