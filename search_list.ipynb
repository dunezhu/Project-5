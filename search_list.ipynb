{
  "nbformat": 4,
  "nbformat_minor": 0,
  "metadata": {
    "colab": {
      "provenance": [],
      "authorship_tag": "ABX9TyMPiOPNFMOJh+RYtpTIN044"
    },
    "kernelspec": {
      "name": "python3",
      "display_name": "Python 3"
    },
    "language_info": {
      "name": "python"
    }
  },
  "cells": [
    {
      "cell_type": "code",
      "source": [
        "#1 Import the necessary libraries\n",
        "!pip install python-docx\n",
        "import docx\n",
        "from google.colab import files\n",
        "\n",
        "# Select the Word file from your Local Machine\n",
        "uploaded = files.upload()\n",
        "\n",
        "# Open the Word file\n",
        "doc = docx.Document(list(uploaded.keys())[0])\n",
        "\n",
        "#CHANGE THE GOOGLE DOC NAME WITH EACH DOWNLOAD TO LOCAL MACHINE AS COLAB SAVES PREVIOUS NAME IN MEMORY"
      ],
      "metadata": {
        "id": "oiqjS2vyUB83"
      },
      "execution_count": null,
      "outputs": []
    },
    {
      "cell_type": "code",
      "source": [
        "###SEARCH PROGRAM CAN CREATE A 2ND LAYER LIST OF 5,000 MAX URLS FROM BASE URL LIST  "
      ],
      "metadata": {
        "id": "vw7uT4IpMErM"
      },
      "execution_count": null,
      "outputs": []
    },
    {
      "cell_type": "code",
      "source": [
        "#2 PRINT: Iterate through each paragraph in the document\n",
        "for paragraph in doc.paragraphs:\n",
        "  # Print the text of the paragraph\n",
        "  print(paragraph.text)"
      ],
      "metadata": {
        "id": "OBKCXGHVUzM4"
      },
      "execution_count": null,
      "outputs": []
    },
    {
      "cell_type": "code",
      "source": [
        "#3A Check if the line is equal to '/' and delete\n",
        "for para in doc.paragraphs:\n",
        "    if para.text == '/':\n",
        "        para.text = \"\"\n",
        "\n",
        "#3B Check if the line starts with '/file' and delete\n",
        "for para in doc.paragraphs:\n",
        "    if para.text.startswith('/file'):\n",
        "        para.text = \"\"\n",
        "\n",
        "#3C Check if the line contains 'pdf' and delete\n",
        "for para in doc.paragraphs:\n",
        "    if 'pdf' in para.text:\n",
        "        para.text = \"\"\n",
        "\n",
        "#3D Check if the line contains 'download' and delete\n",
        "for para in doc.paragraphs:\n",
        "    if 'download' in para.text:\n",
        "        para.text = \"\"\n",
        "\n",
        "#3E Check if the line contains 'Search' and delete\n",
        "for para in doc.paragraphs:\n",
        "    if 'Search' in para.text:\n",
        "        para.text = \"\"\n",
        "\n",
        "#3F Check if the line contains 'php' and delete\n",
        "for para in doc.paragraphs:\n",
        "    if 'php' in para.text:\n",
        "        para.text = \"\"\n",
        "\n",
        "#3G Check if the line contains 'javascript' and delete\n",
        "for para in doc.paragraphs:\n",
        "    # Check if the line contains 'javascript' and delete\n",
        "    if 'javascript' in para.text:\n",
        "        para.text = \"\"\n",
        "\n",
        "#3H Check if the line contains 'google' and delete\n",
        "for para in doc.paragraphs:\n",
        "    if 'google' in para.text:\n",
        "        para.text = \"\"\n",
        "\n",
        "#3I Check if the line contains 'instagram' and delete\n",
        "for para in doc.paragraphs:\n",
        "    if 'instagram' in para.text:\n",
        "        para.text = \"\"\n",
        "\n",
        "#3J Check if the line contains 'youtube' and delete\n",
        "for para in doc.paragraphs:\n",
        "    if 'youtube' in para.text:\n",
        "        para.text = \"\"\n",
        "\n",
        "#3K Check if the line contains 'twitter' and delete\n",
        "for para in doc.paragraphs:\n",
        "    if 'twitter' in para.text:\n",
        "        para.text = \"\"\n",
        "\n",
        "#3L Check if the line contains 'facebook' and delete\n",
        "for para in doc.paragraphs:\n",
        "    if 'facebook' in para.text:\n",
        "        para.text = \"\"\n",
        "\n",
        "#3M Check if the line contains 'linkedin' and delete\n",
        "for para in doc.paragraphs:\n",
        "    if 'linkedin' in para.text:\n",
        "        para.text = \"\"\n",
        "\n",
        "#3N Check if the line contains 'amazonaws' and delete\n",
        "for para in doc.paragraphs:\n",
        "    if 'amazonaws' in para.text:\n",
        "        para.text = \"\"\n",
        "\n",
        "#3O Check if the line contains '%' and delete\n",
        "for para in doc.paragraphs:\n",
        "    if '%' in para.text:\n",
        "        para.text = \"\"\n",
        "\n",
        "#3P Check if the line contains 'Cookie' and delete\n",
        "for para in doc.paragraphs:\n",
        "    if 'Cookie' in para.text:\n",
        "        para.text = \"\"\n",
        "\n",
        "#3Q Check if the line contains 'stats' and delete\n",
        "for para in doc.paragraphs:\n",
        "    if 'stats' in para.text:\n",
        "        para.text = \"\""
      ],
      "metadata": {
        "id": "ZdS1H-iFoLng"
      },
      "execution_count": null,
      "outputs": []
    },
    {
      "cell_type": "code",
      "source": [
        "#2 PRINT: Iterate through each paragraph in the document\n",
        "for paragraph in doc.paragraphs:\n",
        "  # Print the text of the paragraph\n",
        "  print(paragraph.text)"
      ],
      "metadata": {
        "id": "TUuQ6-czqH3o"
      },
      "execution_count": null,
      "outputs": []
    },
    {
      "cell_type": "code",
      "source": [
        "#4A [URL SPECIFIC]: Add 'https://www.sourcewell-mn.gov' before all entries beginning in '/' : remove '/' at end of URL if copying over website\n",
        "for para in doc.paragraphs:\n",
        "    if para.text.startswith('/') and not para.text.startswith('//'):\n",
        "        para.text = \"https://www.sourcewell-mn.gov\" + para.text\n",
        "\n",
        "#4(1.29) [2nd LAYER URL SPECIFIC]: Add 'https://www.sourcewell-mn.gov/contract-search' before all entries beginning in '?' \n",
        "for para in doc.paragraphs:\n",
        "    if para.text.startswith('?'):\n",
        "        para.text = \"https://www.sourcewell-mn.gov/contract-search\" + para.text\n",
        "      \n",
        "#4B Add https: before all entries beginning in //\n",
        "for para in doc.paragraphs:\n",
        "    if para.text.startswith('//'):\n",
        "        para.text = \"https:\" + para.text\n",
        "\n",
        "#4C Check if the line does not start with 'http' and delete\n",
        "for para in doc.paragraphs:\n",
        "    if not para.text.startswith(\"http\"):\n",
        "        para.text = \"\"\n",
        "\n",
        "#4D Iterate through the paragraphs in the document and delete duplicates\n",
        "#Create a set to store unique lines\n",
        "unique_lines = set()\n",
        "\n",
        "for para in doc.paragraphs:\n",
        "    # If the line is not already in the set, add it\n",
        "    if para.text not in unique_lines:\n",
        "        unique_lines.add(para.text)\n",
        "    # If the line is already in the set, remove it\n",
        "    else:\n",
        "        para.text = \"\"\n",
        "\n",
        "#4E Add ' before all entries beginning in http\n",
        "for para in doc.paragraphs:\n",
        "    if para.text.startswith('http'):\n",
        "        para.text = \"'\" + para.text\n",
        "\n",
        "#4F Add ' after all entries beginning in http\n",
        "for para in doc.paragraphs:\n",
        "    if para.text.startswith(\"'http\"):\n",
        "        para.text += \"'\""
      ],
      "metadata": {
        "id": "OUg_9QQvs6UT"
      },
      "execution_count": null,
      "outputs": []
    },
    {
      "cell_type": "code",
      "source": [
        "#2 PRINT: Iterate through each paragraph in the document\n",
        "for paragraph in doc.paragraphs:\n",
        "  # Print the text of the paragraph\n",
        "  print(paragraph.text)"
      ],
      "metadata": {
        "id": "oWO3DyCMocqy"
      },
      "execution_count": null,
      "outputs": []
    },
    {
      "cell_type": "code",
      "source": [
        "###RUN STEP 5 IF THIS IS THE 1ST LAYER THEN STEP 6 FOR USE IN THE 2ND LAYER\n",
        "###RUN STEP 6 TO CREATE A \"'FORMATTED KEYWORDS LIST'\" FOR STEP 10\n",
        "\n",
        "###ELSE RUN STEP 10 IF THIS IS THE 2ND AND SUBSEQUENT LAYERS: REPEAT NEXT \n",
        "###POPULATE \"'FORMATTED KEYWORDS LIST'\" INTO STEP 10 FOR USE IN SUBSEQUENT"
      ],
      "metadata": {
        "id": "xcRg_za4KCAZ"
      },
      "execution_count": null,
      "outputs": []
    },
    {
      "cell_type": "code",
      "source": [
        "#5 [1ST LAYER SPECIFIC]: Check if the line is equal to the base URL and applicable outer URL(s) and delete for the -1st and PRECURSIVE LAYERS\n",
        "keywords = [\n",
        "\n",
        " \"'https://www.sourcewell-mn.gov/'\"\n",
        "\n",
        "    ]\n",
        "\n",
        "# Iterate through the paragraphs of the document\n",
        "for para in doc.paragraphs:\n",
        "    for keyword in keywords:\n",
        "        if keyword in para.text:\n",
        "            # If the keyword is found in the paragraph, remove it\n",
        "            para.text = para.text.replace(keyword, \"\")"
      ],
      "metadata": {
        "id": "CkjI3gzCfDxa"
      },
      "execution_count": null,
      "outputs": []
    },
    {
      "cell_type": "code",
      "source": [
        "###JUMP TO STEP 7 IF THIS IS 2ND TIME THROUGH"
      ],
      "metadata": {
        "id": "ec0oq5gQHWF6"
      },
      "execution_count": null,
      "outputs": []
    },
    {
      "cell_type": "code",
      "source": [
        "#6A Add '\"' to all entries beginning in \"'\"\n",
        "for para in doc.paragraphs:\n",
        "    if para.text.startswith(\"'\"):\n",
        "        para.text = '\"' + para.text\n",
        "\n",
        "#6B Add '\"' after all entries beginning in '\"'\n",
        "for para in doc.paragraphs:\n",
        "    if para.text.startswith('\"'):\n",
        "        para.text += '\"'\n",
        "\n",
        "#6C Add ',' after all entries beginning in '\"'\n",
        "for para in doc.paragraphs:\n",
        "    if para.text.startswith('\"'):\n",
        "        para.text += \",\""
      ],
      "metadata": {
        "id": "ysPmd0SOwtow"
      },
      "execution_count": null,
      "outputs": []
    },
    {
      "cell_type": "code",
      "source": [
        "#2 PRINT: Iterate through each paragraph in the document\n",
        "for paragraph in doc.paragraphs:\n",
        "  # Print the text of the paragraph\n",
        "  print(paragraph.text)"
      ],
      "metadata": {
        "id": "UWHI_cnOpPG_"
      },
      "execution_count": null,
      "outputs": []
    },
    {
      "cell_type": "code",
      "source": [
        "###JUMP TO STEPS 8 AND 9 TO CREATE \"'KEYWORDS LIST'\" TO POPULATE INTO STEP 10 CODE"
      ],
      "metadata": {
        "id": "RRFyffPx-wVv"
      },
      "execution_count": null,
      "outputs": []
    },
    {
      "cell_type": "code",
      "source": [
        "#7 Add , after all entries beginning in '\n",
        "for para in doc.paragraphs:\n",
        "    if para.text.startswith(\"'\"):\n",
        "        para.text += \",\""
      ],
      "metadata": {
        "id": "FWlhRLgYqOGB"
      },
      "execution_count": null,
      "outputs": []
    },
    {
      "cell_type": "code",
      "source": [
        "#2 PRINT: Iterate through each paragraph in the document\n",
        "for paragraph in doc.paragraphs:\n",
        "  # Print the text of the paragraph\n",
        "  print(paragraph.text)"
      ],
      "metadata": {
        "id": "z2Ky_2jKuHkm"
      },
      "execution_count": null,
      "outputs": []
    },
    {
      "cell_type": "code",
      "source": [
        "#8 Save the changes to a modified document\n",
        "doc.save('modified.docx')\n",
        "\n",
        "# Download the modified Word file\n",
        "files.download('modified.docx')"
      ],
      "metadata": {
        "id": "NBn__qNvVq7P"
      },
      "execution_count": null,
      "outputs": []
    },
    {
      "cell_type": "code",
      "source": [
        "#9 Convert the Word file to a Text file and download\n",
        "!pip install docx2txt\n",
        "from google.colab import files\n",
        "import docx2txt\n",
        "\n",
        "# Upload the word document from the desktop\n",
        "uploaded = files.upload()\n",
        "\n",
        "for name, data in uploaded.items():\n",
        "    with open(name, 'wb') as f:\n",
        "        f.write(data)\n",
        "    print(f'File \"{name}\" was imported successfully!')\n",
        "    \n",
        "    # Extract text from the word document\n",
        "    text = docx2txt.process(name)\n",
        "\n",
        "    # Remove blank spaces and newline characters\n",
        "    text = text.replace(\"\\n\", \" \")\n",
        "    text = \" \".join(text.split())\n",
        "\n",
        "    # Save the text to a file\n",
        "    with open(name+\".txt\", \"w\") as text_file:\n",
        "        text_file.write(text)\n",
        "        \n",
        "    # Download the text file\n",
        "    files.download(name+\".txt\")"
      ],
      "metadata": {
        "id": "VYp9UlIyxVK9"
      },
      "execution_count": null,
      "outputs": []
    },
    {
      "cell_type": "code",
      "source": [
        "###POPULATE 'keywords' IN STEP 10 FOR USE IN 2ND AND SUBSEQUENT LAYERS  "
      ],
      "metadata": {
        "id": "wsGH1YIJJzfZ"
      },
      "execution_count": null,
      "outputs": []
    },
    {
      "cell_type": "code",
      "source": [
        "#10 THIS IS FOR THE 2ND LAYER AND SUBSEQUENT LAYERS SPECIFIC: Define a list of recursive URLs to delete for the 2nd and SUBSEQUENT LAYER URL LIST SEARCH\n",
        "keywords = [\n",
        "\n",
        "\"'https://www.sourcewell-mn.gov/cooperative-purchasing/how-it-works'\", \"'https://www.sourcewell-mn.gov/cooperative-purchasing-eziqc-contracting'\", \"'https://www.sourcewell-mn.gov/become-member'\", \"'https://www.sourcewell-mn.gov/node/500421'\", \"'https://www.sourcewell-mn.gov/cooperative-purchasing-eziqc/search'\", \"'https://www.sourcewell-mn.gov/cooperative-purchasing/contracts-vendor-search/'\", \"'https://www.sourcewell-mn.gov/cooperative-purchasing/contracts-vendor-search?category=10846'\", \"'https://www.sourcewell-mn.gov/cooperative-purchasing/contracts-vendor-search?category=10966'\", \"'https://www.sourcewell-mn.gov/cooperative-purchasing/contracts-vendor-search?category=10971'\", \"'https://www.sourcewell-mn.gov/cooperative-purchasing/contracts-vendor-search?category=10791'\", \"'https://www.sourcewell-mn.gov/cooperative-purchasing/contracts-vendor-search?category=11101'\", \"'https://www.sourcewell-mn.gov/cooperative-purchasing/contracts-vendor-search?category=11176'\", \"'https://www.sourcewell-mn.gov/cooperative-purchasing/contracts-vendor-search?category=11051'\", \"'https://www.sourcewell-mn.gov/cooperative-purchasing/contracts-vendor-search?category=10926'\", \"'https://www.sourcewell-mn.gov/contract-search?category=28686&keyword='\", \"'https://www.sourcewell-mn.gov/cooperative-purchasing/contracts-vendor-search?category=10726'\", \"'https://www.sourcewell-mn.gov/cooperative-purchasing/contracts-vendor-search?category=10881'\", \"'https://www.sourcewell-mn.gov/cooperative-purchasing/contracts-vendor-search?category=11066'\", \"'https://www.sourcewell-mn.gov/contract-search?category=28626&keyword='\", \"'https://www.sourcewell-mn.gov/cooperative-purchasing/contracts-vendor-search?category=10996'\", \"'https://www.sourcewell-mn.gov/cooperative-purchasing/contract-search-a-z'\", \"'https://sourcewell.co/contract-list'\", \"'https://www.sourcewell-mn.gov/cooperative-purchasing/071321-cen'\", \"'https://www.sourcewell-mn.gov/contract-search?category=10726'\", \"'https://www.sourcewell-mn.gov/cooperative-purchasing/090122-911'\", \"'https://www.sourcewell-mn.gov/contract-search?category=10791'\", \"'https://www.sourcewell-mn.gov/contract-search?category=11066'\", \"'https://www.sourcewell-mn.gov/cooperative-purchasing/062421-aba'\", \"'https://www.sourcewell-mn.gov/cooperative-purchasing/051321-env'\", \"'https://www.sourcewell-mn.gov/cooperative-purchasing/081721-adp'\", \"'https://www.sourcewell-mn.gov/contract-search?category=10881'\", \"'https://www.sourcewell-mn.gov/cooperative-purchasing/011221-ads'\", \"'https://www.sourcewell-mn.gov/cooperative-purchasing/011822-ads'\", \"'https://www.sourcewell-mn.gov/cooperative-purchasing/090122-ads'\", \"'https://www.sourcewell-mn.gov/cooperative-purchasing/051922-adv'\", \"'https://www.sourcewell-mn.gov/contract-search?category=28686'\", \"'https://www.sourcewell-mn.gov/cooperative-purchasing/020221-aac'\", \"'https://www.sourcewell-mn.gov/contract-search?category=11101'\", \"'https://www.sourcewell-mn.gov/cooperative-purchasing/070821-agi'\", \"'https://www.sourcewell-mn.gov/contract-search?category=11051'\", \"'https://www.sourcewell-mn.gov/contract-search?category=10996'\", \"'https://www.sourcewell-mn.gov/cooperative-purchasing/090122-ats'\", \"'https://www.sourcewell-mn.gov/contract-search?category=28626'\", \"'https://www.sourcewell-mn.gov/cooperative-purchasing/120320-all'\", \"'https://www.sourcewell-mn.gov/cooperative-purchasing/020421-alp'\", \"'https://www.sourcewell-mn.gov/cooperative-purchasing/110421-alt'\", \"'https://www.sourcewell-mn.gov/cooperative-purchasing/070821-atz'\", \"'https://www.sourcewell-mn.gov/cooperative-purchasing/120320-amr'\", \"'https://www.sourcewell-mn.gov/cooperative-purchasing/112420-arc'\", \"'https://www.sourcewell-mn.gov/cooperative-purchasing/020221-ivs'\", \"'https://www.sourcewell-mn.gov/cooperative-purchasing/031121-aco'\", \"'https://www.sourcewell-mn.gov/cooperative-purchasing/120721-ars'\", \"'https://www.sourcewell-mn.gov/cooperative-purchasing/013020-arp'\", \"'https://www.sourcewell-mn.gov/cooperative-purchasing/112420-art'\", \"'https://www.sourcewell-mn.gov/cooperative-purchasing/062222-aeb'\", \"'https://www.sourcewell-mn.gov/cooperative-purchasing/060122-ate'\", \"'https://www.sourcewell-mn.gov/contract-search?category=10971'\", \"'https://www.sourcewell-mn.gov/cooperative-purchasing/031022-ast'\", \"'https://www.sourcewell-mn.gov/cooperative-purchasing/031622-ast'\", \"'https://www.sourcewell-mn.gov/cooperative-purchasing/060518-ast'\", \"'https://www.sourcewell-mn.gov/cooperative-purchasing/120320-ath'\", \"'https://www.sourcewell-mn.gov/cooperative-purchasing/051321-aog'\", \"'https://www.sourcewell-mn.gov/contract-search?category=All&keyword=&page=0'\", \"'https://www.sourcewell-mn.gov/contract-search?category=All&keyword=&page=1'\", \"'https://www.sourcewell-mn.gov/contract-search?category=All&keyword=&page=2'\", \"'https://www.sourcewell-mn.gov/contract-search?category=All&keyword=&page=3'\", \"'https://www.sourcewell-mn.gov/contract-search?category=All&keyword=&page=4'\", \"'https://www.sourcewell-mn.gov/contract-search?category=All&keyword=&page=5'\", \"'https://www.sourcewell-mn.gov/contract-search?category=All&keyword=&page=6'\", \"'https://www.sourcewell-mn.gov/contract-search?category=All&keyword=&page=7'\", \"'https://www.sourcewell-mn.gov/contract-search?category=All&keyword=&page=8'\", \"'https://proportal.sourcewell-mn.gov/Module/Tenders/en'\", \"'https://www.sourcewell-mn.gov/cooperative-purchasing/how-it-works/'\", \"'https://www.sourcewell-mn.gov/node/1381176'\", \"'https://www.sourcewell-mn.gov/node/1378796'\", \"'https://www.sourcewell-mn.gov/node/1376826'\", \"'https://www.sourcewell-mn.gov/node/1373771'\", \"'https://www.sourcewell-mn.gov/node/1367416'\", \"'https://www.sourcewell-mn.gov/node/1365656'\", \"'https://www.sourcewell-mn.gov/node/1362081'\", \"'https://www.sourcewell-mn.gov/node/1354466'\", \"'https://www.sourcewell-mn.gov/node/1352816'\", \"'https://www.sourcewell-mn.gov/node/1344411'\", \"'https://www.sourcewell-mn.gov/node/1336861'\", \"'https://www.sourcewell-mn.gov/node/1334306'\", \"'https://www.sourcewell-mn.gov/node/1326076'\", \"'https://www.sourcewell-mn.gov/node/1311171'\", \"'https://www.sourcewell-mn.gov/node/1292666'\", \"'https://www.sourcewell-mn.gov/node/1289731'\", \"'https://www.sourcewell-mn.gov/node/1265391'\", \"'https://www.sourcewell-mn.gov/node/1347921'\", \"'https://www.sourcewell-mn.gov/node/1323591'\", \"'https://www.sourcewell-mn.gov/node/1293891'\", \"'https://www.sourcewell-mn.gov/node/1285401'\", \"'https://www.sourcewell-mn.gov/node/1280856'\", \"'https://www.sourcewell-mn.gov/node/1269946'\", \"'https://www.sourcewell-mn.gov/node/1252531'\", \"'https://www.sourcewell-mn.gov/node/1283016'\", \"'https://www.sourcewell-mn.gov/node/1246806'\", \"'https://www.sourcewell-mn.gov/node/1228436'\", \"'https://www.sourcewell-mn.gov/node/1208506'\", \"'https://www.sourcewell-mn.gov/node/1091406'\", \"'https://www.sourcewell-mn.gov/about/board-of-directors'\", \"'https://www.sourcewell-mn.gov/sourcewell-for-vendors/become-a-supplier'\", \"'https://sourcewell-mn.gov'\", \"'https://start.sourcewell.website/'\", \"'https://news.sourcewell-mn.gov/'\", \"'https://www.sourcewell-mn.gov/contract-search?h=1&t=law enforcement'\", \"'https://www.sourcewell-mn.gov/contract-search?h=1&t=equipment'\", \"'https://www.sourcewell-mn.gov/contract-search?h=1&t=Crosby Grindle'\", \"'https://www.sourcewell-mn.gov/contract-search?h=1&t=All Traffic Solutions'\", \"'https://www.sourcewell-mn.gov/contract-search?h=1&t=ADS'\", \"'https://news.sourcewell-mn.gov/equipping-our-heroes/'\", \"'https://www.sourcewell-mn.gov/contract-search?h=1&t=regional'\", \"'https://news.sourcewell-mn.gov/hear-to-help/'\", \"'https://www.sourcewell-mn.gov/contract-search?h=1&t=national'\", \"'https://news.sourcewell-mn.gov/one-stop-shop-for-public-safety-emergency-management/'\", \"'https://news.sourcewell-mn.gov/media-library/'\", \"'https://sourcewell-mn.gov/'\", \"'https://news.sourcewell-mn.gov/?h=1&t=national'\", \"'https://news.sourcewell-mn.gov/tagfeed/en-us/tags/national'\", \"'https://news.sourcewell-mn.gov/contracts-that-pave-the-way/'\", \"'https://news.sourcewell-mn.gov/when-the-weather-outside-is-frightful/'\", \"'https://news.sourcewell-mn.gov/get-everything-including-the-kitchen-sink/'\", \"'https://news.sourcewell-mn.gov/?h=1&t=regional'\", \"'https://news.sourcewell-mn.gov/tagfeed/en-us/tags/regional'\", \"'https://news.sourcewell-mn.gov/a-true-silver-lining/'\", \"'https://news.sourcewell-mn.gov/a-legacy-leaving-impact/'\", \"'https://news.sourcewell-mn.gov/taking-time-for-yourself/'\", \"'https://www.sourcewell-mn.gov/contract-search?c=1'\", \"'https://news.sourcewell-mn.gov/feed/Sourcewell/media_en-us/'\", \"'https://www.newsargus.com/brunswick_beacon/news/aasa-awards-mini-grants-to-school-districts-across-the-nation/article_c3d36ee6-1c48-5bae-b70d-bc0eb0b0a6dc.html'\", \"'https://www.aroundosceola.com/news/news-briefs-stark-holding-event-new-office-school-district-receives-disaster-relief-grant'\", \"'https://www.businesswire.com/news/home/20230110005943/en'\", \"'https://metro.newschannelnebraska.com/story/48127376/city-council-approves-miniexcavator-purchase'\", \"'http://markets.post-gazette.com/postgazette/article/getnews-2023-1-10-healthsource-solutions-signs-a-newly-awarded-contract-with-sourcewell'\", \"'https://cleantechnica.com/2023/01/05/the-hardest-part-of-electric-school-buses-made-easier/'\", \"'https://www.themunicipal.com/2023/01/five-case-studies-in-effective-salt-storage-facilities/'\", \"'https://www.newsbreak.com/news/2866361270210/wahkon-cc-taking-care-of-business'\", \"'https://www.communityadvocate.com/2022/12/20/select-board-approves-funding-for-body-cameras-tasers/'\", \"'https://dallasexpress.com/city/dallas-approves-160m-for-police-equipment/'\", \"'https://www.newsbreak.com/news/2858523887426/woodfin-elementary-s-new-playground-equipment-funded-by-anonymous-donors-school-board-oks'\", \"'https://www.newstribune.com/news/2022/dec/14/parks-pickleball-coming-to-washington-park/'\", \"'https://max983.net/2022/12/culver-community-school-board-approves-new-bleacher-purchase/'\", \"'https://www.hometownsource.com/morrison_county_record/jessie-evans-named-child-care-provider-of-the-year/article_630f96b4-74c5-11ed-9fc0-c7e6ee60a641.html'\", \"'https://www.westnewsmagazine.com/news/ballwin-unveils-more-improvement-steps-for-holloway-park/article_916c4bd6-701c-11ed-9dff-674ead27ab64.html'\", \"'https://www.cleveland.com/community/2022/11/fairview-park-awarded-federal-grants-for-new-radios-and-ambulance-power-lifts.html'\", \"'https://www.pineandlakes.com/news/local/pequot-lakes-students-attend-young-authors-conference-in-staples'\", \"'https://www.brainerddispatch.com/news/local/school-staff-students-dedicate-new-lincoln-education-center'\", \"'https://www.eschoolnews.com/2022/11/23/using-data-insight-platforms-to-improve-sel-strategies/'\", \"'https://www.mreavoice.org/mrea-hosts-future-educators-at-summit/'\", \"'https://www.covnews.com/sports/breaking-newton-county-school-board-votes-unanimously-approve-installation-artificial-turf-sharp-stadium/'\", \"'https://www.wadenapj.com/news/local/wadena-county-is-calling-goes-live'\", \"'https://www.enidnews.com/news/city-to-consider-contract-for-new-lighting-at-kellet-park-levying-28k-in-workers-comp/article_64608c5e-5962-11ed-9417-47e5c652f45a.html'\", \"'https://www.marketscreener.com/quote/stock/BLINK-CHARGING-CO-40834333/news/SemaConnect-taps-EV-charging-service-organization-42105029/'\", \"'https://www.sourcewell-mn.gov/'\", \"'https://www.sourcewell-mn.gov/apply'\", \"'https://www.sourcewell-mn.gov/member-lookup'\", \"'https://canoeprocurement.ca/members/'\", \"'https://www.sourcewell-mn.gov/become-member/application'\", \"'https://www.sourcewell-mn.gov/contact/member_profile_update_link'\", \"'https://www.sourcewell-mn.gov/node/1589391'\", \"'https://www.sourcewell-mn.gov/node/1580981'\", \"'https://www.sourcewell-mn.gov/node/1551866'\", \"'https://www.sourcewell-mn.gov/node/1585196'\", \"'https://www.sourcewell-mn.gov/node/1588086'\", \"'https://www.sourcewell-mn.gov/node/1408186'\", \"'https://www.sourcewell-mn.gov/node/1574401'\", \"'https://www.sourcewell-mn.gov/node/1584571'\", \"'https://www.sourcewell-mn.gov/node/1588481'\", \"'https://www.sourcewell-mn.gov/node/1494711'\", \"'https://www.sourcewell-mn.gov/contract-search?location=&title=&field_type=All&page=0'\", \"'https://www.sourcewell-mn.gov/contract-search?location=&title=&field_type=All&page=1'\", \"'https://www.sourcewell-mn.gov/contract-search?location=&title=&field_type=All&page=2'\", \"'https://www.sourcewell-mn.gov/contract-search?location=&title=&field_type=All&page=3'\", \"'https://www.sourcewell-mn.gov/contract-search?location=&title=&field_type=All&page=4'\", \"'https://www.sourcewell-mn.gov/contract-search?location=&title=&field_type=All&page=5'\", \"'https://www.sourcewell-mn.gov/contract-search?location=&title=&field_type=All&page=6'\", \"'https://www.sourcewell-mn.gov/contract-search?location=&title=&field_type=All&page=7'\", \"'https://www.sourcewell-mn.gov/contract-search?location=&title=&field_type=All&page=8'\", \"'https://www.sourcewell-mn.gov/fleet'\", \"'https://www.sourcewell-mn.gov/fire-rescue-gpo'\", \"'https://www.sourcewell-mn.gov/facilities'\", \"'https://www.sourcewell-mn.gov/contract-search?category=10886&keyword='\", \"'https://www.sourcewell-mn.gov/contract-search?category=10791&keyword='\", \"'https://www.sourcewell-mn.gov/contract-search?category=10916&keyword='\", \"'https://www.sourcewell-mn.gov/contract-search?category=10726&keyword='\", \"'https://www.sourcewell-mn.gov/contract-search?category=All&keyword=teletherapy'\", \"'https://sourcewell.org/solutions/edtech'\", \"'https://www.sourcewell-mn.gov/services/mn-programs'\", \"'https://www.sourcewell-mn.gov/about/mn-region'\", \"'https://www.sourcewell-mn.gov/about/board-of-trustees'\", \"'https://www.sourcewell-mn.gov/about/senior-leadership'\", \"'https://www.revisor.mn.gov/statutes/?id=123a.21'\", \"'https://www.mnservcoop.org/domain/24'\", \"'https://www.mn.sourcewell.org/events/event-policies'\", \"'https://sourcewell.wd1.myworkdayjobs.com/SWCareers'\", \"'https://www.sourcewell-mn.gov/careers/openings'\", \"'https://www.sourcewell-mn.gov/careers/benefits'\", \"'https://www.sourcewell-mn.gov/careers/culture'\", \"'https://www.revisor.mn.gov/statutes/?id=471.59'\", \"'https://www.sourcewell-mn.gov/compliance-legal/Canada'\", \"'https://www.sourcewell-mn.gov/become-member/'\", \"'https://www.sourcewell-mn.gov/contact'\", \"'https://www.sourcewell-mn.gov/home-page'\", \"'https://www.sourcewell-mn.gov/event-list'\", \"'https://www.sourcewell-mn.gov/solutions'\", \"'https://www.sourcewell-mn.gov/solutions/cooperative-purchasing'\", \"'https://www.sourcewell-mn.gov/solutions/edtech'\", \"'https://www.sourcewell-mn.gov/minnesota-only-solutions'\", \"'https://www.sourcewell-mn.gov/better-health-collective'\", \"'https://www.sourcewell-mn.gov/communities'\", \"'https://www.sourcewell-mn.gov/education'\", \"'https://www.sourcewell-mn.gov/minnesota-solutions'\", \"'https://www.sourcewell-mn.gov/privacy-policy#privacy'\", \"'https://www.sourcewell-mn.gov/privacy-policy#accessibility'\", \"'https://www.sourcewell-mn.gov/education/leaders'\", \"'https://www.sourcewell-mn.gov/education/educators'\", \"'https://www.sourcewell-mn.gov/education/students'\", \"'https://www.sourcewell-mn.gov/event-list?program_category=776'\", \"'https://www.sourcewell-mn.gov/government'\", \"'https://www.sourcewell-mn.gov/government/cities'\", \"'https://www.sourcewell-mn.gov/government/counties'\", \"'https://www.sourcewell-mn.gov/government/special-districts'\", \"'https://www.sourcewell-mn.gov/government/townships'\", \"'https://www.sourcewell-mn.gov/event-list?program_category=1071'\", \"'https://www.sourcewell-mn.gov/insurance-employee-benefits'\", \"'https://www.sourcewell-mn.gov/insurance-employee-benefits/brokers'\", \"'https://www.sourcewell-mn.gov/insurance-employee-benefits/employees'\", \"'https://www.sourcewell-mn.gov/insurance-employee-benefits/employers'\", \"'https://www.sourcewell-mn.gov/event-list?program_category=1096'\", \"'https://www.sourcewell-mn.gov/public-safety'\", \"'https://www.sourcewell-mn.gov/public-safety/ems'\", \"'https://www.sourcewell-mn.gov/public-safety/fire-rescue'\", \"'https://www.sourcewell-mn.gov/public-safety/law-enforcement'\", \"'https://www.sourcewell-mn.gov/event-list?program_category=1091'\", \"'https://www.sourcewell-mn.gov/licensing'\", \"'https://www.sourcewell-mn.gov/licensing/adult-foster-care'\", \"'https://www.sourcewell-mn.gov/licensing/family-child-care'\", \"'https://www.sourcewell-mn.gov/nonprofit'\", \"'https://www.sourcewell-mn.gov/nonprofit-organizations'\", \"'https://www.sourcewell-mn.gov/event-list?program_category=781'\", \"'https://www.sourcewell-mn.gov/contact/member_resources'\", \"'https://www.sourcewell-mn.gov/sourcewell-for-suppliers/agency-locator'\", \"'https://www.sourcewell-mn.gov/contact/invite-to-participate'\", \"'https://supplierportal.sourcewell.org/'\",\n",
        "\n",
        "    ]\n",
        "\n",
        "# Iterate through the paragraphs of the document\n",
        "for para in doc.paragraphs:\n",
        "    for keyword in keywords:\n",
        "        if keyword in para.text:\n",
        "            # If the keyword is found in the paragraph, remove it\n",
        "            para.text = para.text.replace(keyword, \"\")"
      ],
      "metadata": {
        "id": "PE4mC_OUJVP1"
      },
      "execution_count": null,
      "outputs": []
    },
    {
      "cell_type": "code",
      "source": [
        "#11 THIS IS SUBSEQUENT LAYERS SPECIFIC: Define a list of recursive URLs to delete for the SUBSEQUENT LAYERS URL LIST SEARCH\n",
        "keywords = [\n",
        "\n",
        "\"'https://www.sourcewell-mn.gov/cooperative-purchasing/how-it-works'\", \"'https://www.sourcewell-mn.gov/cooperative-purchasing-eziqc-contracting'\", \"'https://www.sourcewell-mn.gov/become-member'\", \"'https://www.sourcewell-mn.gov/node/500421'\", \"'https://www.sourcewell-mn.gov/cooperative-purchasing-eziqc/search'\", \"'https://www.sourcewell-mn.gov/cooperative-purchasing/contracts-vendor-search/'\", \"'https://www.sourcewell-mn.gov/cooperative-purchasing/contracts-vendor-search?category=10846'\", \"'https://www.sourcewell-mn.gov/cooperative-purchasing/contracts-vendor-search?category=10966'\", \"'https://www.sourcewell-mn.gov/cooperative-purchasing/contracts-vendor-search?category=10971'\", \"'https://www.sourcewell-mn.gov/cooperative-purchasing/contracts-vendor-search?category=10791'\", \"'https://www.sourcewell-mn.gov/cooperative-purchasing/contracts-vendor-search?category=11101'\", \"'https://www.sourcewell-mn.gov/cooperative-purchasing/contracts-vendor-search?category=11176'\", \"'https://www.sourcewell-mn.gov/cooperative-purchasing/contracts-vendor-search?category=11051'\", \"'https://www.sourcewell-mn.gov/cooperative-purchasing/contracts-vendor-search?category=10926'\", \"'https://www.sourcewell-mn.gov/contract-search?category=28686&keyword='\", \"'https://www.sourcewell-mn.gov/cooperative-purchasing/contracts-vendor-search?category=10726'\", \"'https://www.sourcewell-mn.gov/cooperative-purchasing/contracts-vendor-search?category=10881'\", \"'https://www.sourcewell-mn.gov/cooperative-purchasing/contracts-vendor-search?category=11066'\", \"'https://www.sourcewell-mn.gov/contract-search?category=28626&keyword='\", \"'https://www.sourcewell-mn.gov/cooperative-purchasing/contracts-vendor-search?category=10996'\", \"'https://www.sourcewell-mn.gov/cooperative-purchasing/contract-search-a-z'\", \"'https://sourcewell.co/contract-list'\", \"'https://www.sourcewell-mn.gov/cooperative-purchasing/071321-cen'\", \"'https://www.sourcewell-mn.gov/contract-search?category=10726'\", \"'https://www.sourcewell-mn.gov/cooperative-purchasing/090122-911'\", \"'https://www.sourcewell-mn.gov/contract-search?category=10791'\", \"'https://www.sourcewell-mn.gov/contract-search?category=11066'\", \"'https://www.sourcewell-mn.gov/cooperative-purchasing/062421-aba'\", \"'https://www.sourcewell-mn.gov/cooperative-purchasing/051321-env'\", \"'https://www.sourcewell-mn.gov/cooperative-purchasing/081721-adp'\", \"'https://www.sourcewell-mn.gov/contract-search?category=10881'\", \"'https://www.sourcewell-mn.gov/cooperative-purchasing/011221-ads'\", \"'https://www.sourcewell-mn.gov/cooperative-purchasing/011822-ads'\", \"'https://www.sourcewell-mn.gov/cooperative-purchasing/090122-ads'\", \"'https://www.sourcewell-mn.gov/cooperative-purchasing/051922-adv'\", \"'https://www.sourcewell-mn.gov/contract-search?category=28686'\", \"'https://www.sourcewell-mn.gov/cooperative-purchasing/020221-aac'\", \"'https://www.sourcewell-mn.gov/contract-search?category=11101'\", \"'https://www.sourcewell-mn.gov/cooperative-purchasing/070821-agi'\", \"'https://www.sourcewell-mn.gov/contract-search?category=11051'\", \"'https://www.sourcewell-mn.gov/contract-search?category=10996'\", \"'https://www.sourcewell-mn.gov/cooperative-purchasing/090122-ats'\", \"'https://www.sourcewell-mn.gov/contract-search?category=28626'\", \"'https://www.sourcewell-mn.gov/cooperative-purchasing/120320-all'\", \"'https://www.sourcewell-mn.gov/cooperative-purchasing/020421-alp'\", \"'https://www.sourcewell-mn.gov/cooperative-purchasing/110421-alt'\", \"'https://www.sourcewell-mn.gov/cooperative-purchasing/070821-atz'\", \"'https://www.sourcewell-mn.gov/cooperative-purchasing/120320-amr'\", \"'https://www.sourcewell-mn.gov/cooperative-purchasing/112420-arc'\", \"'https://www.sourcewell-mn.gov/cooperative-purchasing/020221-ivs'\", \"'https://www.sourcewell-mn.gov/cooperative-purchasing/031121-aco'\", \"'https://www.sourcewell-mn.gov/cooperative-purchasing/120721-ars'\", \"'https://www.sourcewell-mn.gov/cooperative-purchasing/013020-arp'\", \"'https://www.sourcewell-mn.gov/cooperative-purchasing/112420-art'\", \"'https://www.sourcewell-mn.gov/cooperative-purchasing/062222-aeb'\", \"'https://www.sourcewell-mn.gov/cooperative-purchasing/060122-ate'\", \"'https://www.sourcewell-mn.gov/contract-search?category=10971'\", \"'https://www.sourcewell-mn.gov/cooperative-purchasing/031022-ast'\", \"'https://www.sourcewell-mn.gov/cooperative-purchasing/031622-ast'\", \"'https://www.sourcewell-mn.gov/cooperative-purchasing/060518-ast'\", \"'https://www.sourcewell-mn.gov/cooperative-purchasing/120320-ath'\", \"'https://www.sourcewell-mn.gov/cooperative-purchasing/051321-aog'\", \"'https://www.sourcewell-mn.gov/contract-search?category=All&keyword=&page=0'\", \"'https://www.sourcewell-mn.gov/contract-search?category=All&keyword=&page=1'\", \"'https://www.sourcewell-mn.gov/contract-search?category=All&keyword=&page=2'\", \"'https://www.sourcewell-mn.gov/contract-search?category=All&keyword=&page=3'\", \"'https://www.sourcewell-mn.gov/contract-search?category=All&keyword=&page=4'\", \"'https://www.sourcewell-mn.gov/contract-search?category=All&keyword=&page=5'\", \"'https://www.sourcewell-mn.gov/contract-search?category=All&keyword=&page=6'\", \"'https://www.sourcewell-mn.gov/contract-search?category=All&keyword=&page=7'\", \"'https://www.sourcewell-mn.gov/contract-search?category=All&keyword=&page=8'\", \"'https://proportal.sourcewell-mn.gov/Module/Tenders/en'\", \"'https://www.sourcewell-mn.gov/cooperative-purchasing/how-it-works/'\", \"'https://www.sourcewell-mn.gov/node/1381176'\", \"'https://www.sourcewell-mn.gov/node/1378796'\", \"'https://www.sourcewell-mn.gov/node/1376826'\", \"'https://www.sourcewell-mn.gov/node/1373771'\", \"'https://www.sourcewell-mn.gov/node/1367416'\", \"'https://www.sourcewell-mn.gov/node/1365656'\", \"'https://www.sourcewell-mn.gov/node/1362081'\", \"'https://www.sourcewell-mn.gov/node/1354466'\", \"'https://www.sourcewell-mn.gov/node/1352816'\", \"'https://www.sourcewell-mn.gov/node/1344411'\", \"'https://www.sourcewell-mn.gov/node/1336861'\", \"'https://www.sourcewell-mn.gov/node/1334306'\", \"'https://www.sourcewell-mn.gov/node/1326076'\", \"'https://www.sourcewell-mn.gov/node/1311171'\", \"'https://www.sourcewell-mn.gov/node/1292666'\", \"'https://www.sourcewell-mn.gov/node/1289731'\", \"'https://www.sourcewell-mn.gov/node/1265391'\", \"'https://www.sourcewell-mn.gov/node/1347921'\", \"'https://www.sourcewell-mn.gov/node/1323591'\", \"'https://www.sourcewell-mn.gov/node/1293891'\", \"'https://www.sourcewell-mn.gov/node/1285401'\", \"'https://www.sourcewell-mn.gov/node/1280856'\", \"'https://www.sourcewell-mn.gov/node/1269946'\", \"'https://www.sourcewell-mn.gov/node/1252531'\", \"'https://www.sourcewell-mn.gov/node/1283016'\", \"'https://www.sourcewell-mn.gov/node/1246806'\", \"'https://www.sourcewell-mn.gov/node/1228436'\", \"'https://www.sourcewell-mn.gov/node/1208506'\", \"'https://www.sourcewell-mn.gov/node/1091406'\", \"'https://www.sourcewell-mn.gov/about/board-of-directors'\", \"'https://www.sourcewell-mn.gov/sourcewell-for-vendors/become-a-supplier'\", \"'https://sourcewell-mn.gov'\", \"'https://start.sourcewell.website/'\", \"'https://news.sourcewell-mn.gov/'\", \"'https://www.sourcewell-mn.gov/contract-search?h=1&t=law enforcement'\", \"'https://www.sourcewell-mn.gov/contract-search?h=1&t=equipment'\", \"'https://www.sourcewell-mn.gov/contract-search?h=1&t=Crosby Grindle'\", \"'https://www.sourcewell-mn.gov/contract-search?h=1&t=All Traffic Solutions'\", \"'https://www.sourcewell-mn.gov/contract-search?h=1&t=ADS'\", \"'https://news.sourcewell-mn.gov/equipping-our-heroes/'\", \"'https://www.sourcewell-mn.gov/contract-search?h=1&t=regional'\", \"'https://news.sourcewell-mn.gov/hear-to-help/'\", \"'https://www.sourcewell-mn.gov/contract-search?h=1&t=national'\", \"'https://news.sourcewell-mn.gov/one-stop-shop-for-public-safety-emergency-management/'\", \"'https://news.sourcewell-mn.gov/media-library/'\", \"'https://sourcewell-mn.gov/'\", \"'https://news.sourcewell-mn.gov/?h=1&t=national'\", \"'https://news.sourcewell-mn.gov/tagfeed/en-us/tags/national'\", \"'https://news.sourcewell-mn.gov/contracts-that-pave-the-way/'\", \"'https://news.sourcewell-mn.gov/when-the-weather-outside-is-frightful/'\", \"'https://news.sourcewell-mn.gov/get-everything-including-the-kitchen-sink/'\", \"'https://news.sourcewell-mn.gov/?h=1&t=regional'\", \"'https://news.sourcewell-mn.gov/tagfeed/en-us/tags/regional'\", \"'https://news.sourcewell-mn.gov/a-true-silver-lining/'\", \"'https://news.sourcewell-mn.gov/a-legacy-leaving-impact/'\", \"'https://news.sourcewell-mn.gov/taking-time-for-yourself/'\", \"'https://www.sourcewell-mn.gov/contract-search?c=1'\", \"'https://news.sourcewell-mn.gov/feed/Sourcewell/media_en-us/'\", \"'https://www.newsargus.com/brunswick_beacon/news/aasa-awards-mini-grants-to-school-districts-across-the-nation/article_c3d36ee6-1c48-5bae-b70d-bc0eb0b0a6dc.html'\", \"'https://www.aroundosceola.com/news/news-briefs-stark-holding-event-new-office-school-district-receives-disaster-relief-grant'\", \"'https://www.businesswire.com/news/home/20230110005943/en'\", \"'https://metro.newschannelnebraska.com/story/48127376/city-council-approves-miniexcavator-purchase'\", \"'http://markets.post-gazette.com/postgazette/article/getnews-2023-1-10-healthsource-solutions-signs-a-newly-awarded-contract-with-sourcewell'\", \"'https://cleantechnica.com/2023/01/05/the-hardest-part-of-electric-school-buses-made-easier/'\", \"'https://www.themunicipal.com/2023/01/five-case-studies-in-effective-salt-storage-facilities/'\", \"'https://www.newsbreak.com/news/2866361270210/wahkon-cc-taking-care-of-business'\", \"'https://www.communityadvocate.com/2022/12/20/select-board-approves-funding-for-body-cameras-tasers/'\", \"'https://dallasexpress.com/city/dallas-approves-160m-for-police-equipment/'\", \"'https://www.newsbreak.com/news/2858523887426/woodfin-elementary-s-new-playground-equipment-funded-by-anonymous-donors-school-board-oks'\", \"'https://www.newstribune.com/news/2022/dec/14/parks-pickleball-coming-to-washington-park/'\", \"'https://max983.net/2022/12/culver-community-school-board-approves-new-bleacher-purchase/'\", \"'https://www.hometownsource.com/morrison_county_record/jessie-evans-named-child-care-provider-of-the-year/article_630f96b4-74c5-11ed-9fc0-c7e6ee60a641.html'\", \"'https://www.westnewsmagazine.com/news/ballwin-unveils-more-improvement-steps-for-holloway-park/article_916c4bd6-701c-11ed-9dff-674ead27ab64.html'\", \"'https://www.cleveland.com/community/2022/11/fairview-park-awarded-federal-grants-for-new-radios-and-ambulance-power-lifts.html'\", \"'https://www.pineandlakes.com/news/local/pequot-lakes-students-attend-young-authors-conference-in-staples'\", \"'https://www.brainerddispatch.com/news/local/school-staff-students-dedicate-new-lincoln-education-center'\", \"'https://www.eschoolnews.com/2022/11/23/using-data-insight-platforms-to-improve-sel-strategies/'\", \"'https://www.mreavoice.org/mrea-hosts-future-educators-at-summit/'\", \"'https://www.covnews.com/sports/breaking-newton-county-school-board-votes-unanimously-approve-installation-artificial-turf-sharp-stadium/'\", \"'https://www.wadenapj.com/news/local/wadena-county-is-calling-goes-live'\", \"'https://www.enidnews.com/news/city-to-consider-contract-for-new-lighting-at-kellet-park-levying-28k-in-workers-comp/article_64608c5e-5962-11ed-9417-47e5c652f45a.html'\", \"'https://www.marketscreener.com/quote/stock/BLINK-CHARGING-CO-40834333/news/SemaConnect-taps-EV-charging-service-organization-42105029/'\", \"'https://www.sourcewell-mn.gov/'\", \"'https://www.sourcewell-mn.gov/apply'\", \"'https://www.sourcewell-mn.gov/member-lookup'\", \"'https://canoeprocurement.ca/members/'\", \"'https://www.sourcewell-mn.gov/become-member/application'\", \"'https://www.sourcewell-mn.gov/contact/member_profile_update_link'\", \"'https://www.sourcewell-mn.gov/node/1589391'\", \"'https://www.sourcewell-mn.gov/node/1580981'\", \"'https://www.sourcewell-mn.gov/node/1551866'\", \"'https://www.sourcewell-mn.gov/node/1585196'\", \"'https://www.sourcewell-mn.gov/node/1588086'\", \"'https://www.sourcewell-mn.gov/node/1408186'\", \"'https://www.sourcewell-mn.gov/node/1574401'\", \"'https://www.sourcewell-mn.gov/node/1584571'\", \"'https://www.sourcewell-mn.gov/node/1588481'\", \"'https://www.sourcewell-mn.gov/node/1494711'\", \"'https://www.sourcewell-mn.gov/contract-search?location=&title=&field_type=All&page=0'\", \"'https://www.sourcewell-mn.gov/contract-search?location=&title=&field_type=All&page=1'\", \"'https://www.sourcewell-mn.gov/contract-search?location=&title=&field_type=All&page=2'\", \"'https://www.sourcewell-mn.gov/contract-search?location=&title=&field_type=All&page=3'\", \"'https://www.sourcewell-mn.gov/contract-search?location=&title=&field_type=All&page=4'\", \"'https://www.sourcewell-mn.gov/contract-search?location=&title=&field_type=All&page=5'\", \"'https://www.sourcewell-mn.gov/contract-search?location=&title=&field_type=All&page=6'\", \"'https://www.sourcewell-mn.gov/contract-search?location=&title=&field_type=All&page=7'\", \"'https://www.sourcewell-mn.gov/contract-search?location=&title=&field_type=All&page=8'\", \"'https://www.sourcewell-mn.gov/fleet'\", \"'https://www.sourcewell-mn.gov/fire-rescue-gpo'\", \"'https://www.sourcewell-mn.gov/facilities'\", \"'https://www.sourcewell-mn.gov/contract-search?category=10886&keyword='\", \"'https://www.sourcewell-mn.gov/contract-search?category=10791&keyword='\", \"'https://www.sourcewell-mn.gov/contract-search?category=10916&keyword='\", \"'https://www.sourcewell-mn.gov/contract-search?category=10726&keyword='\", \"'https://www.sourcewell-mn.gov/contract-search?category=All&keyword=teletherapy'\", \"'https://sourcewell.org/solutions/edtech'\", \"'https://www.sourcewell-mn.gov/services/mn-programs'\", \"'https://www.sourcewell-mn.gov/about/mn-region'\", \"'https://www.sourcewell-mn.gov/about/board-of-trustees'\", \"'https://www.sourcewell-mn.gov/about/senior-leadership'\", \"'https://www.revisor.mn.gov/statutes/?id=123a.21'\", \"'https://www.mnservcoop.org/domain/24'\", \"'https://www.mn.sourcewell.org/events/event-policies'\", \"'https://sourcewell.wd1.myworkdayjobs.com/SWCareers'\", \"'https://www.sourcewell-mn.gov/careers/openings'\", \"'https://www.sourcewell-mn.gov/careers/benefits'\", \"'https://www.sourcewell-mn.gov/careers/culture'\", \"'https://www.revisor.mn.gov/statutes/?id=471.59'\", \"'https://www.sourcewell-mn.gov/compliance-legal/Canada'\", \"'https://www.sourcewell-mn.gov/become-member/'\", \"'https://www.sourcewell-mn.gov/contact'\", \"'https://www.sourcewell-mn.gov/home-page'\", \"'https://www.sourcewell-mn.gov/event-list'\", \"'https://www.sourcewell-mn.gov/solutions'\", \"'https://www.sourcewell-mn.gov/solutions/cooperative-purchasing'\", \"'https://www.sourcewell-mn.gov/solutions/edtech'\", \"'https://www.sourcewell-mn.gov/minnesota-only-solutions'\", \"'https://www.sourcewell-mn.gov/better-health-collective'\", \"'https://www.sourcewell-mn.gov/communities'\", \"'https://www.sourcewell-mn.gov/education'\", \"'https://www.sourcewell-mn.gov/minnesota-solutions'\", \"'https://www.sourcewell-mn.gov/privacy-policy#privacy'\", \"'https://www.sourcewell-mn.gov/privacy-policy#accessibility'\", \"'https://www.sourcewell-mn.gov/education/leaders'\", \"'https://www.sourcewell-mn.gov/education/educators'\", \"'https://www.sourcewell-mn.gov/education/students'\", \"'https://www.sourcewell-mn.gov/event-list?program_category=776'\", \"'https://www.sourcewell-mn.gov/government'\", \"'https://www.sourcewell-mn.gov/government/cities'\", \"'https://www.sourcewell-mn.gov/government/counties'\", \"'https://www.sourcewell-mn.gov/government/special-districts'\", \"'https://www.sourcewell-mn.gov/government/townships'\", \"'https://www.sourcewell-mn.gov/event-list?program_category=1071'\", \"'https://www.sourcewell-mn.gov/insurance-employee-benefits'\", \"'https://www.sourcewell-mn.gov/insurance-employee-benefits/brokers'\", \"'https://www.sourcewell-mn.gov/insurance-employee-benefits/employees'\", \"'https://www.sourcewell-mn.gov/insurance-employee-benefits/employers'\", \"'https://www.sourcewell-mn.gov/event-list?program_category=1096'\", \"'https://www.sourcewell-mn.gov/public-safety'\", \"'https://www.sourcewell-mn.gov/public-safety/ems'\", \"'https://www.sourcewell-mn.gov/public-safety/fire-rescue'\", \"'https://www.sourcewell-mn.gov/public-safety/law-enforcement'\", \"'https://www.sourcewell-mn.gov/event-list?program_category=1091'\", \"'https://www.sourcewell-mn.gov/licensing'\", \"'https://www.sourcewell-mn.gov/licensing/adult-foster-care'\", \"'https://www.sourcewell-mn.gov/licensing/family-child-care'\", \"'https://www.sourcewell-mn.gov/nonprofit'\", \"'https://www.sourcewell-mn.gov/nonprofit-organizations'\", \"'https://www.sourcewell-mn.gov/event-list?program_category=781'\", \"'https://www.sourcewell-mn.gov/contact/member_resources'\", \"'https://www.sourcewell-mn.gov/sourcewell-for-suppliers/agency-locator'\", \"'https://www.sourcewell-mn.gov/contact/invite-to-participate'\", \"'https://supplierportal.sourcewell.org/'\",\n",
        "\n",
        "    ]\n",
        "\n",
        "# Iterate through the paragraphs of the document\n",
        "for para in doc.paragraphs:\n",
        "    for keyword in keywords:\n",
        "        if keyword in para.text:\n",
        "            # If the keyword is found in the paragraph, remove it\n",
        "            para.text = para.text.replace(keyword, \"\")"
      ],
      "metadata": {
        "id": "TTKdyXD49q44"
      },
      "execution_count": null,
      "outputs": []
    },
    {
      "cell_type": "code",
      "source": [
        "###IF THIS IS 2ND OR SUBSEQUENT LAYERS RETURN BACK TO STEP 6 AFTER RUNNING STEP 10"
      ],
      "metadata": {
        "id": "o4WNxKZx4iR8"
      },
      "execution_count": null,
      "outputs": []
    },
    {
      "cell_type": "code",
      "source": [
        "###START BACK AT STEP 1 AFTER POPULATING \"'KEYWORDS LIST'\" INTO STEP 10 CODE"
      ],
      "metadata": {
        "id": "lmtqTdVI4do2"
      },
      "execution_count": null,
      "outputs": []
    }
  ]
}