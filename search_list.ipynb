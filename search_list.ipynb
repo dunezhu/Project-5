{
  "nbformat": 4,
  "nbformat_minor": 0,
  "metadata": {
    "colab": {
      "provenance": [],
      "authorship_tag": "ABX9TyOTKQZpMVzATulbDBDrGd4U"
    },
    "kernelspec": {
      "name": "python3",
      "display_name": "Python 3"
    },
    "language_info": {
      "name": "python"
    }
  },
  "cells": [
    {
      "cell_type": "code",
      "source": [
        "#1 Import the necessary libraries\n",
        "!pip install python-docx\n",
        "import docx\n",
        "from google.colab import files\n",
        "\n",
        "# Select the Word file from your Local Machine\n",
        "uploaded = files.upload()\n",
        "\n",
        "# Open the Word file\n",
        "doc = docx.Document(list(uploaded.keys())[0])\n",
        "\n",
        "#CHANGE THE GOOGLE DOC NAME WITH EACH DOWNLOAD TO LOCAL MACHINE AS COLAB SAVES PREVIOUS NAME IN MEMORY"
      ],
      "metadata": {
        "id": "oiqjS2vyUB83"
      },
      "execution_count": null,
      "outputs": []
    },
    {
      "cell_type": "code",
      "source": [
        "#2 PRINT: Iterate through each paragraph in the document\n",
        "for paragraph in doc.paragraphs:\n",
        "  # Print the text of the paragraph\n",
        "  print(paragraph.text)"
      ],
      "metadata": {
        "id": "OBKCXGHVUzM4"
      },
      "execution_count": null,
      "outputs": []
    },
    {
      "cell_type": "code",
      "source": [
        "#3 Check if the line is equal to '/' and delete\n",
        "for para in doc.paragraphs:\n",
        "    if para.text == '/':\n",
        "        para.text = \"\""
      ],
      "metadata": {
        "id": "ZdS1H-iFoLng"
      },
      "execution_count": 27,
      "outputs": []
    },
    {
      "cell_type": "code",
      "source": [
        "#4 Check if the line starts with '/node' and delete\n",
        "for para in doc.paragraphs:\n",
        "    if para.text.startswith('/node'):\n",
        "        para.text = \"\""
      ],
      "metadata": {
        "id": "XRnFFLbEpMbO"
      },
      "execution_count": 28,
      "outputs": []
    },
    {
      "cell_type": "code",
      "source": [
        "#5 Check if the line starts with '/file' and delete\n",
        "for para in doc.paragraphs:\n",
        "    if para.text.startswith('/file'):\n",
        "        para.text = \"\""
      ],
      "metadata": {
        "id": "yiD-adMHpxud"
      },
      "execution_count": 29,
      "outputs": []
    },
    {
      "cell_type": "code",
      "source": [
        "#6 Check if the line contains 'download' and delete\n",
        "for para in doc.paragraphs:\n",
        "    if 'download' in para.text:\n",
        "        para.text = \"\""
      ],
      "metadata": {
        "id": "Za9cOY1e9m5c"
      },
      "execution_count": 30,
      "outputs": []
    },
    {
      "cell_type": "code",
      "source": [
        "#7 Check if the line contains 'Search' and delete\n",
        "for para in doc.paragraphs:\n",
        "    if 'Search' in para.text:\n",
        "        para.text = \"\""
      ],
      "metadata": {
        "id": "e9e8D2MJCCKe"
      },
      "execution_count": 31,
      "outputs": []
    },
    {
      "cell_type": "code",
      "source": [
        "#8 Check if the line contains 'php' and delete\n",
        "for para in doc.paragraphs:\n",
        "    if 'php' in para.text:\n",
        "        para.text = \"\""
      ],
      "metadata": {
        "id": "ov-Eoe_ACMT8"
      },
      "execution_count": 32,
      "outputs": []
    },
    {
      "cell_type": "code",
      "source": [
        "#9 Check if the line contains 'javascript' and delete\n",
        "for para in doc.paragraphs:\n",
        "    # Check if the line contains 'javascript' and delete\n",
        "    if 'javascript' in para.text:\n",
        "        para.text = \"\""
      ],
      "metadata": {
        "id": "WD-l8DRrCUJt"
      },
      "execution_count": 33,
      "outputs": []
    },
    {
      "cell_type": "code",
      "source": [
        "#10 Check if the line contains 'google' and delete\n",
        "for para in doc.paragraphs:\n",
        "    if 'google' in para.text:\n",
        "        para.text = \"\""
      ],
      "metadata": {
        "id": "oBIyvOHBsRE6"
      },
      "execution_count": 34,
      "outputs": []
    },
    {
      "cell_type": "code",
      "source": [
        "#11 Check if the line contains 'instagram' and delete\n",
        "for para in doc.paragraphs:\n",
        "    if 'instagram' in para.text:\n",
        "        para.text = \"\""
      ],
      "metadata": {
        "id": "PJ58xrEisV2H"
      },
      "execution_count": 35,
      "outputs": []
    },
    {
      "cell_type": "code",
      "source": [
        "#12 Check if the line contains 'youtube' and delete\n",
        "for para in doc.paragraphs:\n",
        "    if 'youtube' in para.text:\n",
        "        para.text = \"\""
      ],
      "metadata": {
        "id": "KJp5d92PsZpx"
      },
      "execution_count": 36,
      "outputs": []
    },
    {
      "cell_type": "code",
      "source": [
        "#13 Check if the line contains 'twitter' and delete\n",
        "for para in doc.paragraphs:\n",
        "    if 'twitter' in para.text:\n",
        "        para.text = \"\""
      ],
      "metadata": {
        "id": "v9suwzkHsj9D"
      },
      "execution_count": 37,
      "outputs": []
    },
    {
      "cell_type": "code",
      "source": [
        "#14 Check if the line contains 'facebook' and delete\n",
        "for para in doc.paragraphs:\n",
        "    if 'facebook' in para.text:\n",
        "        para.text = \"\""
      ],
      "metadata": {
        "id": "cAGKvCwUsm6r"
      },
      "execution_count": 38,
      "outputs": []
    },
    {
      "cell_type": "code",
      "source": [
        "#15 Check if the line contains 'amazonaws' and delete\n",
        "for para in doc.paragraphs:\n",
        "    if 'amazonaws' in para.text:\n",
        "        para.text = \"\""
      ],
      "metadata": {
        "id": "tSzzKk647YW5"
      },
      "execution_count": 39,
      "outputs": []
    },
    {
      "cell_type": "code",
      "source": [
        "#2 PRINT: Iterate through each paragraph in the document\n",
        "for paragraph in doc.paragraphs:\n",
        "  # Print the text of the paragraph\n",
        "  print(paragraph.text)"
      ],
      "metadata": {
        "id": "TUuQ6-czqH3o"
      },
      "execution_count": null,
      "outputs": []
    },
    {
      "cell_type": "code",
      "source": [
        "#16 URL SPECIFIC: Add https://en.wikipedia.org before all entries beginning in /\n",
        "for para in doc.paragraphs:\n",
        "    if para.text.startswith('/'):\n",
        "        para.text = \"https://en.wikipedia.org\" + para.text"
      ],
      "metadata": {
        "id": "OUg_9QQvs6UT"
      },
      "execution_count": 41,
      "outputs": []
    },
    {
      "cell_type": "code",
      "source": [
        "#17 Check if the line does not start with http and delete\n",
        "for para in doc.paragraphs:\n",
        "    if not para.text.startswith(\"http\"):\n",
        "        para.text = \"\""
      ],
      "metadata": {
        "id": "X7lI6WZQtwXd"
      },
      "execution_count": 42,
      "outputs": []
    },
    {
      "cell_type": "code",
      "source": [
        "#18 Iterate through the paragraphs in the document and delete duplicates\n",
        "#Create a set to store unique lines\n",
        "unique_lines = set()\n",
        "\n",
        "for para in doc.paragraphs:\n",
        "    # If the line is not already in the set, add it\n",
        "    if para.text not in unique_lines:\n",
        "        unique_lines.add(para.text)\n",
        "    # If the line is already in the set, remove it\n",
        "    else:\n",
        "        para.text = \"\""
      ],
      "metadata": {
        "id": "L3mP1LJYt_qK"
      },
      "execution_count": 43,
      "outputs": []
    },
    {
      "cell_type": "code",
      "source": [
        "#19 Add ' before all entries beginning in http\n",
        "for para in doc.paragraphs:\n",
        "    if para.text.startswith('http'):\n",
        "        para.text = \"'\" + para.text"
      ],
      "metadata": {
        "id": "-owT4QoKZJSm"
      },
      "execution_count": 44,
      "outputs": []
    },
    {
      "cell_type": "code",
      "source": [
        "#20 Add ' after all entries beginning in http\n",
        "for para in doc.paragraphs:\n",
        "    if para.text.startswith(\"'http\"):\n",
        "        para.text += \"'\""
      ],
      "metadata": {
        "id": "rDwCLzM8baR4"
      },
      "execution_count": 45,
      "outputs": []
    },
    {
      "cell_type": "code",
      "source": [
        "###RUN STEP 21 IF THIS IS THE 1ST LAYER: ELSE RUN STEP 25 IF THIS IS THE 2ND AND SUBSEQUENT LAYERS###"
      ],
      "metadata": {
        "id": "xcRg_za4KCAZ"
      },
      "execution_count": null,
      "outputs": []
    },
    {
      "cell_type": "code",
      "source": [
        "#21 1ST LAYER SPECIFIC: Check if the line is equal to the base URL and applicable outer URL(s) and delete for the -1st and PRECURSIVE LAYERS\n",
        "keywords = [\n",
        "\n",
        " \"'https://en.wikipedia.org/wiki/Main_Page'\", \"'https://en.wikipedia.org'\", \"'https://en.wikipedia.org/wiki/Wikipedia'\"\n",
        "\n",
        "    ]\n",
        "\n",
        "# Iterate through the paragraphs of the document\n",
        "for para in doc.paragraphs:\n",
        "    for keyword in keywords:\n",
        "        if keyword in para.text:\n",
        "            # If the keyword is found in the paragraph, remove it\n",
        "            para.text = para.text.replace(keyword, \"\")"
      ],
      "metadata": {
        "id": "CkjI3gzCfDxa"
      },
      "execution_count": 46,
      "outputs": []
    },
    {
      "cell_type": "code",
      "source": [
        "#22 Add , after all entries beginning in '\n",
        "for para in doc.paragraphs:\n",
        "    if para.text.startswith(\"'\"):\n",
        "        para.text += \",\""
      ],
      "metadata": {
        "id": "FWlhRLgYqOGB"
      },
      "execution_count": 47,
      "outputs": []
    },
    {
      "cell_type": "code",
      "source": [
        "#2 PRINT: Iterate through each paragraph in the document\n",
        "for paragraph in doc.paragraphs:\n",
        "  # Print the text of the paragraph\n",
        "  print(paragraph.text)"
      ],
      "metadata": {
        "id": "z2Ky_2jKuHkm"
      },
      "execution_count": null,
      "outputs": []
    },
    {
      "cell_type": "code",
      "source": [
        "#23 Save the changes to a modified document\n",
        "doc.save('modified.docx')\n",
        "\n",
        "# Download the modified Word file\n",
        "files.download('modified.docx')"
      ],
      "metadata": {
        "id": "NBn__qNvVq7P",
        "colab": {
          "base_uri": "https://localhost:8080/",
          "height": 17
        },
        "outputId": "e475f73b-6341-4084-ce58-8f6fa2b075cc"
      },
      "execution_count": 49,
      "outputs": [
        {
          "output_type": "display_data",
          "data": {
            "text/plain": [
              "<IPython.core.display.Javascript object>"
            ],
            "application/javascript": [
              "\n",
              "    async function download(id, filename, size) {\n",
              "      if (!google.colab.kernel.accessAllowed) {\n",
              "        return;\n",
              "      }\n",
              "      const div = document.createElement('div');\n",
              "      const label = document.createElement('label');\n",
              "      label.textContent = `Downloading \"${filename}\": `;\n",
              "      div.appendChild(label);\n",
              "      const progress = document.createElement('progress');\n",
              "      progress.max = size;\n",
              "      div.appendChild(progress);\n",
              "      document.body.appendChild(div);\n",
              "\n",
              "      const buffers = [];\n",
              "      let downloaded = 0;\n",
              "\n",
              "      const channel = await google.colab.kernel.comms.open(id);\n",
              "      // Send a message to notify the kernel that we're ready.\n",
              "      channel.send({})\n",
              "\n",
              "      for await (const message of channel.messages) {\n",
              "        // Send a message to notify the kernel that we're ready.\n",
              "        channel.send({})\n",
              "        if (message.buffers) {\n",
              "          for (const buffer of message.buffers) {\n",
              "            buffers.push(buffer);\n",
              "            downloaded += buffer.byteLength;\n",
              "            progress.value = downloaded;\n",
              "          }\n",
              "        }\n",
              "      }\n",
              "      const blob = new Blob(buffers, {type: 'application/binary'});\n",
              "      const a = document.createElement('a');\n",
              "      a.href = window.URL.createObjectURL(blob);\n",
              "      a.download = filename;\n",
              "      div.appendChild(a);\n",
              "      a.click();\n",
              "      div.remove();\n",
              "    }\n",
              "  "
            ]
          },
          "metadata": {}
        },
        {
          "output_type": "display_data",
          "data": {
            "text/plain": [
              "<IPython.core.display.Javascript object>"
            ],
            "application/javascript": [
              "download(\"download_47ef469b-a9dd-4482-9671-7dc50fcafab4\", \"modified.docx\", 10210)"
            ]
          },
          "metadata": {}
        }
      ]
    },
    {
      "cell_type": "code",
      "source": [
        "#24 Convert the Word file to a Text file and download\n",
        "!pip install docx2txt\n",
        "from google.colab import files\n",
        "import docx2txt\n",
        "\n",
        "# Upload the word document from the desktop\n",
        "uploaded = files.upload()\n",
        "\n",
        "for name, data in uploaded.items():\n",
        "    with open(name, 'wb') as f:\n",
        "        f.write(data)\n",
        "    print(f'File \"{name}\" was imported successfully!')\n",
        "    \n",
        "    # Extract text from the word document\n",
        "    text = docx2txt.process(name)\n",
        "\n",
        "    # Remove blank spaces and newline characters\n",
        "    text = text.replace(\"\\n\", \" \")\n",
        "    text = \" \".join(text.split())\n",
        "\n",
        "    # Save the text to a file\n",
        "    with open(name+\".txt\", \"w\") as text_file:\n",
        "        text_file.write(text)\n",
        "        \n",
        "    # Download the text file\n",
        "    files.download(name+\".txt\")\n",
        "\n"
      ],
      "metadata": {
        "id": "VYp9UlIyxVK9"
      },
      "execution_count": null,
      "outputs": []
    },
    {
      "cell_type": "code",
      "source": [
        "###POPULATE 'keywords' IN STEP 25 FOR USE IN 2ND AND SUBSEQUENT LAYERS  "
      ],
      "metadata": {
        "id": "wsGH1YIJJzfZ"
      },
      "execution_count": null,
      "outputs": []
    },
    {
      "cell_type": "code",
      "source": [
        "#25 THIS IS FOR THE 2ND LAYER AND SUBSEQUENT LAYERS SPECIFIC: Define a list of recursive URLs to delete for the 2nd and SUBSEQUENT LAYER URL LIST SEARCH\n",
        "keywords = [\n",
        "\n",
        "'https://en.wikipedia.org/wiki/Help:Introduction', 'https://en.wikipedia.org/wiki/Special:MyTalk', 'https://en.wikipedia.org/wiki/Special:MyContributions', 'https://en.wikipedia.org/wiki/Wikipedia:Contents', 'https://en.wikipedia.org/wiki/Portal:Current_events', 'https://en.wikipedia.org/wiki/Special:Random', 'https://en.wikipedia.org/wiki/Wikipedia:About', 'https://en.wikipedia.org//en.wikipedia.org/wiki/Wikipedia:Contact_us', 'https://donate.wikimedia.org/wiki/Special:FundraiserRedirector?utm_source=donate&utm_medium=sidebar&utm_campaign=C13_en.wikipedia.org&uselang=en', 'https://en.wikipedia.org/wiki/Help:Contents', 'https://en.wikipedia.org/wiki/Wikipedia:Community_portal', 'https://en.wikipedia.org/wiki/Special:RecentChanges', 'https://en.wikipedia.org/wiki/Wikipedia:File_upload_wizard', 'https://en.wikipedia.org/wiki/Special:WhatLinksHere/Main_Page', 'https://en.wikipedia.org/wiki/Special:RecentChangesLinked/Main_Page', 'https://en.wikipedia.org/wiki/Wikipedia:File_Upload_Wizard', 'https://en.wikipedia.org/wiki/Special:SpecialPages', 'https://www.wikidata.org/wiki/Special:EntityPage/Q5296', 'https://commons.wikimedia.org/wiki/Main_Page', 'https://www.mediawiki.org/wiki/MediaWiki', 'https://meta.wikimedia.org/wiki/Main_Page', 'https://wikisource.org/wiki/Main_Page', 'https://species.wikimedia.org/wiki/Main_Page', 'https://en.wikibooks.org/wiki/Main_Page', 'https://www.wikidata.org/wiki/Wikidata:Main_Page', 'https://wikimania.wikimedia.org/wiki/2022:Wikimania', 'https://en.wikinews.org/wiki/Main_Page', 'https://en.wikiquote.org/wiki/Main_Page', 'https://en.wikisource.org/wiki/Main_Page', 'https://en.wikiversity.org/wiki/Wikiversity:Main_Page', 'https://en.wikivoyage.org/wiki/Main_Page', 'https://en.wiktionary.org/wiki/Wiktionary:Main_Page', 'https://en.wikipedia.org/wiki/Talk:Main_Page', 'https://en.wikipedia.org/wiki/Free_content', 'https://en.wikipedia.org/wiki/Encyclopedia', 'https://en.wikipedia.org/wiki/Help:Introduction_to_Wikipedia', 'https://en.wikipedia.org/wiki/Special:Statistics', 'https://en.wikipedia.org/wiki/English_language', 'https://en.wikipedia.org/wiki/File:Saloniki_City_Walls_2.jpg', 'https://en.wikipedia.org/wiki/Walls_of_Thessaloniki', 'https://en.wikipedia.org/wiki/Siege_of_Thessalonica_(1422%E2%80%931430)', 'https://en.wikipedia.org/wiki/Ottoman_Empire', 'https://en.wikipedia.org/wiki/Murad_II', 'https://en.wikipedia.org/wiki/Kingdom_of_Greece', 'https://en.wikipedia.org/wiki/Thessaloniki', 'https://en.wikipedia.org/wiki/Byzantine_Empire', 'https://en.wikipedia.org/wiki/Battle_of_Ankara', 'https://en.wikipedia.org/wiki/Andronikos_Palaiologos_(son_of_Manuel_II)', 'https://en.wikipedia.org/wiki/Republic_of_Venice', 'https://en.wikipedia.org/wiki/Looting', 'https://en.wikipedia.org/wiki/Kampung_Boy_(TV_series)', 'https://en.wikipedia.org/wiki/Cerro_Blanco_(volcano)', 'https://en.wikipedia.org/wiki/1920%E2%80%9321_Burnley_F.C._season', 'https://en.wikipedia.org/wiki/Wikipedia:Today%27s_featured_article/January_2023', 'https://lists.wikimedia.org/postorius/lists/daily-article-l.lists.wikimedia.org/', 'https://en.wikipedia.org/wiki/Wikipedia:Featured_articles', 'https://en.wikipedia.org/wiki/Wikipedia:About_Today%27s_featured_article', 'https://en.wikipedia.org/wiki/File:The_entrance_to_the_Tomb_of_Aegisthus_on_October_27,_2019.jpg', 'https://en.wikipedia.org/wiki/Tomb_of_Aegisthus', 'https://en.wikipedia.org/wiki/Minoan_civilization', 'https://en.wikipedia.org/wiki/Mycenaean_Greece', 'https://en.wikipedia.org/wiki/Marlis_Rahman', 'https://en.wikipedia.org/wiki/List_of_governors_of_West_Sumatra', 'https://en.wikipedia.org/wiki/John_Lennon', 'https://en.wikipedia.org/wiki/The_Rolling_Stones', 'https://en.wikipedia.org/wiki/Miss_You_(Rolling_Stones_song)', 'https://en.wikipedia.org/wiki/Scared_(John_Lennon_song)', 'https://en.wikipedia.org/wiki/Philip_Wodehouse_(Royal_Navy_officer)', 'https://en.wikipedia.org/wiki/HMS_Peterel_(1794)', 'https://en.wikipedia.org/wiki/Mediterranean_Sea', 'https://en.wikipedia.org/wiki/Bartholomew_James', 'https://en.wikipedia.org/wiki/Lou_Henry_Hoover', 'https://en.wikipedia.org/wiki/Great_Depression', 'https://en.wikipedia.org/wiki/Anon_Pls.', 'https://en.wikipedia.org/wiki/DeuxMoi', 'https://en.wikipedia.org/wiki/Iowa_Colored_Cowboys', 'https://en.wikipedia.org/wiki/Harlem_Globetrotters', 'https://en.wikipedia.org/wiki/Gerald_Marescaux', 'https://en.wikipedia.org/wiki/Wikipedia:Recent_additions', 'https://en.wikipedia.org/wiki/Help:Your_first_article', 'https://en.wikipedia.org/wiki/Template_talk:Did_you_know', 'https://en.wikipedia.org/wiki/File:Hon_Chris_Hipkins.jpg', 'https://en.wikipedia.org/wiki/Chris_Hipkins', 'https://en.wikipedia.org/wiki/Jacinda_Ardern', 'https://en.wikipedia.org/wiki/Prime_Minister_of_New_Zealand', 'https://en.wikipedia.org/wiki/Leader_of_the_New_Zealand_Labour_Party', 'https://en.wikipedia.org/wiki/2023_Brovary_helicopter_crash', 'https://en.wikipedia.org/wiki/Kyiv', 'https://en.wikipedia.org/wiki/Denys_Monastyrsky', 'https://en.wikipedia.org/wiki/2023_Antiguan_general_election', 'https://en.wikipedia.org/wiki/Antigua_and_Barbuda_Labour_Party', 'https://en.wikipedia.org/wiki/House_of_Representatives_(Antigua_and_Barbuda)', 'https://en.wikipedia.org/wiki/Yeti_Airlines_Flight_691', 'https://en.wikipedia.org/wiki/Pokhara', 'https://en.wikipedia.org/wiki/2023_Beninese_parliamentary_election', 'https://en.wikipedia.org/wiki/National_Assembly_(Benin)', 'https://en.wikipedia.org/wiki/Progressive_Union_for_Renewal', 'https://en.wikipedia.org/wiki/Republican_Bloc', 'https://en.wikipedia.org/wiki/The_Democrats_(Benin)', 'https://en.wikipedia.org/wiki/2022%E2%80%932023_Peruvian_political_protests', 'https://en.wikipedia.org/wiki/2022_Russian_invasion_of_Ukraine', 'https://en.wikipedia.org/wiki/Deaths_in_2023', 'https://en.wikipedia.org/wiki/Harunata', 'https://en.wikipedia.org/wiki/Lupe_Serrano', 'https://en.wikipedia.org/wiki/Muhammad_Prakosa', 'https://en.wikipedia.org/wiki/Andi_Rasdiyanah_Amir', 'https://en.wikipedia.org/wiki/Anton_Walkes', 'https://en.wikipedia.org/wiki/Abdul_Ghani_Azhari', 'https://en.wikipedia.org/wiki/Wikipedia:In_the_news/Candidates', 'https://en.wikipedia.org/wiki/January_23', 'https://en.wikipedia.org/wiki/File:EBlackwell1905.jpg', 'https://en.wikipedia.org/wiki/1556', 'https://en.wikipedia.org/wiki/1556_Shaanxi_earthquake', 'https://en.wikipedia.org/wiki/Shaanxi', 'https://en.wikipedia.org/wiki/1849', 'https://en.wikipedia.org/wiki/Elizabeth_Blackwell', 'https://en.wikipedia.org/wiki/Geneva_Medical_College', 'https://en.wikipedia.org/wiki/1909', 'https://en.wikipedia.org/wiki/Tottenham_Outrage', 'https://en.wikipedia.org/wiki/Tottenham', 'https://en.wikipedia.org/wiki/1942', 'https://en.wikipedia.org/wiki/World_War_II', 'https://en.wikipedia.org/wiki/Battle_of_Rabaul_(1942)', 'https://en.wikipedia.org/wiki/New_Britain', 'https://en.wikipedia.org/wiki/Territory_of_New_Guinea', 'https://en.wikipedia.org/wiki/1993', 'https://en.wikipedia.org/wiki/Mosaic_(web_browser)', 'https://en.wikipedia.org/wiki/Marc_Andreessen', 'https://en.wikipedia.org/wiki/Eric_Bina', 'https://en.wikipedia.org/wiki/Web_browser', 'https://en.wikipedia.org/wiki/Mary_Ward_(nun)', 'https://en.wikipedia.org/wiki/Ernst_Abbe', 'https://en.wikipedia.org/wiki/Louisa_Cadamuro', 'https://en.wikipedia.org/wiki/January_22', 'https://en.wikipedia.org/wiki/January_24', 'https://en.wikipedia.org/wiki/Wikipedia:Selected_anniversaries/January', 'https://en.wikipedia.org/wiki/List_of_days_of_the_year', 'https://en.wikipedia.org/wiki/File:Muddy_Waters_november_1976.jpg', 'https://en.wikipedia.org/wiki/Muddy_Waters_discography', 'https://en.wikipedia.org/wiki/Muddy_Waters', 'https://en.wikipedia.org/wiki/Chicago_blues', 'https://en.wikipedia.org/wiki/Delta_blues', 'https://en.wikipedia.org/wiki/Rollin%27_and_Tumblin%27', 'https://en.wikipedia.org/wiki/Walkin%27_Blues', 'https://en.wikipedia.org/wiki/Baby,_Please_Don%27t_Go', 'https://en.wikipedia.org/wiki/List_of_blues_standards', 'https://en.wikipedia.org/wiki/Aristocrat_Records', 'https://en.wikipedia.org/wiki/Chess_Records', 'https://en.wikipedia.org/wiki/Blue_Sky_Records', 'https://en.wikipedia.org/wiki/Alan_Lomax', 'https://en.wikipedia.org/wiki/Library_of_Congress', 'https://en.wikipedia.org/wiki/Leonard_Chess', 'https://en.wikipedia.org/wiki/Hot_R%26B/Hip-Hop_Songs', 'https://en.wikipedia.org/wiki/List_of_prime_ministers_of_Australia', 'https://en.wikipedia.org/wiki/List_of_accolades_received_by_Selma', 'https://en.wikipedia.org/wiki/List_of_Xevious_media', 'https://en.wikipedia.org/wiki/Wikipedia:Today%27s_featured_list/January_2023', 'https://en.wikipedia.org/wiki/Wikipedia:Featured_lists', 'https://en.wikipedia.org/wiki/Daisy_(advertisement)', 'https://en.wikipedia.org/wiki/Campaign_advertising', 'https://en.wikipedia.org/wiki/Lyndon_B._Johnson', 'https://en.wikipedia.org/wiki/Lyndon_B._Johnson_1964_presidential_campaign', 'https://en.wikipedia.org/wiki/Barry_Goldwater', 'https://en.wikipedia.org/wiki/Anti-nuclear_movement', 'https://en.wikipedia.org/wiki/Monique_Luiz', 'https://en.wikipedia.org/wiki/Bellis_perennis', 'https://en.wikipedia.org/wiki/Nuclear_explosion', 'https://en.wikipedia.org/wiki/Fear_appeal', 'https://en.wikipedia.org/wiki/Nuclear_warfare', 'https://en.wikipedia.org/wiki/Template:POTD/2023-01-22', 'https://en.wikipedia.org/wiki/Template:POTD/2023-01-21', 'https://en.wikipedia.org/wiki/Template:POTD/2023-01-20', 'https://en.wikipedia.org/wiki/Wikipedia:Picture_of_the_day/Archive', 'https://en.wikipedia.org/wiki/Wikipedia:Featured_pictures', 'https://en.wikipedia.org/wiki/Wikipedia:Village_pump', 'https://en.wikipedia.org/wiki/Wikipedia:News', 'https://en.wikipedia.org/wiki/Wikipedia:Teahouse', 'https://en.wikipedia.org/wiki/Wikipedia:Help_desk', 'https://en.wikipedia.org/wiki/Wikipedia:Reference_desk', 'https://en.wikipedia.org/wiki/Wikipedia:Contents/Portals', 'https://en.wikipedia.org/wiki/Wikimedia_Foundation', 'https://wikimediafoundation.org/our-work/wikimedia-projects/', 'https://commons.wikimedia.org/wiki/', 'https://www.mediawiki.org/wiki/', 'https://meta.wikimedia.org/wiki/', 'https://en.wikibooks.org/wiki/', 'https://www.wikidata.org/wiki/', 'https://en.wikinews.org/wiki/', 'https://en.wikiquote.org/wiki/', 'https://en.wikisource.org/wiki/', 'https://species.wikimedia.org/wiki/', 'https://en.wikiversity.org/wiki/', 'https://en.wikivoyage.org/wiki/', 'https://en.wiktionary.org/wiki/', 'https://meta.wikimedia.org/wiki/List_of_Wikipedias', 'https://ar.wikipedia.org/wiki/', 'https://de.wikipedia.org/wiki/', 'https://es.wikipedia.org/wiki/', 'https://fr.wikipedia.org/wiki/', 'https://it.wikipedia.org/wiki/', 'https://nl.wikipedia.org/wiki/', 'https://ja.wikipedia.org/wiki/', 'https://pl.wikipedia.org/wiki/', 'https://pt.wikipedia.org/wiki/', 'https://ru.wikipedia.org/wiki/', 'https://sv.wikipedia.org/wiki/', 'https://uk.wikipedia.org/wiki/', 'https://vi.wikipedia.org/wiki/', 'https://zh.wikipedia.org/wiki/', 'https://id.wikipedia.org/wiki/', 'https://ms.wikipedia.org/wiki/', 'https://zh-min-nan.wikipedia.org/wiki/', 'https://bg.wikipedia.org/wiki/', 'https://ca.wikipedia.org/wiki/', 'https://cs.wikipedia.org/wiki/', 'https://da.wikipedia.org/wiki/', 'https://eo.wikipedia.org/wiki/', 'https://eu.wikipedia.org/wiki/', 'https://fa.wikipedia.org/wiki/', 'https://he.wikipedia.org/wiki/', 'https://ko.wikipedia.org/wiki/', 'https://hu.wikipedia.org/wiki/', 'https://no.wikipedia.org/wiki/', 'https://ro.wikipedia.org/wiki/', 'https://sr.wikipedia.org/wiki/', 'https://sh.wikipedia.org/wiki/', 'https://fi.wikipedia.org/wiki/', 'https://tr.wikipedia.org/wiki/', 'https://ast.wikipedia.org/wiki/', 'https://bn.wikipedia.org/wiki/', 'https://bs.wikipedia.org/wiki/', 'https://et.wikipedia.org/wiki/', 'https://el.wikipedia.org/wiki/', 'https://simple.wikipedia.org/wiki/', 'https://ga.wikipedia.org/wiki/', 'https://gl.wikipedia.org/wiki/', 'https://hr.wikipedia.org/wiki/', 'https://lv.wikipedia.org/wiki/', 'https://lt.wikipedia.org/wiki/', 'https://ml.wikipedia.org/wiki/', 'https://mk.wikipedia.org/wiki/', 'https://nn.wikipedia.org/wiki/', 'https://sq.wikipedia.org/wiki/', 'https://sk.wikipedia.org/wiki/', 'https://sl.wikipedia.org/wiki/', 'https://th.wikipedia.org/wiki/', 'https://ka.wikipedia.org/wiki/', 'https://en.wikipedia.org//en.wikipedia.org/wiki/Wikipedia:Text_of_the_Creative_Commons_Attribution-ShareAlike_3.0_Unported_License', 'https://en.wikipedia.org//creativecommons.org/licenses/by-sa/3.0/', 'https://en.wikipedia.org//foundation.wikimedia.org/wiki/Terms_of_Use', 'https://en.wikipedia.org//foundation.wikimedia.org/wiki/Privacy_policy', 'https://en.wikipedia.org//www.wikimediafoundation.org/', 'https://foundation.wikimedia.org/wiki/Privacy_policy', 'https://en.wikipedia.org/wiki/Wikipedia:General_disclaimer', 'https://developer.wikimedia.org', 'https://stats.wikimedia.org/#/en.wikipedia.org', 'https://foundation.wikimedia.org/wiki/Cookie_statement', 'https://wikimediafoundation.org/', 'https://www.mediawiki.org/', \n",
        "    \n",
        "    ]\n",
        "\n",
        "# Iterate through the paragraphs of the document\n",
        "for para in doc.paragraphs:\n",
        "    for keyword in keywords:\n",
        "        if keyword in para.text:\n",
        "            # If the keyword is found in the paragraph, remove it\n",
        "            para.text = para.text.replace(keyword, \"\")"
      ],
      "metadata": {
        "id": "PE4mC_OUJVP1"
      },
      "execution_count": null,
      "outputs": []
    }
  ]
}