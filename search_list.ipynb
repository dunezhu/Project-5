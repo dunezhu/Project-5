{
  "nbformat": 4,
  "nbformat_minor": 0,
  "metadata": {
    "colab": {
      "provenance": [],
      "authorship_tag": "ABX9TyNsaB7oncLdmg6m8sfAjeRF"
    },
    "kernelspec": {
      "name": "python3",
      "display_name": "Python 3"
    },
    "language_info": {
      "name": "python"
    }
  },
  "cells": [
    {
      "cell_type": "code",
      "source": [
        "# Import the necessary libraries\n",
        "!pip install python-docx\n",
        "import docx\n",
        "from google.colab import files\n",
        "\n",
        "# Select the Word file from your Local Machine\n",
        "uploaded = files.upload()\n",
        "\n",
        "# Open the Word file\n",
        "doc = docx.Document(list(uploaded.keys())[0])\n",
        "\n",
        "#CHANGE THE GOOGLE DOC NAME WITH EACH DOWNLOAD TO LOCAL MACHINE AS COLAB SAVES PREVIOUS NAME IN MEMORY"
      ],
      "metadata": {
        "id": "oiqjS2vyUB83"
      },
      "execution_count": null,
      "outputs": []
    },
    {
      "cell_type": "code",
      "source": [
        "# PRINT: Iterate through each paragraph in the document\n",
        "for paragraph in doc.paragraphs:\n",
        "  # Print the text of the paragraph\n",
        "  print(paragraph.text)"
      ],
      "metadata": {
        "id": "OBKCXGHVUzM4"
      },
      "execution_count": null,
      "outputs": []
    },
    {
      "cell_type": "code",
      "source": [
        "# Check if the line is equal to '/' and delete\n",
        "for para in doc.paragraphs:\n",
        "    if para.text == '/':\n",
        "        para.text = \"\"\n",
        "\n",
        "# Check if the line starts with '/file' and delete\n",
        "for para in doc.paragraphs:\n",
        "    if para.text.startswith('/file'):\n",
        "        para.text = \"\"\n",
        "\n",
        "# Check if the line contains 'pdf' and delete\n",
        "for para in doc.paragraphs:\n",
        "    if 'pdf' in para.text:\n",
        "        para.text = \"\"\n",
        "\n",
        "# Check if the line contains 'download' and delete\n",
        "for para in doc.paragraphs:\n",
        "    if 'download' in para.text:\n",
        "        para.text = \"\"\n",
        "\n",
        "# Check if the line contains 'Search' and delete\n",
        "for para in doc.paragraphs:\n",
        "    if 'Search' in para.text:\n",
        "        para.text = \"\"\n",
        "\n",
        "# Check if the line contains 'php' and delete\n",
        "for para in doc.paragraphs:\n",
        "    if 'php' in para.text:\n",
        "        para.text = \"\"\n",
        "\n",
        "# Check if the line contains 'javascript' and delete\n",
        "for para in doc.paragraphs:\n",
        "    # Check if the line contains 'javascript' and delete\n",
        "    if 'javascript' in para.text:\n",
        "        para.text = \"\"\n",
        "\n",
        "# Check if the line contains 'google' and delete\n",
        "for para in doc.paragraphs:\n",
        "    if 'google' in para.text:\n",
        "        para.text = \"\"\n",
        "\n",
        "# Check if the line contains 'instagram' and delete\n",
        "for para in doc.paragraphs:\n",
        "    if 'instagram' in para.text:\n",
        "        para.text = \"\"\n",
        "\n",
        "# Check if the line contains 'youtube' and delete\n",
        "for para in doc.paragraphs:\n",
        "    if 'youtube' in para.text:\n",
        "        para.text = \"\"\n",
        "\n",
        "# Check if the line contains 'twitter' and delete\n",
        "for para in doc.paragraphs:\n",
        "    if 'twitter' in para.text:\n",
        "        para.text = \"\"\n",
        "\n",
        "# Check if the line contains 'facebook' and delete\n",
        "for para in doc.paragraphs:\n",
        "    if 'facebook' in para.text:\n",
        "        para.text = \"\"\n",
        "\n",
        "# Check if the line contains 'linkedin' and delete\n",
        "for para in doc.paragraphs:\n",
        "    if 'linkedin' in para.text:\n",
        "        para.text = \"\"\n",
        "\n",
        "# Check if the line contains 'amazonaws' and delete\n",
        "for para in doc.paragraphs:\n",
        "    if 'amazonaws' in para.text:\n",
        "        para.text = \"\"\n",
        "\n",
        "# Check if the line contains '%' and delete\n",
        "for para in doc.paragraphs:\n",
        "    if '%' in para.text:\n",
        "        para.text = \"\"\n",
        "\n",
        "# Check if the line contains 'Cookie' and delete\n",
        "for para in doc.paragraphs:\n",
        "    if 'Cookie' in para.text:\n",
        "        para.text = \"\"\n",
        "\n",
        "# Check if the line contains 'stats' and delete\n",
        "for para in doc.paragraphs:\n",
        "    if 'stats' in para.text:\n",
        "        para.text = \"\"\n",
        "\n",
        "# Check if the line contains 'todd.mn' and delete\n",
        "for para in doc.paragraphs:\n",
        "    if 'todd.mn' in para.text:\n",
        "        para.text = \"\"\n",
        "\n",
        "# Check if the line contains 'intra.revisor' and delete\n",
        "for para in doc.paragraphs:\n",
        "    if 'intra.revisor' in para.text:\n",
        "        para.text = \"\""
      ],
      "metadata": {
        "id": "ZdS1H-iFoLng"
      },
      "execution_count": null,
      "outputs": []
    },
    {
      "cell_type": "code",
      "source": [
        "# [URL SPECIFIC]: Add 'https://www.website.suffix' before all entries beginning in '/' : remove '/' at end of URL if copying over website\n",
        "for para in doc.paragraphs:\n",
        "    if para.text.startswith('/') and not para.text.startswith('//'):\n",
        "        para.text = \"https://www.website.suffix\" + para.text\n",
        "\n",
        "# [2nd LAYER URL SPECIFIC]: Add 'https://www.website.suffix/specific-requirement' before all entries beginning in '?' \n",
        "for para in doc.paragraphs:\n",
        "    if para.text.startswith('?'):\n",
        "        para.text = \"https://www.website.suffix/specific-requirement\" + para.text\n",
        "      \n",
        "# Add https: before all entries beginning in //\n",
        "for para in doc.paragraphs:\n",
        "    if para.text.startswith('//'):\n",
        "        para.text = \"https:\" + para.text\n",
        "\n",
        "# Check if the line does not start with 'http' and delete\n",
        "for para in doc.paragraphs:\n",
        "    if not para.text.startswith(\"http\"):\n",
        "        para.text = \"\"\n",
        "\n",
        "# Iterate through the paragraphs in the document and delete duplicates\n",
        "# Create a set to store unique lines\n",
        "unique_lines = set()\n",
        "\n",
        "for para in doc.paragraphs:\n",
        "    # If the line is not already in the set, add it\n",
        "    if para.text not in unique_lines:\n",
        "        unique_lines.add(para.text)\n",
        "    # If the line is already in the set, remove it\n",
        "    else:\n",
        "        para.text = \"\""
      ],
      "metadata": {
        "id": "OUg_9QQvs6UT"
      },
      "execution_count": null,
      "outputs": []
    },
    {
      "cell_type": "code",
      "source": [
        "# PRINT: Iterate through each paragraph in the document\n",
        "for paragraph in doc.paragraphs:\n",
        "  # Print the text of the paragraph\n",
        "  print(paragraph.text)"
      ],
      "metadata": {
        "id": "NBn__qNvVq7P"
      },
      "execution_count": null,
      "outputs": []
    },
    {
      "cell_type": "code",
      "source": [
        "#COPY CONTENTS TO GOOGLE DOC\n",
        "#REPEAT FOR ALL ONE PAGERS"
      ],
      "metadata": {
        "id": "WGnQmKJr6jpQ"
      },
      "execution_count": null,
      "outputs": []
    },
    {
      "cell_type": "code",
      "source": [
        "# Import the necessary libraries\n",
        "!pip install python-docx\n",
        "import docx\n",
        "from google.colab import files\n",
        "\n",
        "# Select the Word file from your Local Machine\n",
        "uploaded = files.upload()\n",
        "\n",
        "# Open the Word file\n",
        "doc = docx.Document(list(uploaded.keys())[0])\n",
        "\n",
        "#CHANGE THE GOOGLE DOC NAME WITH EACH DOWNLOAD TO LOCAL MACHINE AS COLAB SAVES PREVIOUS NAME IN MEMORY"
      ],
      "metadata": {
        "id": "KwS96253kK2Q"
      },
      "execution_count": null,
      "outputs": []
    },
    {
      "cell_type": "code",
      "source": [
        "# PRINT: Iterate through each paragraph in the document\n",
        "for paragraph in doc.paragraphs:\n",
        "  # Print the text of the paragraph\n",
        "  print(paragraph.text)"
      ],
      "metadata": {
        "id": "xCrd3ewpkSzn"
      },
      "execution_count": null,
      "outputs": []
    },
    {
      "cell_type": "code",
      "source": [
        "# Iterate through the paragraphs in the document and delete duplicates\n",
        "# Create a set to store unique lines\n",
        "unique_lines = set()\n",
        "\n",
        "for para in doc.paragraphs:\n",
        "    # If the line is not already in the set, add it\n",
        "    if para.text not in unique_lines:\n",
        "        unique_lines.add(para.text)\n",
        "    # If the line is already in the set, remove it\n",
        "    else:\n",
        "        para.text = \"\""
      ],
      "metadata": {
        "id": "Ka24e5CJZ3LQ"
      },
      "execution_count": null,
      "outputs": []
    },
    {
      "cell_type": "code",
      "source": [
        "# Loop through the paragraphs in reverse order and remove empty paragraphs\n",
        "for i in range(len(doc.paragraphs)-1, -1, -1):\n",
        "    if not doc.paragraphs[i].text.strip():\n",
        "        # Remove the paragraph if it is empty\n",
        "        p = doc.paragraphs[i]\n",
        "        p._element.getparent().remove(p._element)"
      ],
      "metadata": {
        "id": "24qICPT_UQiz"
      },
      "execution_count": null,
      "outputs": []
    },
    {
      "cell_type": "code",
      "source": [
        "# PRINT: Iterate through each paragraph in the document\n",
        "for paragraph in doc.paragraphs:\n",
        "  # Print the text of the paragraph\n",
        "  print(paragraph.text)"
      ],
      "metadata": {
        "id": "6_b48kfWFh4A"
      },
      "execution_count": null,
      "outputs": []
    },
    {
      "cell_type": "code",
      "source": [
        "#REPEATE STEPS FOR ALL ONE PAGERS\n",
        "#AFTER EXECUTION OF ALL PAGES: RUN CONGOLOMERATE  "
      ],
      "metadata": {
        "id": "D_YmDeomQlce"
      },
      "execution_count": null,
      "outputs": []
    },
    {
      "cell_type": "code",
      "source": [
        "# Save the changes to a modified document\n",
        "doc.save('modified.docx')\n",
        "\n",
        "# Download the modified Word file\n",
        "files.download('modified.docx')"
      ],
      "metadata": {
        "id": "8FdONQPQF3-o"
      },
      "execution_count": null,
      "outputs": []
    },
    {
      "cell_type": "code",
      "source": [
        "#USE 'modified.docx' IN 'redundant_removal'"
      ],
      "metadata": {
        "id": "Cn1QmFXcF_4Y"
      },
      "execution_count": null,
      "outputs": []
    },
    {
      "cell_type": "code",
      "source": [
        "# Add ' before all entries beginning in http\n",
        "for para in doc.paragraphs:\n",
        "    if para.text.startswith('http'):\n",
        "        para.text = \"'\" + para.text\n",
        "\n",
        "# Add ' after all entries beginning in 'http\n",
        "for para in doc.paragraphs:\n",
        "    if para.text.startswith(\"'http\"):\n",
        "        para.text += \"'\""
      ],
      "metadata": {
        "id": "qTQ9x3aD3Xbn"
      },
      "execution_count": null,
      "outputs": []
    },
    {
      "cell_type": "code",
      "source": [
        "# [1ST LAYER SPECIFIC]: Check if the line is equal to the base URL and applicable outer URL(s) and delete for the -1st and PRECURSIVE LAYERS\n",
        "keywords = [\n",
        "\n",
        " \"'https://www.website.suffix/'\", \"'https://'\"\n",
        "\n",
        "    ]\n",
        "\n",
        "# Iterate through the paragraphs of the document\n",
        "for para in doc.paragraphs:\n",
        "    for keyword in keywords:\n",
        "        if keyword in para.text:\n",
        "            # If the keyword is found in the paragraph, remove it\n",
        "            para.text = para.text.replace(keyword, \"\")"
      ],
      "metadata": {
        "id": "h0xtmr6D3lTg"
      },
      "execution_count": null,
      "outputs": []
    },
    {
      "cell_type": "code",
      "source": [
        "# THIS IS SUBSEQUENT LAYERS SPECIFIC: Define a list of recursive URLs to delete for the [Nth] LAYERS URL LIST SEARCH\n",
        "keywords = [\n",
        "\n",
        "#BASE LAYER\n",
        "'https://www.website.suffix/subject',\n",
        "'https://www.website.suffix/subject/two',\n",
        "'https://www.website.suffix/subject/three', \n",
        " \n",
        "#2ND LAYER\n",
        "'https://www.website.suffix/subject/one',\n",
        "'https://www.website.suffix/subject/two/one',\n",
        "'https://www.website.suffix/subject/three/one', \n",
        "\n",
        "#3RD LAYER\n",
        "'https://www.website.suffix/subject/one/two',\n",
        "'https://www.website.suffix/subject/two/one/two',\n",
        "'https://www.website.suffix/subject/three/one/two',\n",
        "\n",
        "    ]\n",
        "\n",
        "# Iterate through the paragraphs of the document\n",
        "for para in doc.paragraphs:\n",
        "    for keyword in keywords:\n",
        "        if keyword in para.text:\n",
        "            # If the keyword is found in the paragraph, remove it\n",
        "            para.text = para.text.replace(keyword, \"\")"
      ],
      "metadata": {
        "id": "-_cWjOXn3fs7"
      },
      "execution_count": null,
      "outputs": []
    },
    {
      "cell_type": "code",
      "source": [
        "# Loop through the paragraphs in reverse order and remove empty paragraphs\n",
        "for i in range(len(doc.paragraphs)-1, -1, -1):\n",
        "    if not doc.paragraphs[i].text.strip():\n",
        "        # Remove the paragraph if it is empty\n",
        "        p = doc.paragraphs[i]\n",
        "        p._element.getparent().remove(p._element)"
      ],
      "metadata": {
        "id": "csQyI7zZa_qJ"
      },
      "execution_count": null,
      "outputs": []
    },
    {
      "cell_type": "code",
      "source": [
        "# Add , after all entries beginning in '\n",
        "for para in doc.paragraphs:\n",
        "    if para.text.startswith(\"'\"):\n",
        "        para.text += \",\""
      ],
      "metadata": {
        "id": "FTfDSZ-0CvcN"
      },
      "execution_count": null,
      "outputs": []
    },
    {
      "cell_type": "code",
      "source": [
        "# PRINT: Iterate through each paragraph in the document\n",
        "for paragraph in doc.paragraphs:\n",
        "  # Print the text of the paragraph\n",
        "  print(paragraph.text)"
      ],
      "metadata": {
        "id": "60-KQ9QxaqUG"
      },
      "execution_count": null,
      "outputs": []
    },
    {
      "cell_type": "code",
      "source": [
        "# UPDATE 'urls' IN 'search' "
      ],
      "metadata": {
        "id": "71B0I5igboxH"
      },
      "execution_count": null,
      "outputs": []
    },
    {
      "cell_type": "code",
      "source": [
        "# Convert the Word file to a Text file and download\n",
        "!pip install docx2txt\n",
        "from google.colab import files\n",
        "import docx2txt\n",
        "\n",
        "# Upload the word document from the desktop\n",
        "uploaded = files.upload()\n",
        "\n",
        "for name, data in uploaded.items():\n",
        "    with open(name, 'wb') as f:\n",
        "        f.write(data)\n",
        "    print(f'File \"{name}\" was imported successfully!')\n",
        "    \n",
        "    # Extract text from the word document\n",
        "    text = docx2txt.process(name)\n",
        "\n",
        "    # Remove blank spaces and newline characters\n",
        "    text = text.replace(\"\\n\", \" \")\n",
        "    text = \" \".join(text.split())\n",
        "\n",
        "    # Save the text to a file\n",
        "    with open(name+\".txt\", \"w\") as text_file:\n",
        "        text_file.write(text)\n",
        "        \n",
        "    # Download the text file\n",
        "    files.download(name+\".txt\")"
      ],
      "metadata": {
        "id": "dJGnQ1r5kqRa"
      },
      "execution_count": null,
      "outputs": []
    }
  ]
}