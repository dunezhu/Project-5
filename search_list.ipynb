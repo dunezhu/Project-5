{
  "nbformat": 4,
  "nbformat_minor": 0,
  "metadata": {
    "colab": {
      "provenance": [],
      "authorship_tag": "ABX9TyPFh1UUfB6PdfHnLZnIet1y"
    },
    "kernelspec": {
      "name": "python3",
      "display_name": "Python 3"
    },
    "language_info": {
      "name": "python"
    }
  },
  "cells": [
    {
      "cell_type": "code",
      "source": [
        "#1 Import the necessary libraries\n",
        "!pip install python-docx\n",
        "import docx\n",
        "from google.colab import files\n",
        "\n",
        "# Select the Word file from your Local Machine\n",
        "uploaded = files.upload()\n",
        "\n",
        "# Open the Word file\n",
        "doc = docx.Document(list(uploaded.keys())[0])\n",
        "\n",
        "#CHANGE THE GOOGLE DOC NAME WITH EACH DOWNLOAD TO LOCAL MACHINE AS COLAB SAVES PREVIOUS NAME IN MEMORY"
      ],
      "metadata": {
        "id": "oiqjS2vyUB83"
      },
      "execution_count": null,
      "outputs": []
    },
    {
      "cell_type": "code",
      "source": [
        "###SEARCH PROGRAM CAN ONLY CREATE A LIST OF URLS FOR A LIMITED NUMBER OF URLS ON INITIAL LIST WITHOUT TRUNCATING AND NOW DOCUMENTS THE BASE URL"
      ],
      "metadata": {
        "id": "vw7uT4IpMErM"
      },
      "execution_count": null,
      "outputs": []
    },
    {
      "cell_type": "code",
      "source": [
        "#2 PRINT: Iterate through each paragraph in the document\n",
        "for paragraph in doc.paragraphs:\n",
        "  # Print the text of the paragraph\n",
        "  print(paragraph.text)"
      ],
      "metadata": {
        "id": "OBKCXGHVUzM4"
      },
      "execution_count": null,
      "outputs": []
    },
    {
      "cell_type": "code",
      "source": [
        "#3 Check if the line is equal to '/' and delete\n",
        "for para in doc.paragraphs:\n",
        "    if para.text == '/':\n",
        "        para.text = \"\""
      ],
      "metadata": {
        "id": "ZdS1H-iFoLng"
      },
      "execution_count": 61,
      "outputs": []
    },
    {
      "cell_type": "code",
      "source": [
        "#4 Check if the line starts with '/node' and delete\n",
        "for para in doc.paragraphs:\n",
        "    if para.text.startswith('/node'):\n",
        "        para.text = \"\""
      ],
      "metadata": {
        "id": "XRnFFLbEpMbO"
      },
      "execution_count": 62,
      "outputs": []
    },
    {
      "cell_type": "code",
      "source": [
        "#5 Check if the line starts with '/file' and delete\n",
        "for para in doc.paragraphs:\n",
        "    if para.text.startswith('/file'):\n",
        "        para.text = \"\""
      ],
      "metadata": {
        "id": "yiD-adMHpxud"
      },
      "execution_count": 63,
      "outputs": []
    },
    {
      "cell_type": "code",
      "source": [
        "#6 Check if the line contains 'download' and delete\n",
        "for para in doc.paragraphs:\n",
        "    if 'download' in para.text:\n",
        "        para.text = \"\""
      ],
      "metadata": {
        "id": "Za9cOY1e9m5c"
      },
      "execution_count": 64,
      "outputs": []
    },
    {
      "cell_type": "code",
      "source": [
        "#7 Check if the line contains 'Search' and delete\n",
        "for para in doc.paragraphs:\n",
        "    if 'Search' in para.text:\n",
        "        para.text = \"\""
      ],
      "metadata": {
        "id": "e9e8D2MJCCKe"
      },
      "execution_count": 65,
      "outputs": []
    },
    {
      "cell_type": "code",
      "source": [
        "#8 Check if the line contains 'php' and delete\n",
        "for para in doc.paragraphs:\n",
        "    if 'php' in para.text:\n",
        "        para.text = \"\""
      ],
      "metadata": {
        "id": "ov-Eoe_ACMT8"
      },
      "execution_count": 66,
      "outputs": []
    },
    {
      "cell_type": "code",
      "source": [
        "#9 Check if the line contains 'javascript' and delete\n",
        "for para in doc.paragraphs:\n",
        "    # Check if the line contains 'javascript' and delete\n",
        "    if 'javascript' in para.text:\n",
        "        para.text = \"\""
      ],
      "metadata": {
        "id": "WD-l8DRrCUJt"
      },
      "execution_count": 67,
      "outputs": []
    },
    {
      "cell_type": "code",
      "source": [
        "#10 Check if the line contains 'google' and delete\n",
        "for para in doc.paragraphs:\n",
        "    if 'google' in para.text:\n",
        "        para.text = \"\""
      ],
      "metadata": {
        "id": "oBIyvOHBsRE6"
      },
      "execution_count": 68,
      "outputs": []
    },
    {
      "cell_type": "code",
      "source": [
        "#11 Check if the line contains 'instagram' and delete\n",
        "for para in doc.paragraphs:\n",
        "    if 'instagram' in para.text:\n",
        "        para.text = \"\""
      ],
      "metadata": {
        "id": "PJ58xrEisV2H"
      },
      "execution_count": 69,
      "outputs": []
    },
    {
      "cell_type": "code",
      "source": [
        "#12 Check if the line contains 'youtube' and delete\n",
        "for para in doc.paragraphs:\n",
        "    if 'youtube' in para.text:\n",
        "        para.text = \"\""
      ],
      "metadata": {
        "id": "KJp5d92PsZpx"
      },
      "execution_count": 70,
      "outputs": []
    },
    {
      "cell_type": "code",
      "source": [
        "#13 Check if the line contains 'twitter' and delete\n",
        "for para in doc.paragraphs:\n",
        "    if 'twitter' in para.text:\n",
        "        para.text = \"\""
      ],
      "metadata": {
        "id": "v9suwzkHsj9D"
      },
      "execution_count": 71,
      "outputs": []
    },
    {
      "cell_type": "code",
      "source": [
        "#14 Check if the line contains 'facebook' and delete\n",
        "for para in doc.paragraphs:\n",
        "    if 'facebook' in para.text:\n",
        "        para.text = \"\""
      ],
      "metadata": {
        "id": "cAGKvCwUsm6r"
      },
      "execution_count": 72,
      "outputs": []
    },
    {
      "cell_type": "code",
      "source": [
        "#15 Check if the line contains 'amazonaws' and delete\n",
        "for para in doc.paragraphs:\n",
        "    if 'amazonaws' in para.text:\n",
        "        para.text = \"\""
      ],
      "metadata": {
        "id": "tSzzKk647YW5"
      },
      "execution_count": 73,
      "outputs": []
    },
    {
      "cell_type": "code",
      "source": [
        "#2 PRINT: Iterate through each paragraph in the document\n",
        "for paragraph in doc.paragraphs:\n",
        "  # Print the text of the paragraph\n",
        "  print(paragraph.text)"
      ],
      "metadata": {
        "id": "TUuQ6-czqH3o"
      },
      "execution_count": null,
      "outputs": []
    },
    {
      "cell_type": "code",
      "source": [
        "#16a URL SPECIFIC: Add https://en.wikipedia.org before all entries beginning in /\n",
        "for para in doc.paragraphs:\n",
        "    if para.text.startswith('/') and not para.text.startswith('//'):\n",
        "        para.text = \"https://en.wikipedia.org\" + para.text"
      ],
      "metadata": {
        "id": "OUg_9QQvs6UT"
      },
      "execution_count": 75,
      "outputs": []
    },
    {
      "cell_type": "code",
      "source": [
        "#16b Check if the line contains '%' and delete\n",
        "for para in doc.paragraphs:\n",
        "    if '%' in para.text:\n",
        "        para.text = \"\""
      ],
      "metadata": {
        "id": "56vpc-cJyyNe"
      },
      "execution_count": 76,
      "outputs": []
    },
    {
      "cell_type": "code",
      "source": [
        "#16c Check if the line contains 'Cookie' and delete\n",
        "for para in doc.paragraphs:\n",
        "    if 'Cookie' in para.text:\n",
        "        para.text = \"\""
      ],
      "metadata": {
        "id": "B9LByYP60ZRe"
      },
      "execution_count": 77,
      "outputs": []
    },
    {
      "cell_type": "code",
      "source": [
        "#16d Check if the line contains 'stats' and delete\n",
        "for para in doc.paragraphs:\n",
        "    if 'stats' in para.text:\n",
        "        para.text = \"\""
      ],
      "metadata": {
        "id": "S_8hFRW8ZN0v"
      },
      "execution_count": 78,
      "outputs": []
    },
    {
      "cell_type": "code",
      "source": [
        "#17 Add https: before all entries beginning in //\n",
        "for para in doc.paragraphs:\n",
        "    if para.text.startswith('//'):\n",
        "        para.text = \"https:\" + para.text"
      ],
      "metadata": {
        "id": "RutmKw43dh-d"
      },
      "execution_count": 79,
      "outputs": []
    },
    {
      "cell_type": "code",
      "source": [
        "#18 Check if the line does not start with 'http' and delete\n",
        "for para in doc.paragraphs:\n",
        "    if not para.text.startswith(\"http\"):\n",
        "        para.text = \"\""
      ],
      "metadata": {
        "id": "X7lI6WZQtwXd"
      },
      "execution_count": 80,
      "outputs": []
    },
    {
      "cell_type": "code",
      "source": [
        "#19 Iterate through the paragraphs in the document and delete duplicates\n",
        "#Create a set to store unique lines\n",
        "unique_lines = set()\n",
        "\n",
        "for para in doc.paragraphs:\n",
        "    # If the line is not already in the set, add it\n",
        "    if para.text not in unique_lines:\n",
        "        unique_lines.add(para.text)\n",
        "    # If the line is already in the set, remove it\n",
        "    else:\n",
        "        para.text = \"\""
      ],
      "metadata": {
        "id": "L3mP1LJYt_qK"
      },
      "execution_count": 81,
      "outputs": []
    },
    {
      "cell_type": "code",
      "source": [
        "#20 Add ' before all entries beginning in http\n",
        "for para in doc.paragraphs:\n",
        "    if para.text.startswith('http'):\n",
        "        para.text = \"'\" + para.text"
      ],
      "metadata": {
        "id": "-owT4QoKZJSm"
      },
      "execution_count": 82,
      "outputs": []
    },
    {
      "cell_type": "code",
      "source": [
        "#21 Add ' after all entries beginning in http\n",
        "for para in doc.paragraphs:\n",
        "    if para.text.startswith(\"'http\"):\n",
        "        para.text += \"'\""
      ],
      "metadata": {
        "id": "rDwCLzM8baR4"
      },
      "execution_count": 83,
      "outputs": []
    },
    {
      "cell_type": "code",
      "source": [
        "###RUN STEP 22 IF THIS IS THE 1ST LAYER: \n",
        "###ELSE RUN STEP 27 IF THIS IS THE 2ND AND SUBSEQUENT LAYERS: RUN STEP 23 FIRST TO CREATE A LIST OF KEYWORDS FORMATTED \"'LIST'\": REPEAT THIS LINE FOR SUBSEQUENT LAYERS..."
      ],
      "metadata": {
        "id": "xcRg_za4KCAZ"
      },
      "execution_count": null,
      "outputs": []
    },
    {
      "cell_type": "code",
      "source": [
        "#22 1ST LAYER SPECIFIC: Check if the line is equal to the base URL and applicable outer URL(s) and delete for the -1st and PRECURSIVE LAYERS\n",
        "keywords = [\n",
        "\n",
        " \"'https://en.wikipedia.org/wiki/Main_Page'\", \"'https://en.wikipedia.org'\", \"'https://en.wikipedia.org/wiki/Wikipedia'\"\n",
        "\n",
        "    ]\n",
        "\n",
        "# Iterate through the paragraphs of the document\n",
        "for para in doc.paragraphs:\n",
        "    for keyword in keywords:\n",
        "        if keyword in para.text:\n",
        "            # If the keyword is found in the paragraph, remove it\n",
        "            para.text = para.text.replace(keyword, \"\")"
      ],
      "metadata": {
        "id": "CkjI3gzCfDxa"
      },
      "execution_count": 52,
      "outputs": []
    },
    {
      "cell_type": "code",
      "source": [
        "###JUMP TO STEP 24 IF THIS IS 2ND TIME THROUGH"
      ],
      "metadata": {
        "id": "ec0oq5gQHWF6"
      },
      "execution_count": null,
      "outputs": []
    },
    {
      "cell_type": "code",
      "source": [
        "#23a Add '\"' to all entries beginning in \"'\"\n",
        "for para in doc.paragraphs:\n",
        "    if para.text.startswith(\"'\"):\n",
        "        para.text = '\"' + para.text"
      ],
      "metadata": {
        "id": "ysPmd0SOwtow"
      },
      "execution_count": 53,
      "outputs": []
    },
    {
      "cell_type": "code",
      "source": [
        "#23b Add '\"' after all entries beginning in '\"'\n",
        "for para in doc.paragraphs:\n",
        "    if para.text.startswith('\"'):\n",
        "        para.text += '\"'"
      ],
      "metadata": {
        "id": "FJ9aEqLd9zho"
      },
      "execution_count": 54,
      "outputs": []
    },
    {
      "cell_type": "code",
      "source": [
        "#23c Add ',' after all entries beginning in '\"'\n",
        "for para in doc.paragraphs:\n",
        "    if para.text.startswith('\"'):\n",
        "        para.text += \",\""
      ],
      "metadata": {
        "id": "iM74XPEF-npq"
      },
      "execution_count": 55,
      "outputs": []
    },
    {
      "cell_type": "code",
      "source": [
        "###START BACK AT STEP 1 AFTER POPULATING \"'KEYWORDS LIST'\" INTO STEP 27 CODE"
      ],
      "metadata": {
        "id": "RRFyffPx-wVv"
      },
      "execution_count": null,
      "outputs": []
    },
    {
      "cell_type": "code",
      "source": [
        "#24 Add , after all entries beginning in '\n",
        "for para in doc.paragraphs:\n",
        "    if para.text.startswith(\"'\"):\n",
        "        para.text += \",\""
      ],
      "metadata": {
        "id": "FWlhRLgYqOGB"
      },
      "execution_count": 84,
      "outputs": []
    },
    {
      "cell_type": "code",
      "source": [
        "#2 PRINT: Iterate through each paragraph in the document\n",
        "for paragraph in doc.paragraphs:\n",
        "  # Print the text of the paragraph\n",
        "  print(paragraph.text)"
      ],
      "metadata": {
        "id": "z2Ky_2jKuHkm"
      },
      "execution_count": null,
      "outputs": []
    },
    {
      "cell_type": "code",
      "source": [
        "#25 Save the changes to a modified document\n",
        "doc.save('modified.docx')\n",
        "\n",
        "# Download the modified Word file\n",
        "files.download('modified.docx')"
      ],
      "metadata": {
        "id": "NBn__qNvVq7P"
      },
      "execution_count": null,
      "outputs": []
    },
    {
      "cell_type": "code",
      "source": [
        "#26 Convert the Word file to a Text file and download\n",
        "!pip install docx2txt\n",
        "from google.colab import files\n",
        "import docx2txt\n",
        "\n",
        "# Upload the word document from the desktop\n",
        "uploaded = files.upload()\n",
        "\n",
        "for name, data in uploaded.items():\n",
        "    with open(name, 'wb') as f:\n",
        "        f.write(data)\n",
        "    print(f'File \"{name}\" was imported successfully!')\n",
        "    \n",
        "    # Extract text from the word document\n",
        "    text = docx2txt.process(name)\n",
        "\n",
        "    # Remove blank spaces and newline characters\n",
        "    text = text.replace(\"\\n\", \" \")\n",
        "    text = \" \".join(text.split())\n",
        "\n",
        "    # Save the text to a file\n",
        "    with open(name+\".txt\", \"w\") as text_file:\n",
        "        text_file.write(text)\n",
        "        \n",
        "    # Download the text file\n",
        "    files.download(name+\".txt\")"
      ],
      "metadata": {
        "id": "VYp9UlIyxVK9"
      },
      "execution_count": null,
      "outputs": []
    },
    {
      "cell_type": "code",
      "source": [
        "###POPULATE 'keywords' IN STEP 26 FOR USE IN 2ND AND SUBSEQUENT LAYERS  "
      ],
      "metadata": {
        "id": "wsGH1YIJJzfZ"
      },
      "execution_count": null,
      "outputs": []
    },
    {
      "cell_type": "code",
      "source": [
        "#27 THIS IS FOR THE 2ND LAYER AND SUBSEQUENT LAYERS SPECIFIC: Define a list of recursive URLs to delete for the 2nd and SUBSEQUENT LAYER URL LIST SEARCH\n",
        "keywords = [\n",
        "\n",
        "\"'https://en.wikipedia.org/wiki/Help:Introduction'\", \"'https://en.wikipedia.org/wiki/Special:MyTalk'\", \"'https://en.wikipedia.org/wiki/Special:MyContributions'\", \"'https://en.wikipedia.org/wiki/Wikipedia:Contents'\", \"'https://en.wikipedia.org/wiki/Portal:Current_events'\", \"'https://en.wikipedia.org/wiki/Special:Random'\", \"'https://en.wikipedia.org/wiki/Wikipedia:About'\", \"'https://en.wikipedia.org/wiki/Wikipedia:Contact_us'\", \"'https://donate.wikimedia.org/wiki/Special:FundraiserRedirector?utm_source=donate&utm_medium=sidebar&utm_campaign=C13_en.wikipedia.org&uselang=en'\", \"'https://en.wikipedia.org/wiki/Help:Contents'\", \"'https://en.wikipedia.org/wiki/Wikipedia:Community_portal'\", \"'https://en.wikipedia.org/wiki/Special:RecentChanges'\", \"'https://en.wikipedia.org/wiki/Wikipedia:File_upload_wizard'\", \"'https://en.wikipedia.org/wiki/Special:WhatLinksHere/Main_Page'\", \"'https://en.wikipedia.org/wiki/Special:RecentChangesLinked/Main_Page'\", \"'https://en.wikipedia.org/wiki/Wikipedia:File_Upload_Wizard'\", \"'https://en.wikipedia.org/wiki/Special:SpecialPages'\", \"'https://www.wikidata.org/wiki/Special:EntityPage/Q5296'\", \"'https://commons.wikimedia.org/wiki/Main_Page'\", \"'https://www.mediawiki.org/wiki/MediaWiki'\", \"'https://meta.wikimedia.org/wiki/Main_Page'\", \"'https://wikisource.org/wiki/Main_Page'\", \"'https://species.wikimedia.org/wiki/Main_Page'\", \"'https://en.wikibooks.org/wiki/Main_Page'\", \"'https://www.wikidata.org/wiki/Wikidata:Main_Page'\", \"'https://wikimania.wikimedia.org/wiki/2022:Wikimania'\", \"'https://en.wikinews.org/wiki/Main_Page'\", \"'https://en.wikiquote.org/wiki/Main_Page'\", \"'https://en.wikisource.org/wiki/Main_Page'\", \"'https://en.wikiversity.org/wiki/Wikiversity:Main_Page'\", \"'https://en.wikivoyage.org/wiki/Main_Page'\", \"'https://en.wiktionary.org/wiki/Wiktionary:Main_Page'\", \"'https://en.wikipedia.org/wiki/Talk:Main_Page'\", \"'https://en.wikipedia.org/wiki/Free_content'\", \"'https://en.wikipedia.org/wiki/Encyclopedia'\", \"'https://en.wikipedia.org/wiki/Help:Introduction_to_Wikipedia'\", \"'https://en.wikipedia.org/wiki/Special:Statistics'\", \"'https://en.wikipedia.org/wiki/English_language'\", \"'https://en.wikipedia.org/wiki/SMS_Rheinland'\", \"'https://en.wikipedia.org/wiki/Nassau-class_battleship'\", \"'https://en.wikipedia.org/wiki/Dreadnought'\", \"'https://en.wikipedia.org/wiki/Imperial_German_Navy'\", \"'https://en.wikipedia.org/wiki/Ship_class'\", \"'https://en.wikipedia.org/wiki/SMS_Nassau'\", \"'https://en.wikipedia.org/wiki/SMS_Posen'\", \"'https://en.wikipedia.org/wiki/SMS_Westfalen'\", \"'https://en.wikipedia.org/wiki/Battleship'\", \"'https://en.wikipedia.org/wiki/Main_battery'\", \"'https://en.wikipedia.org/wiki/Gun_turret'\", \"'https://en.wikipedia.org/wiki/I_Battle_Squadron'\", \"'https://en.wikipedia.org/wiki/High_Seas_Fleet'\", \"'https://en.wikipedia.org/wiki/World_War_I'\", \"'https://en.wikipedia.org/wiki/Grand_Fleet'\", \"'https://en.wikipedia.org/wiki/Battle_of_Jutland'\", \"'https://en.wikipedia.org/wiki/HMS_Black_Prince_(1904)'\", \"'https://en.wikipedia.org/wiki/Armored_cruiser'\", \"'https://en.wikipedia.org/wiki/Baltic_Sea'\", \"'https://en.wikipedia.org/wiki/Russian_Empire'\", \"'https://en.wikipedia.org/wiki/Allies_of_World_War_I'\", \"'https://en.wikipedia.org/wiki/Ship_breaking'\", \"'https://en.wikipedia.org/wiki/Wikipedia:Featured_topics'\", \"'https://en.wikipedia.org/wiki/Wikipedia:Featured_topics/Battleships_of_Germany'\", \"'https://en.wikipedia.org/wiki/Persecution_of_homosexuals_in_Nazi_Germany'\", \"'https://en.wikipedia.org/wiki/Dime_Mystery_Magazine'\", \"'https://lists.wikimedia.org/postorius/lists/daily-article-l.lists.wikimedia.org/'\", \"'https://en.wikipedia.org/wiki/Wikipedia:Featured_articles'\", \"'https://en.wikipedia.org/wiki/Madonna'\", \"'https://en.wikipedia.org/wiki/Diana_and_Endymion_(Langlois)'\", \"'https://en.wikipedia.org/wiki/Phoenixonian_Institute'\", \"'https://en.wikipedia.org/wiki/Oscar_Ortiz_(Bolivian_politician)'\", \"'https://en.wikipedia.org/wiki/2019_Bolivian_general_election'\", \"'https://en.wikipedia.org/wiki/Running_mate'\", \"'https://en.wikipedia.org/wiki/Ash_Street_shootout'\", \"'https://en.wikipedia.org/wiki/Sinology'\", \"'https://en.wikipedia.org/wiki/Janaki_Ballabh'\", \"'https://en.wikipedia.org/wiki/Paul_Goodman'\", \"'https://en.wikipedia.org/wiki/Piotr_Sierzputowski'\", \"'https://en.wikipedia.org/wiki/Tomasz_Wiktorowski'\", \"'https://en.wikipedia.org/wiki/French_Open'\", \"'https://en.wikipedia.org/wiki/Olive_oil'\", \"'https://en.wikipedia.org/wiki/Wikipedia:Recent_additions'\", \"'https://en.wikipedia.org/wiki/Help:Your_first_article'\", \"'https://en.wikipedia.org/wiki/Template_talk:Did_you_know'\", \"'https://en.wikipedia.org/wiki/File:Brahim_Ghali_2.jpeg'\", \"'https://en.wikipedia.org/wiki/Chris_Hipkins'\", \"'https://en.wikipedia.org/wiki/Jacinda_Ardern'\", \"'https://en.wikipedia.org/wiki/Prime_Minister_of_New_Zealand'\", \"'https://en.wikipedia.org/wiki/Leader_of_the_New_Zealand_Labour_Party'\", \"'https://en.wikipedia.org/wiki/Resignation_of_Jacinda_Ardern'\", \"'https://en.wikipedia.org/wiki/Brahim_Ghali'\", \"'https://en.wikipedia.org/wiki/16th_Congress_of_the_POLISARIO_Front'\", \"'https://en.wikipedia.org/wiki/Polisario_Front'\", \"'https://en.wikipedia.org/wiki/President_of_the_Sahrawi_Arab_Democratic_Republic'\", \"'https://en.wikipedia.org/wiki/2023_Brovary_helicopter_crash'\", \"'https://en.wikipedia.org/wiki/Kyiv'\", \"'https://en.wikipedia.org/wiki/Denys_Monastyrsky'\", \"'https://en.wikipedia.org/wiki/2023_Antiguan_general_election'\", \"'https://en.wikipedia.org/wiki/Antigua_and_Barbuda_Labour_Party'\", \"'https://en.wikipedia.org/wiki/House_of_Representatives_(Antigua_and_Barbuda)'\", \"'https://en.wikipedia.org/wiki/Yeti_Airlines_Flight_691'\", \"'https://en.wikipedia.org/wiki/Pokhara'\", \"'https://en.wikipedia.org/wiki/2022_Russian_invasion_of_Ukraine'\", \"'https://en.wikipedia.org/wiki/Deaths_in_2023'\", \"'https://en.wikipedia.org/wiki/Nano_Riantiarno'\", \"'https://en.wikipedia.org/wiki/Clytus_Gottwald'\", \"'https://en.wikipedia.org/wiki/Gwen_Knapp'\", \"'https://en.wikipedia.org/wiki/Lin_Brehmer'\", \"'https://en.wikipedia.org/wiki/Jim_Molan'\", \"'https://en.wikipedia.org/wiki/Stella_Chiweshe'\", \"'https://en.wikipedia.org/wiki/Wikipedia:In_the_news/Candidates'\", \"'https://en.wikipedia.org/wiki/January_28'\", \"'https://en.wikipedia.org/wiki/File:Lego_Color_Bricks.jpg'\", \"'https://en.wikipedia.org/wiki/1142'\", \"'https://en.wikipedia.org/wiki/Song_dynasty'\", \"'https://en.wikipedia.org/wiki/Yue_Fei'\", \"'https://en.wikipedia.org/wiki/1547'\", \"'https://en.wikipedia.org/wiki/Edward_VI'\", \"'https://en.wikipedia.org/wiki/Protestantism'\", \"'https://en.wikipedia.org/wiki/1813'\", \"'https://en.wikipedia.org/wiki/Jane_Austen'\", \"'https://en.wikipedia.org/wiki/Pride_and_Prejudice'\", \"'https://en.wikipedia.org/wiki/1958'\", \"'https://en.wikipedia.org/wiki/The_Lego_Group'\", \"'https://en.wikipedia.org/wiki/Lego'\", \"'https://en.wikipedia.org/wiki/1984'\", \"'https://en.wikipedia.org/wiki/Tropical_Storm_Domoina'\", \"'https://en.wikipedia.org/wiki/Paul_Luther'\", \"'https://en.wikipedia.org/wiki/Colette'\", \"'https://en.wikipedia.org/wiki/Paul_Henderson'\", \"'https://en.wikipedia.org/wiki/January_27'\", \"'https://en.wikipedia.org/wiki/January_29'\", \"'https://en.wikipedia.org/wiki/Wikipedia:Selected_anniversaries/January'\", \"'https://en.wikipedia.org/wiki/List_of_days_of_the_year'\", \"'https://en.wikipedia.org/wiki/File:PHI-102b-Japanese_Government_(Philippines)-1_Centavo_(1942).jpg'\", \"'https://en.wikipedia.org/wiki/File:PHI-103b-Japanese_Government_(Philippines)-5_Centavos_(1942).jpg'\", \"'https://en.wikipedia.org/wiki/File:PHI-104b-Japanese_Government_(Philippines)-10_Centavos_(1942).jpg'\", \"'https://en.wikipedia.org/wiki/File:PHI-105b-Japanese_Government_(Philippines)-50_Centavos_(1942).jpg'\", \"'https://en.wikipedia.org/wiki/File:PHI-106-Japanese_Government_(Philippines)-1_Peso_(1942).jpg'\", \"'https://en.wikipedia.org/wiki/File:PHI-107A-Japanese_Government_(Philippines)-5_Pesos_(1942).jpg'\", \"'https://en.wikipedia.org/wiki/File:PHI-108-Japanese_Government_(Philippines)-10_Pesos_(1942).jpg'\", \"'https://en.wikipedia.org/wiki/File:PHI-109-Japanese_Government_(Philippines)-1_Peso_(1943).jpg'\", \"'https://en.wikipedia.org/wiki/File:PHI-110-Japanese_Government_(Philippines)-5_Pesos_(1943).jpg'\", \"'https://en.wikipedia.org/wiki/File:PHI-111-Japanese_Government_(Philippines)-10_Pesos_(1943).jpg'\", \"'https://en.wikipedia.org/wiki/File:PHI-112-Japanese_Government_(Philippines)-100_Pesos_(1944).jpg'\", \"'https://en.wikipedia.org/wiki/File:PHI-114-Japanese_Government_(Philippines)-500_Pesos_(1944).jpg'\", \"'https://en.wikipedia.org/wiki/File:PHI-115-Japanese_Government_(Philippines)-1000_Pesos_(1945).jpg'\", \"'https://en.wikipedia.org/wiki/Japanese_government-issued_Philippine_peso'\", \"'https://en.wikipedia.org/wiki/Fiat_money'\", \"'https://en.wikipedia.org/wiki/World_War_II'\", \"'https://en.wikipedia.org/wiki/Japanese_occupation_of_the_Philippines'\", \"'https://en.wikipedia.org/wiki/Japanese_invasion_money'\", \"'https://en.wikipedia.org/wiki/Hyperinflation'\", \"'https://en.wikipedia.org/wiki/Empire_of_Japan'\", \"'https://en.wikipedia.org/wiki/National_Numismatic_Collection'\", \"'https://en.wikipedia.org/wiki/User:Godot13'\", \"'https://en.wikipedia.org/wiki/Template:POTD/2023-01-27'\", \"'https://en.wikipedia.org/wiki/Template:POTD/2023-01-26'\", \"'https://en.wikipedia.org/wiki/Template:POTD/2023-01-25'\", \"'https://en.wikipedia.org/wiki/Wikipedia:Picture_of_the_day/Archive'\", \"'https://en.wikipedia.org/wiki/Wikipedia:Featured_pictures'\", \"'https://en.wikipedia.org/wiki/Wikipedia:Village_pump'\", \"'https://en.wikipedia.org/wiki/Wikipedia:News'\", \"'https://en.wikipedia.org/wiki/Wikipedia:Teahouse'\", \"'https://en.wikipedia.org/wiki/Wikipedia:Help_desk'\", \"'https://en.wikipedia.org/wiki/Wikipedia:Reference_desk'\", \"'https://en.wikipedia.org/wiki/Wikipedia:Contents/Portals'\", \"'https://en.wikipedia.org/wiki/Wikimedia_Foundation'\", \"'https://wikimediafoundation.org/our-work/wikimedia-projects/'\", \"'https://commons.wikimedia.org/wiki/'\", \"'https://www.mediawiki.org/wiki/'\", \"'https://meta.wikimedia.org/wiki/'\", \"'https://en.wikibooks.org/wiki/'\", \"'https://www.wikidata.org/wiki/'\", \"'https://en.wikinews.org/wiki/'\", \"'https://en.wikiquote.org/wiki/'\", \"'https://en.wikisource.org/wiki/'\", \"'https://species.wikimedia.org/wiki/'\", \"'https://en.wikiversity.org/wiki/'\", \"'https://en.wikivoyage.org/wiki/'\", \"'https://en.wiktionary.org/wiki/'\", \"'https://meta.wikimedia.org/wiki/List_of_Wikipedias'\", \"'https://ar.wikipedia.org/wiki/'\", \"'https://de.wikipedia.org/wiki/'\", \"'https://es.wikipedia.org/wiki/'\", \"'https://fr.wikipedia.org/wiki/'\", \"'https://it.wikipedia.org/wiki/'\", \"'https://nl.wikipedia.org/wiki/'\", \"'https://ja.wikipedia.org/wiki/'\", \"'https://pl.wikipedia.org/wiki/'\", \"'https://pt.wikipedia.org/wiki/'\", \"'https://ru.wikipedia.org/wiki/'\", \"'https://sv.wikipedia.org/wiki/'\", \"'https://uk.wikipedia.org/wiki/'\", \"'https://vi.wikipedia.org/wiki/'\", \"'https://zh.wikipedia.org/wiki/'\", \"'https://id.wikipedia.org/wiki/'\", \"'https://ms.wikipedia.org/wiki/'\", \"'https://zh-min-nan.wikipedia.org/wiki/'\", \"'https://bg.wikipedia.org/wiki/'\", \"'https://ca.wikipedia.org/wiki/'\", \"'https://cs.wikipedia.org/wiki/'\", \"'https://da.wikipedia.org/wiki/'\", \"'https://eo.wikipedia.org/wiki/'\", \"'https://eu.wikipedia.org/wiki/'\", \"'https://fa.wikipedia.org/wiki/'\", \"'https://he.wikipedia.org/wiki/'\", \"'https://ko.wikipedia.org/wiki/'\", \"'https://hu.wikipedia.org/wiki/'\", \"'https://no.wikipedia.org/wiki/'\", \"'https://ro.wikipedia.org/wiki/'\", \"'https://sr.wikipedia.org/wiki/'\", \"'https://sh.wikipedia.org/wiki/'\", \"'https://fi.wikipedia.org/wiki/'\", \"'https://tr.wikipedia.org/wiki/'\", \"'https://ast.wikipedia.org/wiki/'\", \"'https://bn.wikipedia.org/wiki/'\", \"'https://bs.wikipedia.org/wiki/'\", \"'https://et.wikipedia.org/wiki/'\", \"'https://el.wikipedia.org/wiki/'\", \"'https://simple.wikipedia.org/wiki/'\", \"'https://ga.wikipedia.org/wiki/'\", \"'https://gl.wikipedia.org/wiki/'\", \"'https://hr.wikipedia.org/wiki/'\", \"'https://lv.wikipedia.org/wiki/'\", \"'https://lt.wikipedia.org/wiki/'\", \"'https://ml.wikipedia.org/wiki/'\", \"'https://mk.wikipedia.org/wiki/'\", \"'https://nn.wikipedia.org/wiki/'\", \"'https://sq.wikipedia.org/wiki/'\", \"'https://sk.wikipedia.org/wiki/'\", \"'https://sl.wikipedia.org/wiki/'\", \"'https://th.wikipedia.org/wiki/'\", \"'https://ka.wikipedia.org/wiki/'\", \"'https://en.wikipedia.org/wiki/Wikipedia:Text_of_the_Creative_Commons_Attribution-ShareAlike_3.0_Unported_License'\", \"'https://creativecommons.org/licenses/by-sa/3.0/'\", \"'https://foundation.wikimedia.org/wiki/Terms_of_Use'\", \"'https://foundation.wikimedia.org/wiki/Privacy_policy'\", \"'https://www.wikimediafoundation.org/'\", \"'https://en.wikipedia.org/wiki/Wikipedia:General_disclaimer'\", \"'https://developer.wikimedia.org'\", \"'https://wikimediafoundation.org/'\", \"'https://www.mediawiki.org/'\",\n",
        "\n",
        "    ]\n",
        "\n",
        "# Iterate through the paragraphs of the document\n",
        "for para in doc.paragraphs:\n",
        "    for keyword in keywords:\n",
        "        if keyword in para.text:\n",
        "            # If the keyword is found in the paragraph, remove it\n",
        "            para.text = para.text.replace(keyword, \"\")"
      ],
      "metadata": {
        "id": "PE4mC_OUJVP1"
      },
      "execution_count": null,
      "outputs": []
    }
  ]
}