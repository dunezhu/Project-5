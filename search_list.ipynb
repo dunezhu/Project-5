{
  "nbformat": 4,
  "nbformat_minor": 0,
  "metadata": {
    "colab": {
      "provenance": [],
      "authorship_tag": "ABX9TyMw3QYB+vrOAy6IZ9GMaiNx"
    },
    "kernelspec": {
      "name": "python3",
      "display_name": "Python 3"
    },
    "language_info": {
      "name": "python"
    }
  },
  "cells": [
    {
      "cell_type": "code",
      "source": [
        "#1 Import the necessary libraries\n",
        "!pip install python-docx\n",
        "import docx\n",
        "from google.colab import files\n",
        "\n",
        "# Select the Word file from your Local Machine\n",
        "uploaded = files.upload()\n",
        "\n",
        "# Open the Word file\n",
        "doc = docx.Document(list(uploaded.keys())[0])\n",
        "\n",
        "#CHANGE THE GOOGLE DOC NAME WITH EACH DOWNLOAD TO LOCAL MACHINE AS COLAB SAVES PREVIOUS NAME IN MEMORY"
      ],
      "metadata": {
        "id": "oiqjS2vyUB83"
      },
      "execution_count": null,
      "outputs": []
    },
    {
      "cell_type": "code",
      "source": [
        "#2 PRINT: Iterate through each paragraph in the document\n",
        "for paragraph in doc.paragraphs:\n",
        "  # Print the text of the paragraph\n",
        "  print(paragraph.text)"
      ],
      "metadata": {
        "id": "OBKCXGHVUzM4"
      },
      "execution_count": null,
      "outputs": []
    },
    {
      "cell_type": "code",
      "source": [
        "#3 Check if the line is equal to '/' and delete\n",
        "for para in doc.paragraphs:\n",
        "    if para.text == '/':\n",
        "        para.text = \"\""
      ],
      "metadata": {
        "id": "ZdS1H-iFoLng"
      },
      "execution_count": 38,
      "outputs": []
    },
    {
      "cell_type": "code",
      "source": [
        "#4 Check if the line starts with '/node' and delete\n",
        "for para in doc.paragraphs:\n",
        "    if para.text.startswith('/node'):\n",
        "        para.text = \"\""
      ],
      "metadata": {
        "id": "XRnFFLbEpMbO"
      },
      "execution_count": 39,
      "outputs": []
    },
    {
      "cell_type": "code",
      "source": [
        "#5 Check if the line starts with '/file' and delete\n",
        "for para in doc.paragraphs:\n",
        "    if para.text.startswith('/file'):\n",
        "        para.text = \"\""
      ],
      "metadata": {
        "id": "yiD-adMHpxud"
      },
      "execution_count": 40,
      "outputs": []
    },
    {
      "cell_type": "code",
      "source": [
        "#6 Check if the line contains 'download' and delete\n",
        "for para in doc.paragraphs:\n",
        "    if 'download' in para.text:\n",
        "        para.text = \"\""
      ],
      "metadata": {
        "id": "Za9cOY1e9m5c"
      },
      "execution_count": 41,
      "outputs": []
    },
    {
      "cell_type": "code",
      "source": [
        "#7 Check if the line contains 'Search' and delete\n",
        "for para in doc.paragraphs:\n",
        "    if 'Search' in para.text:\n",
        "        para.text = \"\""
      ],
      "metadata": {
        "id": "e9e8D2MJCCKe"
      },
      "execution_count": 42,
      "outputs": []
    },
    {
      "cell_type": "code",
      "source": [
        "#8 Check if the line contains 'php' and delete\n",
        "for para in doc.paragraphs:\n",
        "    if 'php' in para.text:\n",
        "        para.text = \"\""
      ],
      "metadata": {
        "id": "ov-Eoe_ACMT8"
      },
      "execution_count": 43,
      "outputs": []
    },
    {
      "cell_type": "code",
      "source": [
        "#9 Check if the line contains 'javascript' and delete\n",
        "for para in doc.paragraphs:\n",
        "    # Check if the line contains 'javascript' and delete\n",
        "    if 'javascript' in para.text:\n",
        "        para.text = \"\""
      ],
      "metadata": {
        "id": "WD-l8DRrCUJt"
      },
      "execution_count": 44,
      "outputs": []
    },
    {
      "cell_type": "code",
      "source": [
        "#10 Check if the line contains 'google' and delete\n",
        "for para in doc.paragraphs:\n",
        "    if 'google' in para.text:\n",
        "        para.text = \"\""
      ],
      "metadata": {
        "id": "oBIyvOHBsRE6"
      },
      "execution_count": 45,
      "outputs": []
    },
    {
      "cell_type": "code",
      "source": [
        "#11 Check if the line contains 'instagram' and delete\n",
        "for para in doc.paragraphs:\n",
        "    if 'instagram' in para.text:\n",
        "        para.text = \"\""
      ],
      "metadata": {
        "id": "PJ58xrEisV2H"
      },
      "execution_count": 46,
      "outputs": []
    },
    {
      "cell_type": "code",
      "source": [
        "#12 Check if the line contains 'youtube' and delete\n",
        "for para in doc.paragraphs:\n",
        "    if 'youtube' in para.text:\n",
        "        para.text = \"\""
      ],
      "metadata": {
        "id": "KJp5d92PsZpx"
      },
      "execution_count": 47,
      "outputs": []
    },
    {
      "cell_type": "code",
      "source": [
        "#13 Check if the line contains 'twitter' and delete\n",
        "for para in doc.paragraphs:\n",
        "    if 'twitter' in para.text:\n",
        "        para.text = \"\""
      ],
      "metadata": {
        "id": "v9suwzkHsj9D"
      },
      "execution_count": 48,
      "outputs": []
    },
    {
      "cell_type": "code",
      "source": [
        "#14 Check if the line contains 'facebook' and delete\n",
        "for para in doc.paragraphs:\n",
        "    if 'facebook' in para.text:\n",
        "        para.text = \"\""
      ],
      "metadata": {
        "id": "cAGKvCwUsm6r"
      },
      "execution_count": 49,
      "outputs": []
    },
    {
      "cell_type": "code",
      "source": [
        "#15 Check if the line contains 'amazonaws' and delete\n",
        "for para in doc.paragraphs:\n",
        "    if 'amazonaws' in para.text:\n",
        "        para.text = \"\""
      ],
      "metadata": {
        "id": "tSzzKk647YW5"
      },
      "execution_count": 50,
      "outputs": []
    },
    {
      "cell_type": "code",
      "source": [
        "#2 PRINT: Iterate through each paragraph in the document\n",
        "for paragraph in doc.paragraphs:\n",
        "  # Print the text of the paragraph\n",
        "  print(paragraph.text)"
      ],
      "metadata": {
        "id": "TUuQ6-czqH3o"
      },
      "execution_count": null,
      "outputs": []
    },
    {
      "cell_type": "code",
      "source": [
        "#16a URL SPECIFIC: Add https://en.wikipedia.org before all entries beginning in /\n",
        "for para in doc.paragraphs:\n",
        "    if para.text.startswith('/'):\n",
        "        para.text = \"https://en.wikipedia.org\" + para.text"
      ],
      "metadata": {
        "id": "OUg_9QQvs6UT"
      },
      "execution_count": 52,
      "outputs": []
    },
    {
      "cell_type": "code",
      "source": [
        "#16b Check if the line contains '%' and delete\n",
        "for para in doc.paragraphs:\n",
        "    if '%' in para.text:\n",
        "        para.text = \"\""
      ],
      "metadata": {
        "id": "56vpc-cJyyNe"
      },
      "execution_count": 53,
      "outputs": []
    },
    {
      "cell_type": "code",
      "source": [
        "#16c Check if the line contains 'Cookie' and delete\n",
        "for para in doc.paragraphs:\n",
        "    if 'Cookie' in para.text:\n",
        "        para.text = \"\""
      ],
      "metadata": {
        "id": "B9LByYP60ZRe"
      },
      "execution_count": 54,
      "outputs": []
    },
    {
      "cell_type": "code",
      "source": [
        "#16d Check if the line contains 'Википедија' and delete\n",
        "for para in doc.paragraphs:\n",
        "    if 'Википедија' in para.text:\n",
        "        para.text = \"\""
      ],
      "metadata": {
        "id": "3hEPNqLBAVFa"
      },
      "execution_count": null,
      "outputs": []
    },
    {
      "cell_type": "code",
      "source": [
        "#17 Check if the line does not start with 'http' and delete\n",
        "for para in doc.paragraphs:\n",
        "    if not para.text.startswith(\"http\"):\n",
        "        para.text = \"\""
      ],
      "metadata": {
        "id": "X7lI6WZQtwXd"
      },
      "execution_count": 56,
      "outputs": []
    },
    {
      "cell_type": "code",
      "source": [
        "#18 Iterate through the paragraphs in the document and delete duplicates\n",
        "#Create a set to store unique lines\n",
        "unique_lines = set()\n",
        "\n",
        "for para in doc.paragraphs:\n",
        "    # If the line is not already in the set, add it\n",
        "    if para.text not in unique_lines:\n",
        "        unique_lines.add(para.text)\n",
        "    # If the line is already in the set, remove it\n",
        "    else:\n",
        "        para.text = \"\""
      ],
      "metadata": {
        "id": "L3mP1LJYt_qK"
      },
      "execution_count": 57,
      "outputs": []
    },
    {
      "cell_type": "code",
      "source": [
        "#19 Add ' before all entries beginning in http\n",
        "for para in doc.paragraphs:\n",
        "    if para.text.startswith('http'):\n",
        "        para.text = \"'\" + para.text"
      ],
      "metadata": {
        "id": "-owT4QoKZJSm"
      },
      "execution_count": 58,
      "outputs": []
    },
    {
      "cell_type": "code",
      "source": [
        "#20 Add ' after all entries beginning in http\n",
        "for para in doc.paragraphs:\n",
        "    if para.text.startswith(\"'http\"):\n",
        "        para.text += \"'\""
      ],
      "metadata": {
        "id": "rDwCLzM8baR4"
      },
      "execution_count": 59,
      "outputs": []
    },
    {
      "cell_type": "code",
      "source": [
        "###RUN STEP 21 IF THIS IS THE 1ST LAYER: \n",
        "###ELSE RUN STEP 25 IF THIS IS THE 2ND AND SUBSEQUENT LAYERS\n",
        "###RUN STEP 22 FIRST TO CREATE A LIST OF KEYWORDS FORMATTED \"'LIST'\""
      ],
      "metadata": {
        "id": "xcRg_za4KCAZ"
      },
      "execution_count": null,
      "outputs": []
    },
    {
      "cell_type": "code",
      "source": [
        "#21 1ST LAYER SPECIFIC: Check if the line is equal to the base URL and applicable outer URL(s) and delete for the -1st and PRECURSIVE LAYERS\n",
        "keywords = [\n",
        "\n",
        " \"'https://en.wikipedia.org/wiki/Main_Page'\", \"'https://en.wikipedia.org'\", \"'https://en.wikipedia.org/wiki/Wikipedia'\"\n",
        "\n",
        "    ]\n",
        "\n",
        "# Iterate through the paragraphs of the document\n",
        "for para in doc.paragraphs:\n",
        "    for keyword in keywords:\n",
        "        if keyword in para.text:\n",
        "            # If the keyword is found in the paragraph, remove it\n",
        "            para.text = para.text.replace(keyword, \"\")"
      ],
      "metadata": {
        "id": "CkjI3gzCfDxa"
      },
      "execution_count": 60,
      "outputs": []
    },
    {
      "cell_type": "code",
      "source": [
        "#22a Add '\"' to all entries beginning in \"'\"\n",
        "for para in doc.paragraphs:\n",
        "    if para.text.startswith(\"'\"):\n",
        "        para.text = '\"' + para.text"
      ],
      "metadata": {
        "id": "ysPmd0SOwtow"
      },
      "execution_count": null,
      "outputs": []
    },
    {
      "cell_type": "code",
      "source": [
        "#22b Add '\"' after all entries beginning in '\"'\n",
        "for para in doc.paragraphs:\n",
        "    if para.text.startswith('\"'):\n",
        "        para.text += '\"'"
      ],
      "metadata": {
        "id": "FJ9aEqLd9zho"
      },
      "execution_count": 64,
      "outputs": []
    },
    {
      "cell_type": "code",
      "source": [
        "#22c Add ',' after all entries beginning in '\"'\n",
        "for para in doc.paragraphs:\n",
        "    if para.text.startswith('\"'):\n",
        "        para.text += \",\""
      ],
      "metadata": {
        "id": "iM74XPEF-npq"
      },
      "execution_count": 66,
      "outputs": []
    },
    {
      "cell_type": "code",
      "source": [],
      "metadata": {
        "id": "RRFyffPx-wVv"
      },
      "execution_count": null,
      "outputs": []
    },
    {
      "cell_type": "code",
      "source": [
        "#23 Add , after all entries beginning in '\n",
        "for para in doc.paragraphs:\n",
        "    if para.text.startswith(\"'\"):\n",
        "        para.text += \",\""
      ],
      "metadata": {
        "id": "FWlhRLgYqOGB"
      },
      "execution_count": null,
      "outputs": []
    },
    {
      "cell_type": "code",
      "source": [
        "#2 PRINT: Iterate through each paragraph in the document\n",
        "for paragraph in doc.paragraphs:\n",
        "  # Print the text of the paragraph\n",
        "  print(paragraph.text)"
      ],
      "metadata": {
        "id": "z2Ky_2jKuHkm"
      },
      "execution_count": null,
      "outputs": []
    },
    {
      "cell_type": "code",
      "source": [
        "#24 Save the changes to a modified document\n",
        "doc.save('modified.docx')\n",
        "\n",
        "# Download the modified Word file\n",
        "files.download('modified.docx')"
      ],
      "metadata": {
        "id": "NBn__qNvVq7P",
        "colab": {
          "base_uri": "https://localhost:8080/",
          "height": 17
        },
        "outputId": "89a0efb4-f0b9-4852-d752-4d91ee78cce9"
      },
      "execution_count": 68,
      "outputs": [
        {
          "output_type": "display_data",
          "data": {
            "text/plain": [
              "<IPython.core.display.Javascript object>"
            ],
            "application/javascript": [
              "\n",
              "    async function download(id, filename, size) {\n",
              "      if (!google.colab.kernel.accessAllowed) {\n",
              "        return;\n",
              "      }\n",
              "      const div = document.createElement('div');\n",
              "      const label = document.createElement('label');\n",
              "      label.textContent = `Downloading \"${filename}\": `;\n",
              "      div.appendChild(label);\n",
              "      const progress = document.createElement('progress');\n",
              "      progress.max = size;\n",
              "      div.appendChild(progress);\n",
              "      document.body.appendChild(div);\n",
              "\n",
              "      const buffers = [];\n",
              "      let downloaded = 0;\n",
              "\n",
              "      const channel = await google.colab.kernel.comms.open(id);\n",
              "      // Send a message to notify the kernel that we're ready.\n",
              "      channel.send({})\n",
              "\n",
              "      for await (const message of channel.messages) {\n",
              "        // Send a message to notify the kernel that we're ready.\n",
              "        channel.send({})\n",
              "        if (message.buffers) {\n",
              "          for (const buffer of message.buffers) {\n",
              "            buffers.push(buffer);\n",
              "            downloaded += buffer.byteLength;\n",
              "            progress.value = downloaded;\n",
              "          }\n",
              "        }\n",
              "      }\n",
              "      const blob = new Blob(buffers, {type: 'application/binary'});\n",
              "      const a = document.createElement('a');\n",
              "      a.href = window.URL.createObjectURL(blob);\n",
              "      a.download = filename;\n",
              "      div.appendChild(a);\n",
              "      a.click();\n",
              "      div.remove();\n",
              "    }\n",
              "  "
            ]
          },
          "metadata": {}
        },
        {
          "output_type": "display_data",
          "data": {
            "text/plain": [
              "<IPython.core.display.Javascript object>"
            ],
            "application/javascript": [
              "download(\"download_b453ce98-d79a-40c0-9426-cc706a60bca4\", \"modified.docx\", 9915)"
            ]
          },
          "metadata": {}
        }
      ]
    },
    {
      "cell_type": "code",
      "source": [
        "#25 Convert the Word file to a Text file and download\n",
        "!pip install docx2txt\n",
        "from google.colab import files\n",
        "import docx2txt\n",
        "\n",
        "# Upload the word document from the desktop\n",
        "uploaded = files.upload()\n",
        "\n",
        "for name, data in uploaded.items():\n",
        "    with open(name, 'wb') as f:\n",
        "        f.write(data)\n",
        "    print(f'File \"{name}\" was imported successfully!')\n",
        "    \n",
        "    # Extract text from the word document\n",
        "    text = docx2txt.process(name)\n",
        "\n",
        "    # Remove blank spaces and newline characters\n",
        "    text = text.replace(\"\\n\", \" \")\n",
        "    text = \" \".join(text.split())\n",
        "\n",
        "    # Save the text to a file\n",
        "    with open(name+\".txt\", \"w\") as text_file:\n",
        "        text_file.write(text)\n",
        "        \n",
        "    # Download the text file\n",
        "    files.download(name+\".txt\")\n",
        "\n"
      ],
      "metadata": {
        "id": "VYp9UlIyxVK9"
      },
      "execution_count": null,
      "outputs": []
    },
    {
      "cell_type": "code",
      "source": [
        "###POPULATE 'keywords' IN STEP 26 FOR USE IN 2ND AND SUBSEQUENT LAYERS  "
      ],
      "metadata": {
        "id": "wsGH1YIJJzfZ"
      },
      "execution_count": null,
      "outputs": []
    },
    {
      "cell_type": "code",
      "source": [
        "#26 THIS IS FOR THE 2ND LAYER AND SUBSEQUENT LAYERS SPECIFIC: Define a list of recursive URLs to delete for the 2nd and SUBSEQUENT LAYER URL LIST SEARCH\n",
        "keywords = [\n",
        "\n",
        "\"'https://en.wikipedia.org/wiki/Help:Introduction'\", \"'https://en.wikipedia.org/wiki/Special:MyTalk'\", \"'https://en.wikipedia.org/wiki/Special:MyContributions'\", \"'https://en.wikipedia.org/wiki/Wikipedia:Contents'\", \"'https://en.wikipedia.org/wiki/Portal:Current_events'\", \"'https://en.wikipedia.org/wiki/Special:Random'\", \"'https://en.wikipedia.org/wiki/Wikipedia:About'\", \"'https://en.wikipedia.org//en.wikipedia.org/wiki/Wikipedia:Contact_us'\", \"'https://donate.wikimedia.org/wiki/Special:FundraiserRedirector?utm_source=donate&utm_medium=sidebar&utm_campaign=C13_en.wikipedia.org&uselang=en'\", \"'https://en.wikipedia.org/wiki/Help:Contents'\", \"'https://en.wikipedia.org/wiki/Wikipedia:Community_portal'\", \"'https://en.wikipedia.org/wiki/Special:RecentChanges'\", \"'https://en.wikipedia.org/wiki/Wikipedia:File_upload_wizard'\", \"'https://en.wikipedia.org/wiki/Special:WhatLinksHere/Main_Page'\", \"'https://en.wikipedia.org/wiki/Special:RecentChangesLinked/Main_Page'\", \"'https://en.wikipedia.org/wiki/Wikipedia:File_Upload_Wizard'\", \"'https://en.wikipedia.org/wiki/Special:SpecialPages'\", \"'https://www.wikidata.org/wiki/Special:EntityPage/Q5296'\", \"'https://commons.wikimedia.org/wiki/Main_Page'\", \"'https://www.mediawiki.org/wiki/MediaWiki'\", \"'https://meta.wikimedia.org/wiki/Main_Page'\", \"'https://wikisource.org/wiki/Main_Page'\", \"'https://species.wikimedia.org/wiki/Main_Page'\", \"'https://en.wikibooks.org/wiki/Main_Page'\", \"'https://www.wikidata.org/wiki/Wikidata:Main_Page'\", \"'https://wikimania.wikimedia.org/wiki/2022:Wikimania'\", \"'https://en.wikinews.org/wiki/Main_Page'\", \"'https://en.wikiquote.org/wiki/Main_Page'\", \"'https://en.wikisource.org/wiki/Main_Page'\", \"'https://en.wikiversity.org/wiki/Wikiversity:Main_Page'\", \"'https://en.wikivoyage.org/wiki/Main_Page'\", \"'https://en.wiktionary.org/wiki/Wiktionary:Main_Page'\", \"'https://en.wikipedia.org/wiki/Talk:Main_Page'\", \"'https://en.wikipedia.org/wiki/Free_content'\", \"'https://en.wikipedia.org/wiki/Encyclopedia'\", \"'https://en.wikipedia.org/wiki/Help:Introduction_to_Wikipedia'\", \"'https://en.wikipedia.org/wiki/Special:Statistics'\", \"'https://en.wikipedia.org/wiki/English_language'\", \"'https://en.wikipedia.org/wiki/File:Lutoslawski3.jpg'\", \"'https://en.wikipedia.org/wiki/Composer'\", \"'https://en.wikipedia.org/wiki/Conducting'\", \"'https://en.wikipedia.org/wiki/Symphony'\", \"'https://en.wikipedia.org/wiki/Concerto'\", \"'https://en.wikipedia.org/wiki/Song_cycle'\", \"'https://en.wikipedia.org/wiki/Warsaw'\", \"'https://en.wikipedia.org/wiki/Stalinism'\", \"'https://en.wikipedia.org/wiki/Formalism_(music)#Soviet_Union'\", \"'https://en.wikipedia.org/wiki/Music_of_Poland#Traditional_folk_music'\", \"'https://en.wikipedia.org/wiki/Harmony'\", \"'https://en.wikipedia.org/wiki/Interval_(music)'\", \"'https://en.wikipedia.org/wiki/Aleatoric_music'\", \"'https://en.wikipedia.org/wiki/Solidarity_(Polish_trade_union)'\", \"'https://en.wikipedia.org/wiki/Grawemeyer_Award_for_Music_Composition'\", \"'https://en.wikipedia.org/wiki/Royal_Philharmonic_Society#The_Gold_Medal'\", \"'https://en.wikipedia.org/wiki/Order_of_the_White_Eagle_(Poland)'\", \"'https://en.wikipedia.org/wiki/Galton_Bridge'\", \"'https://en.wikipedia.org/wiki/Kampung_Boy_(TV_series)'\", \"'https://lists.wikimedia.org/postorius/lists/daily-article-l.lists.wikimedia.org/'\", \"'https://en.wikipedia.org/wiki/Wikipedia:Featured_articles'\", \"'https://en.wikipedia.org/wiki/File:Concerto_Barocco,_choreografia_George_Balanchine,_Polski_Balet_Narodowy,_fot._Ewa_Krasucka_TW-ON.jpg'\", \"'https://en.wikipedia.org/wiki/Polish_National_Ballet'\", \"'https://en.wikipedia.org/wiki/George_Balanchine'\", \"'https://en.wikipedia.org/wiki/Jazz_dance'\", \"'https://en.wikipedia.org/wiki/Concerto_Barocco'\", \"'https://en.wikipedia.org/wiki/Amdek'\", \"'https://en.wikipedia.org/wiki/Lauren_Jenkins'\", \"'https://en.wikipedia.org/wiki/Manga'\", \"'https://en.wikipedia.org/wiki/Sora_ga_Suki!'\", \"'https://en.wikipedia.org/wiki/2020_Colonial_Pipeline_oil_spill'\", \"'https://en.wikipedia.org/wiki/W._A._F._J._Tumbelaka'\", \"'https://en.wikipedia.org/wiki/University_of_Indonesia'\", \"'https://en.wikipedia.org/wiki/Calgary_Stampede#Stampede_Park'\", \"'https://en.wikipedia.org/wiki/The_Last_of_Us_(TV_series)'\", \"'https://en.wikipedia.org/wiki/InterContinental_New_York_Barclay_Hotel'\", \"'https://en.wikipedia.org/wiki/Wikipedia:Recent_additions'\", \"'https://en.wikipedia.org/wiki/Help:Your_first_article'\", \"'https://en.wikipedia.org/wiki/Template_talk:Did_you_know'\", \"'https://en.wikipedia.org/wiki/File:Hon_Chris_Hipkins.jpg'\", \"'https://en.wikipedia.org/wiki/Chris_Hipkins'\", \"'https://en.wikipedia.org/wiki/Jacinda_Ardern'\", \"'https://en.wikipedia.org/wiki/Prime_Minister_of_New_Zealand'\", \"'https://en.wikipedia.org/wiki/Leader_of_the_New_Zealand_Labour_Party'\", \"'https://en.wikipedia.org/wiki/2023_Brovary_helicopter_crash'\", \"'https://en.wikipedia.org/wiki/Kyiv'\", \"'https://en.wikipedia.org/wiki/Denys_Monastyrsky'\", \"'https://en.wikipedia.org/wiki/2023_Antiguan_general_election'\", \"'https://en.wikipedia.org/wiki/Antigua_and_Barbuda_Labour_Party'\", \"'https://en.wikipedia.org/wiki/House_of_Representatives_(Antigua_and_Barbuda)'\", \"'https://en.wikipedia.org/wiki/Yeti_Airlines_Flight_691'\", \"'https://en.wikipedia.org/wiki/Pokhara'\", \"'https://en.wikipedia.org/wiki/2022_Russian_invasion_of_Ukraine'\", \"'https://en.wikipedia.org/wiki/Deaths_in_2023'\", \"'https://en.wikipedia.org/wiki/Lin_Brehmer'\", \"'https://en.wikipedia.org/wiki/Jim_Molan'\", \"'https://en.wikipedia.org/wiki/Stella_Chiweshe'\", \"'https://en.wikipedia.org/wiki/Sal_Bando'\", \"'https://en.wikipedia.org/wiki/Chris_Ford'\", \"'https://en.wikipedia.org/wiki/Harunata'\", \"'https://en.wikipedia.org/wiki/Wikipedia:In_the_news/Candidates'\", \"'https://en.wikipedia.org/wiki/January_25'\", \"'https://en.wikipedia.org/wiki/Calendar_of_saints'\", \"'https://en.wikipedia.org/wiki/Gregory_of_Nazianzus'\", \"'https://en.wikipedia.org/wiki/Eastern_Orthodox_Church'\", \"'https://en.wikipedia.org/wiki/Dwynwen'\", \"'https://en.wikipedia.org/wiki/File:Laurentic_(I).jpg'\", \"'https://en.wikipedia.org/wiki/1704'\", \"'https://en.wikipedia.org/wiki/Province_of_Carolina'\", \"'https://en.wikipedia.org/wiki/Apalachee_massacre'\", \"'https://en.wikipedia.org/wiki/Apalachee'\", \"'https://en.wikipedia.org/wiki/Spanish_Florida'\", \"'https://en.wikipedia.org/wiki/1792'\", \"'https://en.wikipedia.org/wiki/Thomas_Hardy_(political_reformer)'\", \"'https://en.wikipedia.org/wiki/London_Corresponding_Society'\", \"'https://en.wikipedia.org/wiki/Classical_radicalism'\", \"'https://en.wikipedia.org/wiki/1917'\", \"'https://en.wikipedia.org/wiki/Armed_merchantman#armed_merchant_cruiser'\", \"'https://en.wikipedia.org/wiki/SS_Laurentic_(1908)'\", \"'https://en.wikipedia.org/wiki/Naval_mine'\", \"'https://en.wikipedia.org/wiki/1967'\", \"'https://en.wikipedia.org/wiki/South_Vietnam'\", \"'https://en.wikipedia.org/wiki/1995'\", \"'https://en.wikipedia.org/wiki/Black_Brant_(rocket)'\", \"'https://en.wikipedia.org/wiki/Norwegian_rocket_incident'\", \"'https://en.wikipedia.org/wiki/Trident_(missile)'\", \"'https://en.wikipedia.org/wiki/Mihrimah_Sultan_(daughter_of_Suleiman_I)'\", \"'https://en.wikipedia.org/wiki/John_Fisher,_1st_Baron_Fisher'\", \"'https://en.wikipedia.org/wiki/Mikhail_Suslov'\", \"'https://en.wikipedia.org/wiki/January_24'\", \"'https://en.wikipedia.org/wiki/January_26'\", \"'https://en.wikipedia.org/wiki/Wikipedia:Selected_anniversaries/January'\", \"'https://en.wikipedia.org/wiki/List_of_days_of_the_year'\", \"'https://en.wikipedia.org/wiki/File:Edinburgh_Castle_from_Grass_Market.jpg'\", \"'https://en.wikipedia.org/wiki/Edinburgh_Castle'\", \"'https://en.wikipedia.org/wiki/Edinburgh'\", \"'https://en.wikipedia.org/wiki/Castle_Rock_(Edinburgh)'\", \"'https://en.wikipedia.org/wiki/Iron_Age'\", \"'https://en.wikipedia.org/wiki/Kingdom_of_Scotland'\", \"'https://en.wikipedia.org/wiki/Wars_of_Scottish_Independence'\", \"'https://en.wikipedia.org/wiki/Jacobite_rising_of_1745'\", \"'https://en.wikipedia.org/wiki/Regalia'\", \"'https://en.wikipedia.org/wiki/Honours_of_Scotland'\", \"'https://en.wikipedia.org/wiki/Scottish_National_War_Memorial'\", \"'https://en.wikipedia.org/wiki/National_War_Museum'\", \"'https://en.wikipedia.org/wiki/Regimental_museum'\", \"'https://en.wikipedia.org/wiki/Grassmarket'\", \"'https://en.wikipedia.org/wiki/George_Washington_Wilson'\", \"'https://en.wikipedia.org/wiki/User:Adam_Cuerden'\", \"'https://en.wikipedia.org/wiki/Template:POTD/2023-01-24'\", \"'https://en.wikipedia.org/wiki/Template:POTD/2023-01-23'\", \"'https://en.wikipedia.org/wiki/Template:POTD/2023-01-22'\", \"'https://en.wikipedia.org/wiki/Wikipedia:Picture_of_the_day/Archive'\", \"'https://en.wikipedia.org/wiki/Wikipedia:Featured_pictures'\", \"'https://en.wikipedia.org/wiki/Wikipedia:Village_pump'\", \"'https://en.wikipedia.org/wiki/Wikipedia:News'\", \"'https://en.wikipedia.org/wiki/Wikipedia:Teahouse'\", \"'https://en.wikipedia.org/wiki/Wikipedia:Help_desk'\", \"'https://en.wikipedia.org/wiki/Wikipedia:Reference_desk'\", \"'https://en.wikipedia.org/wiki/Wikipedia:Contents/Portals'\", \"'https://en.wikipedia.org/wiki/Wikimedia_Foundation'\", \"'https://wikimediafoundation.org/our-work/wikimedia-projects/'\", \"'https://commons.wikimedia.org/wiki/'\", \"'https://www.mediawiki.org/wiki/'\", \"'https://meta.wikimedia.org/wiki/'\", \"'https://en.wikibooks.org/wiki/'\", \"'https://www.wikidata.org/wiki/'\", \"'https://en.wikinews.org/wiki/'\", \"'https://en.wikiquote.org/wiki/'\", \"'https://en.wikisource.org/wiki/'\", \"'https://species.wikimedia.org/wiki/'\", \"'https://en.wikiversity.org/wiki/'\", \"'https://en.wikivoyage.org/wiki/'\", \"'https://en.wiktionary.org/wiki/'\", \"'https://meta.wikimedia.org/wiki/List_of_Wikipedias'\", \"'https://ar.wikipedia.org/wiki/'\", \"'https://de.wikipedia.org/wiki/'\", \"'https://es.wikipedia.org/wiki/'\", \"'https://fr.wikipedia.org/wiki/'\", \"'https://it.wikipedia.org/wiki/'\", \"'https://nl.wikipedia.org/wiki/'\", \"'https://ja.wikipedia.org/wiki/'\", \"'https://pl.wikipedia.org/wiki/'\", \"'https://pt.wikipedia.org/wiki/'\", \"'https://ru.wikipedia.org/wiki/'\", \"'https://sv.wikipedia.org/wiki/'\", \"'https://uk.wikipedia.org/wiki/'\", \"'https://vi.wikipedia.org/wiki/'\", \"'https://zh.wikipedia.org/wiki/'\", \"'https://id.wikipedia.org/wiki/'\", \"'https://ms.wikipedia.org/wiki/'\", \"'https://zh-min-nan.wikipedia.org/wiki/'\", \"'https://bg.wikipedia.org/wiki/'\", \"'https://ca.wikipedia.org/wiki/'\", \"'https://cs.wikipedia.org/wiki/'\", \"'https://da.wikipedia.org/wiki/'\", \"'https://eo.wikipedia.org/wiki/'\", \"'https://eu.wikipedia.org/wiki/'\", \"'https://fa.wikipedia.org/wiki/'\", \"'https://he.wikipedia.org/wiki/'\", \"'https://ko.wikipedia.org/wiki/'\", \"'https://hu.wikipedia.org/wiki/'\", \"'https://no.wikipedia.org/wiki/'\", \"'https://ro.wikipedia.org/wiki/'\", \"'https://sr.wikipedia.org/wiki/'\", \"'https://sh.wikipedia.org/wiki/'\", \"'https://fi.wikipedia.org/wiki/'\", \"'https://tr.wikipedia.org/wiki/'\", \"'https://ast.wikipedia.org/wiki/'\", \"'https://bn.wikipedia.org/wiki/'\", \"'https://bs.wikipedia.org/wiki/'\", \"'https://et.wikipedia.org/wiki/'\", \"'https://el.wikipedia.org/wiki/'\", \"'https://simple.wikipedia.org/wiki/'\", \"'https://ga.wikipedia.org/wiki/'\", \"'https://gl.wikipedia.org/wiki/'\", \"'https://hr.wikipedia.org/wiki/'\", \"'https://lv.wikipedia.org/wiki/'\", \"'https://lt.wikipedia.org/wiki/'\", \"'https://ml.wikipedia.org/wiki/'\", \"'https://mk.wikipedia.org/wiki/'\", \"'https://nn.wikipedia.org/wiki/'\", \"'https://sq.wikipedia.org/wiki/'\", \"'https://sk.wikipedia.org/wiki/'\", \"'https://sl.wikipedia.org/wiki/'\", \"'https://th.wikipedia.org/wiki/'\", \"'https://ka.wikipedia.org/wiki/'\", \"'https://en.wikipedia.org//en.wikipedia.org/wiki/Wikipedia:Text_of_the_Creative_Commons_Attribution-ShareAlike_3.0_Unported_License'\", \"'https://en.wikipedia.org//creativecommons.org/licenses/by-sa/3.0/'\", \"'https://en.wikipedia.org//foundation.wikimedia.org/wiki/Terms_of_Use'\", \"'https://en.wikipedia.org//foundation.wikimedia.org/wiki/Privacy_policy'\", \"'https://en.wikipedia.org//www.wikimediafoundation.org/'\", \"'https://foundation.wikimedia.org/wiki/Privacy_policy'\", \"'https://en.wikipedia.org/wiki/Wikipedia:General_disclaimer'\", \"'https://developer.wikimedia.org'\", \"'https://stats.wikimedia.org/#/en.wikipedia.org'\", \"'https://wikimediafoundation.org/'\", \"'https://www.mediawiki.org/'\", \n",
        "\n",
        "    ]\n",
        "\n",
        "# Iterate through the paragraphs of the document\n",
        "for para in doc.paragraphs:\n",
        "    for keyword in keywords:\n",
        "        if keyword in para.text:\n",
        "            # If the keyword is found in the paragraph, remove it\n",
        "            para.text = para.text.replace(keyword, \"\")"
      ],
      "metadata": {
        "id": "PE4mC_OUJVP1"
      },
      "execution_count": null,
      "outputs": []
    }
  ]
}