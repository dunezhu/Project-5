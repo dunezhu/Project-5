{
  "nbformat": 4,
  "nbformat_minor": 0,
  "metadata": {
    "colab": {
      "provenance": [],
      "authorship_tag": "ABX9TyManSCF+t3kyla6ln7bS0FV"
    },
    "kernelspec": {
      "name": "python3",
      "display_name": "Python 3"
    },
    "language_info": {
      "name": "python"
    }
  },
  "cells": [
    {
      "cell_type": "code",
      "source": [
        "#1 Import the necessary libraries\n",
        "!pip install python-docx\n",
        "import docx\n",
        "from google.colab import files\n",
        "\n",
        "# Select the Word file from your Local Machine\n",
        "uploaded = files.upload()\n",
        "\n",
        "# Open the Word file\n",
        "doc = docx.Document(list(uploaded.keys())[0])\n",
        "\n",
        "#CHANGE THE GOOGLE DOC NAME WITH EACH DOWNLOAD TO LOCAL MACHINE AS COLAB SAVES PREVIOUS NAME IN MEMORY"
      ],
      "metadata": {
        "id": "oiqjS2vyUB83"
      },
      "execution_count": null,
      "outputs": []
    },
    {
      "cell_type": "code",
      "source": [
        "###SEARCH PROGRAM CAN ONLY CREATE A LIST OF URLS FOR A LIMITED NUMBER OF URLS ON INITIAL LIST WITHOUT TRUNCATING AND NOW DOCUMENTS THE BASE URL"
      ],
      "metadata": {
        "id": "vw7uT4IpMErM"
      },
      "execution_count": null,
      "outputs": []
    },
    {
      "cell_type": "code",
      "source": [
        "#2 PRINT: Iterate through each paragraph in the document\n",
        "for paragraph in doc.paragraphs:\n",
        "  # Print the text of the paragraph\n",
        "  print(paragraph.text)"
      ],
      "metadata": {
        "id": "OBKCXGHVUzM4"
      },
      "execution_count": null,
      "outputs": []
    },
    {
      "cell_type": "code",
      "source": [
        "#3 Check if the line is equal to '/' and delete\n",
        "for para in doc.paragraphs:\n",
        "    if para.text == '/':\n",
        "        para.text = \"\""
      ],
      "metadata": {
        "id": "ZdS1H-iFoLng"
      },
      "execution_count": 37,
      "outputs": []
    },
    {
      "cell_type": "code",
      "source": [
        "#4 Check if the line starts with '/node' and delete\n",
        "for para in doc.paragraphs:\n",
        "    if para.text.startswith('/node'):\n",
        "        para.text = \"\""
      ],
      "metadata": {
        "id": "XRnFFLbEpMbO"
      },
      "execution_count": 38,
      "outputs": []
    },
    {
      "cell_type": "code",
      "source": [
        "#5 Check if the line starts with '/file' and delete\n",
        "for para in doc.paragraphs:\n",
        "    if para.text.startswith('/file'):\n",
        "        para.text = \"\""
      ],
      "metadata": {
        "id": "yiD-adMHpxud"
      },
      "execution_count": 39,
      "outputs": []
    },
    {
      "cell_type": "code",
      "source": [
        "#6 Check if the line contains 'download' and delete\n",
        "for para in doc.paragraphs:\n",
        "    if 'download' in para.text:\n",
        "        para.text = \"\""
      ],
      "metadata": {
        "id": "Za9cOY1e9m5c"
      },
      "execution_count": 40,
      "outputs": []
    },
    {
      "cell_type": "code",
      "source": [
        "#7 Check if the line contains 'Search' and delete\n",
        "for para in doc.paragraphs:\n",
        "    if 'Search' in para.text:\n",
        "        para.text = \"\""
      ],
      "metadata": {
        "id": "e9e8D2MJCCKe"
      },
      "execution_count": 41,
      "outputs": []
    },
    {
      "cell_type": "code",
      "source": [
        "#8 Check if the line contains 'php' and delete\n",
        "for para in doc.paragraphs:\n",
        "    if 'php' in para.text:\n",
        "        para.text = \"\""
      ],
      "metadata": {
        "id": "ov-Eoe_ACMT8"
      },
      "execution_count": 42,
      "outputs": []
    },
    {
      "cell_type": "code",
      "source": [
        "#9 Check if the line contains 'javascript' and delete\n",
        "for para in doc.paragraphs:\n",
        "    # Check if the line contains 'javascript' and delete\n",
        "    if 'javascript' in para.text:\n",
        "        para.text = \"\""
      ],
      "metadata": {
        "id": "WD-l8DRrCUJt"
      },
      "execution_count": 43,
      "outputs": []
    },
    {
      "cell_type": "code",
      "source": [
        "#10 Check if the line contains 'google' and delete\n",
        "for para in doc.paragraphs:\n",
        "    if 'google' in para.text:\n",
        "        para.text = \"\""
      ],
      "metadata": {
        "id": "oBIyvOHBsRE6"
      },
      "execution_count": 44,
      "outputs": []
    },
    {
      "cell_type": "code",
      "source": [
        "#11 Check if the line contains 'instagram' and delete\n",
        "for para in doc.paragraphs:\n",
        "    if 'instagram' in para.text:\n",
        "        para.text = \"\""
      ],
      "metadata": {
        "id": "PJ58xrEisV2H"
      },
      "execution_count": 45,
      "outputs": []
    },
    {
      "cell_type": "code",
      "source": [
        "#12 Check if the line contains 'youtube' and delete\n",
        "for para in doc.paragraphs:\n",
        "    if 'youtube' in para.text:\n",
        "        para.text = \"\""
      ],
      "metadata": {
        "id": "KJp5d92PsZpx"
      },
      "execution_count": 46,
      "outputs": []
    },
    {
      "cell_type": "code",
      "source": [
        "#13 Check if the line contains 'twitter' and delete\n",
        "for para in doc.paragraphs:\n",
        "    if 'twitter' in para.text:\n",
        "        para.text = \"\""
      ],
      "metadata": {
        "id": "v9suwzkHsj9D"
      },
      "execution_count": 47,
      "outputs": []
    },
    {
      "cell_type": "code",
      "source": [
        "#14 Check if the line contains 'facebook' and delete\n",
        "for para in doc.paragraphs:\n",
        "    if 'facebook' in para.text:\n",
        "        para.text = \"\""
      ],
      "metadata": {
        "id": "cAGKvCwUsm6r"
      },
      "execution_count": 48,
      "outputs": []
    },
    {
      "cell_type": "code",
      "source": [
        "#15 Check if the line contains 'amazonaws' and delete\n",
        "for para in doc.paragraphs:\n",
        "    if 'amazonaws' in para.text:\n",
        "        para.text = \"\""
      ],
      "metadata": {
        "id": "tSzzKk647YW5"
      },
      "execution_count": 49,
      "outputs": []
    },
    {
      "cell_type": "code",
      "source": [
        "#2 PRINT: Iterate through each paragraph in the document\n",
        "for paragraph in doc.paragraphs:\n",
        "  # Print the text of the paragraph\n",
        "  print(paragraph.text)"
      ],
      "metadata": {
        "id": "TUuQ6-czqH3o"
      },
      "execution_count": null,
      "outputs": []
    },
    {
      "cell_type": "code",
      "source": [
        "#16a URL SPECIFIC: Add https://en.wikipedia.org before all entries beginning in /\n",
        "for para in doc.paragraphs:\n",
        "    if para.text.startswith('/'):\n",
        "        para.text = \"https://en.wikipedia.org\" + para.text"
      ],
      "metadata": {
        "id": "OUg_9QQvs6UT"
      },
      "execution_count": 51,
      "outputs": []
    },
    {
      "cell_type": "code",
      "source": [
        "#16b Check if the line contains '%' and delete\n",
        "for para in doc.paragraphs:\n",
        "    if '%' in para.text:\n",
        "        para.text = \"\""
      ],
      "metadata": {
        "id": "56vpc-cJyyNe"
      },
      "execution_count": 52,
      "outputs": []
    },
    {
      "cell_type": "code",
      "source": [
        "#16c Check if the line contains 'Cookie' and delete\n",
        "for para in doc.paragraphs:\n",
        "    if 'Cookie' in para.text:\n",
        "        para.text = \"\""
      ],
      "metadata": {
        "id": "B9LByYP60ZRe"
      },
      "execution_count": 53,
      "outputs": []
    },
    {
      "cell_type": "code",
      "source": [
        "#17 Check if the line does not start with 'http' and delete\n",
        "for para in doc.paragraphs:\n",
        "    if not para.text.startswith(\"http\"):\n",
        "        para.text = \"\""
      ],
      "metadata": {
        "id": "X7lI6WZQtwXd"
      },
      "execution_count": 54,
      "outputs": []
    },
    {
      "cell_type": "code",
      "source": [
        "#18 Iterate through the paragraphs in the document and delete duplicates\n",
        "#Create a set to store unique lines\n",
        "unique_lines = set()\n",
        "\n",
        "for para in doc.paragraphs:\n",
        "    # If the line is not already in the set, add it\n",
        "    if para.text not in unique_lines:\n",
        "        unique_lines.add(para.text)\n",
        "    # If the line is already in the set, remove it\n",
        "    else:\n",
        "        para.text = \"\""
      ],
      "metadata": {
        "id": "L3mP1LJYt_qK"
      },
      "execution_count": 55,
      "outputs": []
    },
    {
      "cell_type": "code",
      "source": [
        "#19 Add ' before all entries beginning in http\n",
        "for para in doc.paragraphs:\n",
        "    if para.text.startswith('http'):\n",
        "        para.text = \"'\" + para.text"
      ],
      "metadata": {
        "id": "-owT4QoKZJSm"
      },
      "execution_count": 56,
      "outputs": []
    },
    {
      "cell_type": "code",
      "source": [
        "#20 Add ' after all entries beginning in http\n",
        "for para in doc.paragraphs:\n",
        "    if para.text.startswith(\"'http\"):\n",
        "        para.text += \"'\""
      ],
      "metadata": {
        "id": "rDwCLzM8baR4"
      },
      "execution_count": 57,
      "outputs": []
    },
    {
      "cell_type": "code",
      "source": [
        "###RUN STEP 21 IF THIS IS THE 1ST LAYER: \n",
        "###ELSE RUN STEP 25 IF THIS IS THE 2ND AND SUBSEQUENT LAYERS: RUN STEP 22 FIRST TO CREATE A LIST OF KEYWORDS FORMATTED \"'LIST'\": REPEAT THIS LINE FOR SUBSEQUENT LAYERS..."
      ],
      "metadata": {
        "id": "xcRg_za4KCAZ"
      },
      "execution_count": null,
      "outputs": []
    },
    {
      "cell_type": "code",
      "source": [
        "#21 1ST LAYER SPECIFIC: Check if the line is equal to the base URL and applicable outer URL(s) and delete for the -1st and PRECURSIVE LAYERS\n",
        "keywords = [\n",
        "\n",
        " \"'https://en.wikipedia.org/wiki/Main_Page'\", \"'https://en.wikipedia.org'\", \"'https://en.wikipedia.org/wiki/Wikipedia'\"\n",
        "\n",
        "    ]\n",
        "\n",
        "# Iterate through the paragraphs of the document\n",
        "for para in doc.paragraphs:\n",
        "    for keyword in keywords:\n",
        "        if keyword in para.text:\n",
        "            # If the keyword is found in the paragraph, remove it\n",
        "            para.text = para.text.replace(keyword, \"\")"
      ],
      "metadata": {
        "id": "CkjI3gzCfDxa"
      },
      "execution_count": 58,
      "outputs": []
    },
    {
      "cell_type": "code",
      "source": [
        "###JUMP TO STEP 23 IF THIS IS 2ND TIME THROUGH"
      ],
      "metadata": {
        "id": "ec0oq5gQHWF6"
      },
      "execution_count": null,
      "outputs": []
    },
    {
      "cell_type": "code",
      "source": [
        "#22a Add '\"' to all entries beginning in \"'\"\n",
        "for para in doc.paragraphs:\n",
        "    if para.text.startswith(\"'\"):\n",
        "        para.text = '\"' + para.text"
      ],
      "metadata": {
        "id": "ysPmd0SOwtow"
      },
      "execution_count": 29,
      "outputs": []
    },
    {
      "cell_type": "code",
      "source": [
        "#22b Add '\"' after all entries beginning in '\"'\n",
        "for para in doc.paragraphs:\n",
        "    if para.text.startswith('\"'):\n",
        "        para.text += '\"'"
      ],
      "metadata": {
        "id": "FJ9aEqLd9zho"
      },
      "execution_count": 30,
      "outputs": []
    },
    {
      "cell_type": "code",
      "source": [
        "#22c Add ',' after all entries beginning in '\"'\n",
        "for para in doc.paragraphs:\n",
        "    if para.text.startswith('\"'):\n",
        "        para.text += \",\""
      ],
      "metadata": {
        "id": "iM74XPEF-npq"
      },
      "execution_count": 31,
      "outputs": []
    },
    {
      "cell_type": "code",
      "source": [
        "###START BACK AT STEP 1 AFTER POPULATING \"'KEYWORDS LIST'\" INTO STEP 26 CODE"
      ],
      "metadata": {
        "id": "RRFyffPx-wVv"
      },
      "execution_count": null,
      "outputs": []
    },
    {
      "cell_type": "code",
      "source": [
        "#23 Add , after all entries beginning in '\n",
        "for para in doc.paragraphs:\n",
        "    if para.text.startswith(\"'\"):\n",
        "        para.text += \",\""
      ],
      "metadata": {
        "id": "FWlhRLgYqOGB"
      },
      "execution_count": 59,
      "outputs": []
    },
    {
      "cell_type": "code",
      "source": [
        "#2 PRINT: Iterate through each paragraph in the document\n",
        "for paragraph in doc.paragraphs:\n",
        "  # Print the text of the paragraph\n",
        "  print(paragraph.text)"
      ],
      "metadata": {
        "id": "z2Ky_2jKuHkm"
      },
      "execution_count": null,
      "outputs": []
    },
    {
      "cell_type": "code",
      "source": [
        "#24 Save the changes to a modified document\n",
        "doc.save('modified.docx')\n",
        "\n",
        "# Download the modified Word file\n",
        "files.download('modified.docx')"
      ],
      "metadata": {
        "id": "NBn__qNvVq7P"
      },
      "execution_count": null,
      "outputs": []
    },
    {
      "cell_type": "code",
      "source": [
        "#25 Convert the Word file to a Text file and download\n",
        "!pip install docx2txt\n",
        "from google.colab import files\n",
        "import docx2txt\n",
        "\n",
        "# Upload the word document from the desktop\n",
        "uploaded = files.upload()\n",
        "\n",
        "for name, data in uploaded.items():\n",
        "    with open(name, 'wb') as f:\n",
        "        f.write(data)\n",
        "    print(f'File \"{name}\" was imported successfully!')\n",
        "    \n",
        "    # Extract text from the word document\n",
        "    text = docx2txt.process(name)\n",
        "\n",
        "    # Remove blank spaces and newline characters\n",
        "    text = text.replace(\"\\n\", \" \")\n",
        "    text = \" \".join(text.split())\n",
        "\n",
        "    # Save the text to a file\n",
        "    with open(name+\".txt\", \"w\") as text_file:\n",
        "        text_file.write(text)\n",
        "        \n",
        "    # Download the text file\n",
        "    files.download(name+\".txt\")\n",
        "\n"
      ],
      "metadata": {
        "id": "VYp9UlIyxVK9"
      },
      "execution_count": null,
      "outputs": []
    },
    {
      "cell_type": "code",
      "source": [
        "###POPULATE 'keywords' IN STEP 26 FOR USE IN 2ND AND SUBSEQUENT LAYERS  "
      ],
      "metadata": {
        "id": "wsGH1YIJJzfZ"
      },
      "execution_count": null,
      "outputs": []
    },
    {
      "cell_type": "code",
      "source": [
        "#26 THIS IS FOR THE 2ND LAYER AND SUBSEQUENT LAYERS SPECIFIC: Define a list of recursive URLs to delete for the 2nd and SUBSEQUENT LAYER URL LIST SEARCH\n",
        "keywords = [\n",
        "\n",
        "\"'https://en.wikipedia.org/wiki/Help:Introduction'\", \"'https://en.wikipedia.org/wiki/Special:MyTalk'\", \"'https://en.wikipedia.org/wiki/Special:MyContributions'\", \"'https://en.wikipedia.org/wiki/Wikipedia:Contents'\", \"'https://en.wikipedia.org/wiki/Portal:Current_events'\", \"'https://en.wikipedia.org/wiki/Special:Random'\", \"'https://en.wikipedia.org/wiki/Wikipedia:About'\", \"'https://en.wikipedia.org//en.wikipedia.org/wiki/Wikipedia:Contact_us'\", \"'https://donate.wikimedia.org/wiki/Special:FundraiserRedirector?utm_source=donate&utm_medium=sidebar&utm_campaign=C13_en.wikipedia.org&uselang=en'\", \"'https://en.wikipedia.org/wiki/Help:Contents'\", \"'https://en.wikipedia.org/wiki/Wikipedia:Community_portal'\", \"'https://en.wikipedia.org/wiki/Special:RecentChanges'\", \"'https://en.wikipedia.org/wiki/Wikipedia:File_upload_wizard'\", \"'https://en.wikipedia.org/wiki/Special:WhatLinksHere/Main_Page'\", \"'https://en.wikipedia.org/wiki/Special:RecentChangesLinked/Main_Page'\", \"'https://en.wikipedia.org/wiki/Wikipedia:File_Upload_Wizard'\", \"'https://en.wikipedia.org/wiki/Special:SpecialPages'\", \"'https://www.wikidata.org/wiki/Special:EntityPage/Q5296'\", \"'https://commons.wikimedia.org/wiki/Main_Page'\", \"'https://www.mediawiki.org/wiki/MediaWiki'\", \"'https://meta.wikimedia.org/wiki/Main_Page'\", \"'https://wikisource.org/wiki/Main_Page'\", \"'https://species.wikimedia.org/wiki/Main_Page'\", \"'https://en.wikibooks.org/wiki/Main_Page'\", \"'https://www.wikidata.org/wiki/Wikidata:Main_Page'\", \"'https://wikimania.wikimedia.org/wiki/2022:Wikimania'\", \"'https://en.wikinews.org/wiki/Main_Page'\", \"'https://en.wikiquote.org/wiki/Main_Page'\", \"'https://en.wikisource.org/wiki/Main_Page'\", \"'https://en.wikiversity.org/wiki/Wikiversity:Main_Page'\", \"'https://en.wikivoyage.org/wiki/Main_Page'\", \"'https://en.wiktionary.org/wiki/Wiktionary:Main_Page'\", \"'https://en.wikipedia.org/wiki/Talk:Main_Page'\", \"'https://en.wikipedia.org/wiki/Free_content'\", \"'https://en.wikipedia.org/wiki/Encyclopedia'\", \"'https://en.wikipedia.org/wiki/Help:Introduction_to_Wikipedia'\", \"'https://en.wikipedia.org/wiki/Special:Statistics'\", \"'https://en.wikipedia.org/wiki/English_language'\", \"'https://en.wikipedia.org/wiki/File:Dime_Mystery_Magazine_August_1934.jpg'\", \"'https://en.wikipedia.org/wiki/Dime_Mystery_Magazine'\", \"'https://en.wikipedia.org/wiki/Pulp_magazine'\", \"'https://en.wikipedia.org/wiki/Popular_Publications'\", \"'https://en.wikipedia.org/wiki/Mystery_fiction'\", \"'https://en.wikipedia.org/wiki/Grand_Guignol'\", \"'https://en.wikipedia.org/wiki/Harry_Steeger'\", \"'https://en.wikipedia.org/wiki/Horror_fiction'\", \"'https://en.wikipedia.org/wiki/Weird_menace'\", \"'https://en.wikipedia.org/wiki/Sadism_and_masochism_in_fiction'\", \"'https://en.wikipedia.org/wiki/Detective_fiction'\", \"'https://en.wikipedia.org/wiki/Haemophilia'\", \"'https://en.wikipedia.org/wiki/Edgar_Wallace'\", \"'https://en.wikipedia.org/wiki/Ray_Bradbury'\", \"'https://en.wikipedia.org/wiki/Norvell_W._Page'\", \"'https://en.wikipedia.org/wiki/Wyatt_Rainey_Blassingame'\", \"'https://en.wikipedia.org/wiki/Galton_Bridge'\", \"'https://lists.wikimedia.org/postorius/lists/daily-article-l.lists.wikimedia.org/'\", \"'https://en.wikipedia.org/wiki/Wikipedia:Featured_articles'\", \"'https://en.wikipedia.org/wiki/File:Langsmoedersgraf1.jpg'\", \"'https://en.wikipedia.org/wiki/David_Burbank'\", \"'https://en.wikipedia.org/wiki/Burbank,_California'\", \"'https://en.wikipedia.org/wiki/Faisal_I_of_Iraq'\", \"'https://en.wikipedia.org/wiki/Capture_of_Wejh'\", \"'https://en.wikipedia.org/wiki/Daughters_of_the_American_Revolution'\", \"'https://en.wikipedia.org/wiki/Marjorie_Lynch'\", \"'https://en.wikipedia.org/wiki/New_Beehive_Inn'\", \"'https://en.wikipedia.org/wiki/Matt_Lanter'\", \"'https://en.wikipedia.org/wiki/Star_Wars:_The_Clone_Wars_(film)'\", \"'https://en.wikipedia.org/wiki/Darth_Vader'\", \"'https://en.wikipedia.org/wiki/Sangage_Sheikhdom'\", \"'https://en.wikipedia.org/wiki/Swahili_people'\", \"'https://en.wikipedia.org/wiki/John_Neal_(writer)'\", \"'https://en.wikipedia.org/wiki/Logan_(novel)'\", \"'https://en.wikipedia.org/wiki/Wikipedia:Recent_additions'\", \"'https://en.wikipedia.org/wiki/Help:Your_first_article'\", \"'https://en.wikipedia.org/wiki/Template_talk:Did_you_know'\", \"'https://en.wikipedia.org/wiki/File:Hon_Chris_Hipkins.jpg'\", \"'https://en.wikipedia.org/wiki/Chris_Hipkins'\", \"'https://en.wikipedia.org/wiki/Jacinda_Ardern'\", \"'https://en.wikipedia.org/wiki/Prime_Minister_of_New_Zealand'\", \"'https://en.wikipedia.org/wiki/Leader_of_the_New_Zealand_Labour_Party'\", \"'https://en.wikipedia.org/wiki/Resignation_of_Jacinda_Ardern'\", \"'https://en.wikipedia.org/wiki/2023_Brovary_helicopter_crash'\", \"'https://en.wikipedia.org/wiki/Kyiv'\", \"'https://en.wikipedia.org/wiki/Denys_Monastyrsky'\", \"'https://en.wikipedia.org/wiki/2023_Antiguan_general_election'\", \"'https://en.wikipedia.org/wiki/Antigua_and_Barbuda_Labour_Party'\", \"'https://en.wikipedia.org/wiki/House_of_Representatives_(Antigua_and_Barbuda)'\", \"'https://en.wikipedia.org/wiki/Yeti_Airlines_Flight_691'\", \"'https://en.wikipedia.org/wiki/Pokhara'\", \"'https://en.wikipedia.org/wiki/2023_Beninese_parliamentary_election'\", \"'https://en.wikipedia.org/wiki/National_Assembly_(Benin)'\", \"'https://en.wikipedia.org/wiki/Progressive_Union_for_Renewal'\", \"'https://en.wikipedia.org/wiki/Republican_Bloc'\", \"'https://en.wikipedia.org/wiki/The_Democrats_(Benin)'\", \"'https://en.wikipedia.org/wiki/2022_Russian_invasion_of_Ukraine'\", \"'https://en.wikipedia.org/wiki/Deaths_in_2023'\", \"'https://en.wikipedia.org/wiki/Lin_Brehmer'\", \"'https://en.wikipedia.org/wiki/Jim_Molan'\", \"'https://en.wikipedia.org/wiki/Stella_Chiweshe'\", \"'https://en.wikipedia.org/wiki/Sal_Bando'\", \"'https://en.wikipedia.org/wiki/Chris_Ford'\", \"'https://en.wikipedia.org/wiki/Harunata'\", \"'https://en.wikipedia.org/wiki/Wikipedia:In_the_news/Candidates'\", \"'https://en.wikipedia.org/wiki/January_26'\", \"'https://en.wikipedia.org/wiki/Australia_Day'\", \"'https://en.wikipedia.org/wiki/1788'\", \"'https://en.wikipedia.org/wiki/Republic_Day_(India)'\", \"'https://en.wikipedia.org/wiki/1950'\", \"'https://en.wikipedia.org/wiki/File:Rough_cullinan_diamond.jpg'\", \"'https://en.wikipedia.org/wiki/1700'\", \"'https://en.wikipedia.org/wiki/1700_Cascadia_earthquake'\", \"'https://en.wikipedia.org/wiki/Moment_magnitude_scale'\", \"'https://en.wikipedia.org/wiki/Pacific_Northwest'\", \"'https://en.wikipedia.org/wiki/Tsunami'\", \"'https://en.wikipedia.org/wiki/1841'\", \"'https://en.wikipedia.org/wiki/Gordon_Bremer'\", \"'https://en.wikipedia.org/wiki/Hong_Kong_Island'\", \"'https://en.wikipedia.org/wiki/Possession_Point'\", \"'https://en.wikipedia.org/wiki/1905'\", \"'https://en.wikipedia.org/wiki/Carat_(mass)'\", \"'https://en.wikipedia.org/wiki/Cullinan_Diamond'\", \"'https://en.wikipedia.org/wiki/Diamond'\", \"'https://en.wikipedia.org/wiki/Premier_Mine'\", \"'https://en.wikipedia.org/wiki/Gauteng'\", \"'https://en.wikipedia.org/wiki/1945'\", \"'https://en.wikipedia.org/wiki/Audie_Murphy'\", \"'https://en.wikipedia.org/wiki/Colmar_Pocket'\", \"'https://en.wikipedia.org/wiki/Medal_of_Honor'\", \"'https://en.wikipedia.org/wiki/World_War_II'\", \"'https://en.wikipedia.org/wiki/1972'\", \"'https://en.wikipedia.org/wiki/JAT_Flight_367'\", \"'https://en.wikipedia.org/wiki/Giuseppe_Genco_Russo'\", \"'https://en.wikipedia.org/wiki/Angela_Davis'\", \"'https://en.wikipedia.org/wiki/David_Kato'\", \"'https://en.wikipedia.org/wiki/January_25'\", \"'https://en.wikipedia.org/wiki/January_27'\", \"'https://en.wikipedia.org/wiki/Wikipedia:Selected_anniversaries/January'\", \"'https://en.wikipedia.org/wiki/List_of_days_of_the_year'\", \"'https://en.wikipedia.org/wiki/File:Little_bee-eater_(Merops_pusillus_argutus)_Namibia.jpg'\", \"'https://en.wikipedia.org/wiki/Little_bee-eater'\", \"'https://en.wikipedia.org/wiki/Bee-eater'\", \"'https://en.wikipedia.org/wiki/Sub-Saharan_Africa'\", \"'https://en.wikipedia.org/wiki/Gorget_(bird)'\", \"'https://en.wikipedia.org/wiki/Subspecies'\", \"'https://en.wikipedia.org/wiki/Cuando_River'\", \"'https://en.wikipedia.org/wiki/Nkasa_Rupara_National_Park'\", \"'https://en.wikipedia.org/wiki/User:Charlesjsharp'\", \"'https://en.wikipedia.org/wiki/Template:POTD/2023-01-25'\", \"'https://en.wikipedia.org/wiki/Template:POTD/2023-01-24'\", \"'https://en.wikipedia.org/wiki/Template:POTD/2023-01-23'\", \"'https://en.wikipedia.org/wiki/Wikipedia:Picture_of_the_day/Archive'\", \"'https://en.wikipedia.org/wiki/Wikipedia:Featured_pictures'\", \"'https://en.wikipedia.org/wiki/Wikipedia:Village_pump'\", \"'https://en.wikipedia.org/wiki/Wikipedia:News'\", \"'https://en.wikipedia.org/wiki/Wikipedia:Teahouse'\", \"'https://en.wikipedia.org/wiki/Wikipedia:Help_desk'\", \"'https://en.wikipedia.org/wiki/Wikipedia:Reference_desk'\", \"'https://en.wikipedia.org/wiki/Wikipedia:Contents/Portals'\", \"'https://en.wikipedia.org/wiki/Wikimedia_Foundation'\", \"'https://wikimediafoundation.org/our-work/wikimedia-projects/'\", \"'https://commons.wikimedia.org/wiki/'\", \"'https://www.mediawiki.org/wiki/'\", \"'https://meta.wikimedia.org/wiki/'\", \"'https://en.wikibooks.org/wiki/'\", \"'https://www.wikidata.org/wiki/'\", \"'https://en.wikinews.org/wiki/'\", \"'https://en.wikiquote.org/wiki/'\", \"'https://en.wikisource.org/wiki/'\", \"'https://species.wikimedia.org/wiki/'\", \"'https://en.wikiversity.org/wiki/'\", \"'https://en.wikivoyage.org/wiki/'\", \"'https://en.wiktionary.org/wiki/'\", \"'https://meta.wikimedia.org/wiki/List_of_Wikipedias'\", \"'https://ar.wikipedia.org/wiki/'\", \"'https://de.wikipedia.org/wiki/'\", \"'https://es.wikipedia.org/wiki/'\", \"'https://fr.wikipedia.org/wiki/'\", \"'https://it.wikipedia.org/wiki/'\", \"'https://nl.wikipedia.org/wiki/'\", \"'https://ja.wikipedia.org/wiki/'\", \"'https://pl.wikipedia.org/wiki/'\", \"'https://pt.wikipedia.org/wiki/'\", \"'https://ru.wikipedia.org/wiki/'\", \"'https://sv.wikipedia.org/wiki/'\", \"'https://uk.wikipedia.org/wiki/'\", \"'https://vi.wikipedia.org/wiki/'\", \"'https://zh.wikipedia.org/wiki/'\", \"'https://id.wikipedia.org/wiki/'\", \"'https://ms.wikipedia.org/wiki/'\", \"'https://zh-min-nan.wikipedia.org/wiki/'\", \"'https://bg.wikipedia.org/wiki/'\", \"'https://ca.wikipedia.org/wiki/'\", \"'https://cs.wikipedia.org/wiki/'\", \"'https://da.wikipedia.org/wiki/'\", \"'https://eo.wikipedia.org/wiki/'\", \"'https://eu.wikipedia.org/wiki/'\", \"'https://fa.wikipedia.org/wiki/'\", \"'https://he.wikipedia.org/wiki/'\", \"'https://ko.wikipedia.org/wiki/'\", \"'https://hu.wikipedia.org/wiki/'\", \"'https://no.wikipedia.org/wiki/'\", \"'https://ro.wikipedia.org/wiki/'\", \"'https://sr.wikipedia.org/wiki/'\", \"'https://sh.wikipedia.org/wiki/'\", \"'https://fi.wikipedia.org/wiki/'\", \"'https://tr.wikipedia.org/wiki/'\", \"'https://ast.wikipedia.org/wiki/'\", \"'https://bn.wikipedia.org/wiki/'\", \"'https://bs.wikipedia.org/wiki/'\", \"'https://et.wikipedia.org/wiki/'\", \"'https://el.wikipedia.org/wiki/'\", \"'https://simple.wikipedia.org/wiki/'\", \"'https://ga.wikipedia.org/wiki/'\", \"'https://gl.wikipedia.org/wiki/'\", \"'https://hr.wikipedia.org/wiki/'\", \"'https://lv.wikipedia.org/wiki/'\", \"'https://lt.wikipedia.org/wiki/'\", \"'https://ml.wikipedia.org/wiki/'\", \"'https://mk.wikipedia.org/wiki/'\", \"'https://nn.wikipedia.org/wiki/'\", \"'https://sq.wikipedia.org/wiki/'\", \"'https://sk.wikipedia.org/wiki/'\", \"'https://sl.wikipedia.org/wiki/'\", \"'https://th.wikipedia.org/wiki/'\", \"'https://ka.wikipedia.org/wiki/'\", \"'https://en.wikipedia.org//en.wikipedia.org/wiki/Wikipedia:Text_of_the_Creative_Commons_Attribution-ShareAlike_3.0_Unported_License'\", \"'https://en.wikipedia.org//creativecommons.org/licenses/by-sa/3.0/'\", \"'https://en.wikipedia.org//foundation.wikimedia.org/wiki/Terms_of_Use'\", \"'https://en.wikipedia.org//foundation.wikimedia.org/wiki/Privacy_policy'\", \"'https://en.wikipedia.org//www.wikimediafoundation.org/'\", \"'https://foundation.wikimedia.org/wiki/Privacy_policy'\", \"'https://en.wikipedia.org/wiki/Wikipedia:General_disclaimer'\", \"'https://developer.wikimedia.org'\", \"'https://stats.wikimedia.org/#/en.wikipedia.org'\", \"'https://wikimediafoundation.org/'\", \"'https://www.mediawiki.org/'\", \n",
        "\n",
        "    ]\n",
        "\n",
        "# Iterate through the paragraphs of the document\n",
        "for para in doc.paragraphs:\n",
        "    for keyword in keywords:\n",
        "        if keyword in para.text:\n",
        "            # If the keyword is found in the paragraph, remove it\n",
        "            para.text = para.text.replace(keyword, \"\")"
      ],
      "metadata": {
        "id": "PE4mC_OUJVP1"
      },
      "execution_count": null,
      "outputs": []
    }
  ]
}