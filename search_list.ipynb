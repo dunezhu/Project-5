{
  "nbformat": 4,
  "nbformat_minor": 0,
  "metadata": {
    "colab": {
      "provenance": [],
      "authorship_tag": "ABX9TyNfyOsbW4KZ9lBnN/yoxQRq"
    },
    "kernelspec": {
      "name": "python3",
      "display_name": "Python 3"
    },
    "language_info": {
      "name": "python"
    }
  },
  "cells": [
    {
      "cell_type": "code",
      "source": [
        "#1 Import the necessary libraries\n",
        "!pip install python-docx\n",
        "import docx\n",
        "from google.colab import files\n",
        "\n",
        "# Select the Word file from your Local Machine\n",
        "uploaded = files.upload()\n",
        "\n",
        "# Open the Word file\n",
        "doc = docx.Document(list(uploaded.keys())[0])\n",
        "\n",
        "#CHANGE THE GOOGLE DOC NAME WITH EACH DOWNLOAD TO LOCAL MACHINE AS COLAB SAVES PREVIOUS NAME IN MEMORY"
      ],
      "metadata": {
        "id": "oiqjS2vyUB83"
      },
      "execution_count": null,
      "outputs": []
    },
    {
      "cell_type": "code",
      "source": [
        "###SEARCH PROGRAM CAN CREATE A WEBSITE LAYER LIST OF 5,000 MAX URLS FROM BASE URL LIST  "
      ],
      "metadata": {
        "id": "vw7uT4IpMErM"
      },
      "execution_count": null,
      "outputs": []
    },
    {
      "cell_type": "code",
      "source": [
        "#2 PRINT: Iterate through each paragraph in the document\n",
        "for paragraph in doc.paragraphs:\n",
        "  # Print the text of the paragraph\n",
        "  print(paragraph.text)"
      ],
      "metadata": {
        "id": "OBKCXGHVUzM4"
      },
      "execution_count": null,
      "outputs": []
    },
    {
      "cell_type": "code",
      "source": [
        "#3A Check if the line is equal to '/' and delete\n",
        "for para in doc.paragraphs:\n",
        "    if para.text == '/':\n",
        "        para.text = \"\"\n",
        "\n",
        "#3B Check if the line starts with '/file' and delete\n",
        "for para in doc.paragraphs:\n",
        "    if para.text.startswith('/file'):\n",
        "        para.text = \"\"\n",
        "\n",
        "#3C Check if the line contains 'pdf' and delete\n",
        "for para in doc.paragraphs:\n",
        "    if 'pdf' in para.text:\n",
        "        para.text = \"\"\n",
        "\n",
        "#3D Check if the line contains 'download' and delete\n",
        "for para in doc.paragraphs:\n",
        "    if 'download' in para.text:\n",
        "        para.text = \"\"\n",
        "\n",
        "#3E Check if the line contains 'Search' and delete\n",
        "for para in doc.paragraphs:\n",
        "    if 'Search' in para.text:\n",
        "        para.text = \"\"\n",
        "\n",
        "#3F Check if the line contains 'php' and delete\n",
        "for para in doc.paragraphs:\n",
        "    if 'php' in para.text:\n",
        "        para.text = \"\"\n",
        "\n",
        "#3G Check if the line contains 'javascript' and delete\n",
        "for para in doc.paragraphs:\n",
        "    # Check if the line contains 'javascript' and delete\n",
        "    if 'javascript' in para.text:\n",
        "        para.text = \"\"\n",
        "\n",
        "#3H Check if the line contains 'google' and delete\n",
        "for para in doc.paragraphs:\n",
        "    if 'google' in para.text:\n",
        "        para.text = \"\"\n",
        "\n",
        "#3I Check if the line contains 'instagram' and delete\n",
        "for para in doc.paragraphs:\n",
        "    if 'instagram' in para.text:\n",
        "        para.text = \"\"\n",
        "\n",
        "#3J Check if the line contains 'youtube' and delete\n",
        "for para in doc.paragraphs:\n",
        "    if 'youtube' in para.text:\n",
        "        para.text = \"\"\n",
        "\n",
        "#3K Check if the line contains 'twitter' and delete\n",
        "for para in doc.paragraphs:\n",
        "    if 'twitter' in para.text:\n",
        "        para.text = \"\"\n",
        "\n",
        "#3L Check if the line contains 'facebook' and delete\n",
        "for para in doc.paragraphs:\n",
        "    if 'facebook' in para.text:\n",
        "        para.text = \"\"\n",
        "\n",
        "#3M Check if the line contains 'linkedin' and delete\n",
        "for para in doc.paragraphs:\n",
        "    if 'linkedin' in para.text:\n",
        "        para.text = \"\"\n",
        "\n",
        "#3N Check if the line contains 'amazonaws' and delete\n",
        "for para in doc.paragraphs:\n",
        "    if 'amazonaws' in para.text:\n",
        "        para.text = \"\"\n",
        "\n",
        "#3O Check if the line contains '%' and delete\n",
        "for para in doc.paragraphs:\n",
        "    if '%' in para.text:\n",
        "        para.text = \"\"\n",
        "\n",
        "#3P Check if the line contains 'Cookie' and delete\n",
        "for para in doc.paragraphs:\n",
        "    if 'Cookie' in para.text:\n",
        "        para.text = \"\"\n",
        "\n",
        "#3Q Check if the line contains 'stats' and delete\n",
        "for para in doc.paragraphs:\n",
        "    if 'stats' in para.text:\n",
        "        para.text = \"\"\n",
        "\n",
        "#3R Check if the line contains 'todd.mn' and delete\n",
        "for para in doc.paragraphs:\n",
        "    if 'todd.mn' in para.text:\n",
        "        para.text = \"\"\n",
        "\n",
        "#3S Check if the line contains 'intra.revisor' and delete\n",
        "for para in doc.paragraphs:\n",
        "    if 'intra.revisor' in para.text:\n",
        "        para.text = \"\""
      ],
      "metadata": {
        "id": "ZdS1H-iFoLng"
      },
      "execution_count": null,
      "outputs": []
    },
    {
      "cell_type": "code",
      "source": [
        "#2 PRINT: Iterate through each paragraph in the document\n",
        "for paragraph in doc.paragraphs:\n",
        "  # Print the text of the paragraph\n",
        "  print(paragraph.text)"
      ],
      "metadata": {
        "id": "TUuQ6-czqH3o"
      },
      "execution_count": null,
      "outputs": []
    },
    {
      "cell_type": "code",
      "source": [
        "#4A [URL SPECIFIC]: Add 'https://www.sourcewell-mn.gov' before all entries beginning in '/' : remove '/' at end of URL if copying over website\n",
        "for para in doc.paragraphs:\n",
        "    if para.text.startswith('/') and not para.text.startswith('//'):\n",
        "        para.text = \"https://www.sourcewell-mn.gov\" + para.text\n",
        "\n",
        "#4(1.29) [2nd LAYER URL SPECIFIC]: Add 'https://www.sourcewell-mn.gov/contract-search' before all entries beginning in '?' \n",
        "for para in doc.paragraphs:\n",
        "    if para.text.startswith('?'):\n",
        "        para.text = \"https://www.sourcewell-mn.gov/contract-search\" + para.text\n",
        "      \n",
        "#4B Add https: before all entries beginning in //\n",
        "for para in doc.paragraphs:\n",
        "    if para.text.startswith('//'):\n",
        "        para.text = \"https:\" + para.text\n",
        "\n",
        "#4C Check if the line does not start with 'http' and delete\n",
        "for para in doc.paragraphs:\n",
        "    if not para.text.startswith(\"http\"):\n",
        "        para.text = \"\"\n",
        "\n",
        "#4D Iterate through the paragraphs in the document and delete duplicates\n",
        "#Create a set to store unique lines\n",
        "unique_lines = set()\n",
        "\n",
        "for para in doc.paragraphs:\n",
        "    # If the line is not already in the set, add it\n",
        "    if para.text not in unique_lines:\n",
        "        unique_lines.add(para.text)\n",
        "    # If the line is already in the set, remove it\n",
        "    else:\n",
        "        para.text = \"\"\n",
        "\n",
        "#4E Add ' before all entries beginning in http\n",
        "for para in doc.paragraphs:\n",
        "    if para.text.startswith('http'):\n",
        "        para.text = \"'\" + para.text\n",
        "\n",
        "#4F Add ' after all entries beginning in http\n",
        "for para in doc.paragraphs:\n",
        "    if para.text.startswith(\"'http\"):\n",
        "        para.text += \"'\""
      ],
      "metadata": {
        "id": "OUg_9QQvs6UT"
      },
      "execution_count": null,
      "outputs": []
    },
    {
      "cell_type": "code",
      "source": [
        "#2 PRINT: Iterate through each paragraph in the document\n",
        "for paragraph in doc.paragraphs:\n",
        "  # Print the text of the paragraph\n",
        "  print(paragraph.text)"
      ],
      "metadata": {
        "id": "oWO3DyCMocqy"
      },
      "execution_count": null,
      "outputs": []
    },
    {
      "cell_type": "code",
      "source": [
        "###RUN STEP 5 IF THIS IS THE 1ST LAYER THEN STEP 6 FOR USE IN THE 2ND LAYER EXCEPT IF THIS IS 2ND TIME THROUGH\n",
        "###THEN RUN STEP 6 TO CREATE A \"'FORMATTED KEYWORDS LIST'\" FOR STEP 10QUANTUM\n",
        "###RUN THE CURRENT [Nth] STEP 10QUANTUM IF THIS IS THE 2ND AND SUBSEQUENT LAYERS: REPEAT NEXT \n",
        "###POPULATE \"'FORMATTED KEYWORDS LIST'\" INTO the [Nth] STEP10QUANTUM FOR USE IN SUBSEQUENT LAYERS"
      ],
      "metadata": {
        "id": "xcRg_za4KCAZ"
      },
      "execution_count": null,
      "outputs": []
    },
    {
      "cell_type": "code",
      "source": [
        "#5 [1ST LAYER SPECIFIC]: Check if the line is equal to the base URL and applicable outer URL(s) and delete for the -1st and PRECURSIVE LAYERS\n",
        "keywords = [\n",
        "\n",
        " \"'https://www.sourcewell-mn.gov/'\"\n",
        "\n",
        "    ]\n",
        "\n",
        "# Iterate through the paragraphs of the document\n",
        "for para in doc.paragraphs:\n",
        "    for keyword in keywords:\n",
        "        if keyword in para.text:\n",
        "            # If the keyword is found in the paragraph, remove it\n",
        "            para.text = para.text.replace(keyword, \"\")"
      ],
      "metadata": {
        "id": "CkjI3gzCfDxa"
      },
      "execution_count": null,
      "outputs": []
    },
    {
      "cell_type": "code",
      "source": [
        "#2 PRINT: Iterate through each paragraph in the document\n",
        "for paragraph in doc.paragraphs:\n",
        "  # Print the text of the paragraph\n",
        "  print(paragraph.text)"
      ],
      "metadata": {
        "id": "riybhLBgVv2I"
      },
      "execution_count": null,
      "outputs": []
    },
    {
      "cell_type": "code",
      "source": [
        "#6A Add '\"' to all entries beginning in \"'\"\n",
        "for para in doc.paragraphs:\n",
        "    if para.text.startswith(\"'\"):\n",
        "        para.text = '\"' + para.text\n",
        "\n",
        "#6B Add '\"' after all entries beginning in '\"'\n",
        "for para in doc.paragraphs:\n",
        "    if para.text.startswith('\"'):\n",
        "        para.text += '\"'\n",
        "\n",
        "#6C Add ',' after all entries beginning in '\"'\n",
        "for para in doc.paragraphs:\n",
        "    if para.text.startswith('\"'):\n",
        "        para.text += \",\""
      ],
      "metadata": {
        "id": "ysPmd0SOwtow"
      },
      "execution_count": null,
      "outputs": []
    },
    {
      "cell_type": "code",
      "source": [
        "#2 PRINT: Iterate through each paragraph in the document\n",
        "for paragraph in doc.paragraphs:\n",
        "  # Print the text of the paragraph\n",
        "  print(paragraph.text)"
      ],
      "metadata": {
        "id": "UWHI_cnOpPG_"
      },
      "execution_count": null,
      "outputs": []
    },
    {
      "cell_type": "code",
      "source": [
        "###JUMP TO STEPS 8 AND 9 TO CREATE \"'KEYWORDS LIST'\" TO POPULATE INTO STEP 10 CODE"
      ],
      "metadata": {
        "id": "RRFyffPx-wVv"
      },
      "execution_count": null,
      "outputs": []
    },
    {
      "cell_type": "code",
      "source": [
        "#7 Add , after all entries beginning in '\n",
        "for para in doc.paragraphs:\n",
        "    if para.text.startswith(\"'\"):\n",
        "        para.text += \",\""
      ],
      "metadata": {
        "id": "FWlhRLgYqOGB"
      },
      "execution_count": null,
      "outputs": []
    },
    {
      "cell_type": "code",
      "source": [
        "#2 PRINT: Iterate through each paragraph in the document\n",
        "for paragraph in doc.paragraphs:\n",
        "  # Print the text of the paragraph\n",
        "  print(paragraph.text)"
      ],
      "metadata": {
        "id": "z2Ky_2jKuHkm"
      },
      "execution_count": null,
      "outputs": []
    },
    {
      "cell_type": "code",
      "source": [
        "#8 Save the changes to a modified document\n",
        "doc.save('modified.docx')\n",
        "\n",
        "# Download the modified Word file\n",
        "files.download('modified.docx')"
      ],
      "metadata": {
        "id": "NBn__qNvVq7P",
        "colab": {
          "base_uri": "https://localhost:8080/",
          "height": 17
        },
        "outputId": "f5f63b34-08ef-4e09-cc3d-4f16ae20d0e2"
      },
      "execution_count": null,
      "outputs": [
        {
          "output_type": "display_data",
          "data": {
            "text/plain": [
              "<IPython.core.display.Javascript object>"
            ],
            "application/javascript": [
              "\n",
              "    async function download(id, filename, size) {\n",
              "      if (!google.colab.kernel.accessAllowed) {\n",
              "        return;\n",
              "      }\n",
              "      const div = document.createElement('div');\n",
              "      const label = document.createElement('label');\n",
              "      label.textContent = `Downloading \"${filename}\": `;\n",
              "      div.appendChild(label);\n",
              "      const progress = document.createElement('progress');\n",
              "      progress.max = size;\n",
              "      div.appendChild(progress);\n",
              "      document.body.appendChild(div);\n",
              "\n",
              "      const buffers = [];\n",
              "      let downloaded = 0;\n",
              "\n",
              "      const channel = await google.colab.kernel.comms.open(id);\n",
              "      // Send a message to notify the kernel that we're ready.\n",
              "      channel.send({})\n",
              "\n",
              "      for await (const message of channel.messages) {\n",
              "        // Send a message to notify the kernel that we're ready.\n",
              "        channel.send({})\n",
              "        if (message.buffers) {\n",
              "          for (const buffer of message.buffers) {\n",
              "            buffers.push(buffer);\n",
              "            downloaded += buffer.byteLength;\n",
              "            progress.value = downloaded;\n",
              "          }\n",
              "        }\n",
              "      }\n",
              "      const blob = new Blob(buffers, {type: 'application/binary'});\n",
              "      const a = document.createElement('a');\n",
              "      a.href = window.URL.createObjectURL(blob);\n",
              "      a.download = filename;\n",
              "      div.appendChild(a);\n",
              "      a.click();\n",
              "      div.remove();\n",
              "    }\n",
              "  "
            ]
          },
          "metadata": {}
        },
        {
          "output_type": "display_data",
          "data": {
            "text/plain": [
              "<IPython.core.display.Javascript object>"
            ],
            "application/javascript": [
              "download(\"download_c03f9c1e-b94b-4430-84ce-1939ad8a796e\", \"modified.docx\", 27988)"
            ]
          },
          "metadata": {}
        }
      ]
    },
    {
      "cell_type": "code",
      "source": [
        "#9 Convert the Word file to a Text file and download\n",
        "!pip install docx2txt\n",
        "from google.colab import files\n",
        "import docx2txt\n",
        "\n",
        "# Upload the word document from the desktop\n",
        "uploaded = files.upload()\n",
        "\n",
        "for name, data in uploaded.items():\n",
        "    with open(name, 'wb') as f:\n",
        "        f.write(data)\n",
        "    print(f'File \"{name}\" was imported successfully!')\n",
        "    \n",
        "    # Extract text from the word document\n",
        "    text = docx2txt.process(name)\n",
        "\n",
        "    # Remove blank spaces and newline characters\n",
        "    text = text.replace(\"\\n\", \" \")\n",
        "    text = \" \".join(text.split())\n",
        "\n",
        "    # Save the text to a file\n",
        "    with open(name+\".txt\", \"w\") as text_file:\n",
        "        text_file.write(text)\n",
        "        \n",
        "    # Download the text file\n",
        "    files.download(name+\".txt\")"
      ],
      "metadata": {
        "id": "VYp9UlIyxVK9"
      },
      "execution_count": null,
      "outputs": []
    },
    {
      "cell_type": "code",
      "source": [
        "###POPULATE 'keywords' IN STEP 10QUANTUM FOR USE SUBSEQUENT LAYERS IF 1ST TIME THROUGH"
      ],
      "metadata": {
        "id": "wsGH1YIJJzfZ"
      },
      "execution_count": null,
      "outputs": []
    },
    {
      "cell_type": "code",
      "source": [
        "###ELSE EXIT PROGRAM IF 2ND TIME EXECUTING CODE"
      ],
      "metadata": {
        "id": "z_QPmiUCYFOp"
      },
      "execution_count": null,
      "outputs": []
    },
    {
      "cell_type": "code",
      "source": [
        "#10QUANTUM THIS IS FOR THE SUBSEQUENT LAYERS SPECIFIC: Define a list of recursive URLs to delete for [4th] LAYER URL LIST SEARCH\n",
        "keywords = [\n",
        "\n",
        "\"'https://www.sourcewell-mn.gov/cooperative-purchasing/062421-lss-2'\", \"'https://www.sourcewell-mn.gov/cooperative-purchasing/121919-hmn'\", \"'https://www.sourcewell-mn.gov/cooperative-purchasing/031121-hsq'\", \"'https://www.sourcewell-mn.gov/cooperative-purchasing/040220-hsq'\", \"'https://www.sourcewell-mn.gov/cooperative-purchasing/091719-hsc'\", \"'https://www.sourcewell-mn.gov/cooperative-purchasing/031121-hte'\", \"'https://www.sourcewell-mn.gov/cooperative-purchasing/090320-hyl'\", \"'https://www.sourcewell-mn.gov/cooperative-purchasing/032119-hce'\", \"'https://www.sourcewell-mn.gov/cooperative-purchasing/091520-hce'\", \"'https://www.sourcewell-mn.gov/cooperative-purchasing/063020-icb'\", \"'https://www.sourcewell-mn.gov/cooperative-purchasing/042021-icm'\", \"'https://www.sourcewell-mn.gov/cooperative-purchasing/032521-imp'\", \"'https://www.sourcewell-mn.gov/cooperative-purchasing/012722-ich'\", \"'https://www.sourcewell-mn.gov/cooperative-purchasing/071321-inf'\", \"'https://www.sourcewell-mn.gov/contract-search?location=&title=&field_type=All&category=All&keyword=&page=6'\", \"'https://www.sourcewell-mn.gov/contract-search?location=&title=&field_type=All&category=All&keyword=&page=3'\", \"'https://www.sourcewell-mn.gov/contract-search?location=&title=&field_type=All&category=All&keyword=&page=4'\", \"'https://www.sourcewell-mn.gov/contract-search?location=&title=&field_type=All&category=All&keyword=&page=5'\", \"'https://www.sourcewell-mn.gov/contract-search?location=&title=&field_type=All&category=All&keyword=&page=7'\", \"'https://www.sourcewell-mn.gov/contract-search?location=&title=&field_type=All&category=All&keyword=&page=8'\", \"'https://www.sourcewell-mn.gov/contract-search?location=&title=&field_type=All&category=All&keyword=&page=9'\", \"'https://www.sourcewell-mn.gov/contract-search?location=&title=&field_type=All&category=All&keyword=&page=10'\", \"'https://www.sourcewell-mn.gov/contract-search?location=&title=&field_type=All&category=All&keyword=&page=11'\", \"'https://www.sourcewell-mn.gov/about'\", \"'https://www.sourcewell-mn.gov/careers'\", \"'https://www.sourcewell-mn.gov/compliance-legal'\", \"'https://www.sourcewell-mn.gov/contact-sourcewell'\", \"'https://news.sourcewell-mn.gov'\", \"'https://www.sourcewell-mn.gov/privacy-policy'\", \"'https://www.sourcewell.org/'\", \"'https://mn.sourcewell.org/'\", \"'https://www.sourcewell-mn.gov/sourcewell-for-vendors'\", \"'https://www.sourcewell-mn.gov/cooperative-purchasing'\", \"'https://www.sourcewell-mn.gov/contract-search'\", \"'https://start.sourcewell.website'\", \"'https://www.sourcewell-mn.gov/solicitations'\", \"'https://www.sourcewell-mn.gov/register'\", \"'https://www.sourcewell-mn.gov/cooperative-purchasing/032620-ino'\", \"'https://www.sourcewell-mn.gov/cooperative-purchasing/022719-pcm'\", \"'https://www.sourcewell-mn.gov/cooperative-purchasing/080819-ifa'\", \"'https://www.sourcewell-mn.gov/cooperative-purchasing/060920-nvs'\", \"'https://www.sourcewell-mn.gov/cooperative-purchasing/072822-rbz'\", \"'https://www.sourcewell-mn.gov/cooperative-purchasing/042021-iac'\", \"'https://www.sourcewell-mn.gov/cooperative-purchasing/010720-pan'\", \"'https://www.sourcewell-mn.gov/cooperative-purchasing/062222-jal'\", \"'https://www.sourcewell-mn.gov/cooperative-purchasing/080818-jal'\", \"'https://www.sourcewell-mn.gov/cooperative-purchasing/032521-jas'\", \"'https://www.sourcewell-mn.gov/cooperative-purchasing/040319-jcb'\", \"'https://www.sourcewell-mn.gov/cooperative-purchasing/092920-jfa'\", \"'https://www.sourcewell-mn.gov/cooperative-purchasing/011822-jhb'\", \"'https://www.sourcewell-mn.gov/cooperative-purchasing/092922-jhb'\", \"'https://www.sourcewell-mn.gov/cooperative-purchasing/032119-jdc'\", \"'https://www.sourcewell-mn.gov/cooperative-purchasing/030421-tis'\", \"'https://www.sourcewell-mn.gov/cooperative-purchasing/030421-jhn'\", \"'https://www.sourcewell-mn.gov/cooperative-purchasing/070121-jhn'\", \"'https://www.sourcewell-mn.gov/cooperative-purchasing/071321-jdg'\", \"'https://www.sourcewell-mn.gov/cooperative-purchasing/010920-krs'\", \"'https://www.sourcewell-mn.gov/cooperative-purchasing/080819-kar'\", \"'https://www.sourcewell-mn.gov/cooperative-purchasing/062421-kel'\", \"'https://www.sourcewell-mn.gov/cooperative-purchasing/060920-ktc'\", \"'https://www.sourcewell-mn.gov/cooperative-purchasing/121919-kii'\", \"'https://www.sourcewell-mn.gov/cooperative-purchasing/040220-kpp'\", \"'https://www.sourcewell-mn.gov/cooperative-purchasing/080521-kmi'\", \"'https://www.sourcewell-mn.gov/cooperative-purchasing/113021-rvg-3'\", \"'https://www.sourcewell-mn.gov/cooperative-purchasing/092222-koh'\", \"'https://www.sourcewell-mn.gov/cooperative-purchasing/032119-kom'\", \"'https://www.sourcewell-mn.gov/cooperative-purchasing/050119-kmp'\", \"'https://www.sourcewell-mn.gov/contract-search?location=&title=&field_type=All&category=All&keyword=&page=12'\", \"'https://cloud.email.sourcewell-mn.gov/fleetguide'\", \"'https://www.sourcewell-mn.gov/contract-search?category=11116&keyword='\", \"'https://www.sourcewell-mn.gov/contract-search?category=11136&keyword='\", \"'https://www.sourcewell-mn.gov/contract-search?category=10871&keyword='\", \"'https://www.sourcewell-mn.gov/contract-search?category=11111&keyword='\", \"'https://www.sourcewell-mn.gov/contract-search?category=11146&keyword='\", \"'https://www.sourcewell-mn.gov/contract-search?category=11151&keyword='\", \"'https://www.sourcewell-mn.gov/contract-search?category=11106&keyword='\", \"'https://www.sourcewell-mn.gov/contract-search?category=11101&keyword='\", \"'http://cloud.email.sourcewell-mn.gov/fire-service-guide'\", \"'https://www.sourcewell-mn.gov/contract-search?category=11071&keyword='\", \"'https://www.sourcewell-mn.gov/contract-search?category=11076&keyword='\", \"'https://www.sourcewell-mn.gov/contract-search?category=11066&keyword=PPE'\", \"'https://www.sourcewell-mn.gov/lookup'\", \"'https://www.sourcewell-mn.gov/contract-search?category=10831&keyword='\", \"'https://www.sourcewell-mn.gov/contract-search?category=11051&keyword='\", \"'https://www.sourcewell-mn.gov/esser-information'\", \"'https://oese.ed.gov/offices/education-stabilization-fund/elementary-secondary-school-emergency-relief-fund/'\", \"'https://www.sourcewell-mn.gov/cooperative-purchasing/031622-atf'\", \"'https://www.sourcewell-mn.gov/cooperative-purchasing/010521-bur'\", \"'https://www.sourcewell-mn.gov/cooperative-purchasing/120320-ath-1'\", \"'https://www.sourcewell-mn.gov/cooperative-purchasing/120320-ath-2'\", \"'https://www.sourcewell-mn.gov/cooperative-purchasing/031022-ger-2'\", \"'https://www.sourcewell-mn.gov/cooperative-purchasing/031022-ftu'\", \"'https://www.sourcewell-mn.gov/cooperative-purchasing/031622-ftu'\", \"'https://www.sourcewell-mn.gov/cooperative-purchasing/060518-ftu'\", \"'https://www.sourcewell-mn.gov/cooperative-purchasing/031622-fvl'\", \"'https://www.sourcewell-mn.gov/cooperative-purchasing/031022-ger'\", \"'https://www.sourcewell-mn.gov/cooperative-purchasing/031622-hlc'\", \"'https://www.sourcewell-mn.gov/cooperative-purchasing/010521-lsi'\", \"'https://www.sourcewell-mn.gov/cooperative-purchasing/031622-mui'\", \"'https://www.sourcewell-mn.gov/cooperative-purchasing/010521-lts-1'\", \"'https://www.sourcewell-mn.gov/cooperative-purchasing/031022-ger-1'\", \"'https://www.sourcewell-mn.gov/cooperative-purchasing/031022-rec-3'\", \"'https://www.sourcewell-mn.gov/cooperative-purchasing/031022-rbi'\", \"'https://www.sourcewell-mn.gov/cooperative-purchasing/031622-sii'\", \"'https://www.sourcewell-mn.gov/cooperative-purchasing/060518-sii'\", \"'https://www.sourcewell-mn.gov/cooperative-purchasing/031022-ger-3'\", \"'https://www.sourcewell-mn.gov/cooperative-purchasing/031622-snt'\", \"'https://www.sourcewell-mn.gov/cooperative-purchasing/031022-rec-1'\", \"'https://www.sourcewell-mn.gov/cooperative-purchasing/031622-tna'\", \"'https://www.sourcewell-mn.gov/cooperative-purchasing/031022-rec-2'\", \"'https://www.sourcewell-mn.gov/contract-search?category=10886&keyword=&page=0'\", \"'https://www.sourcewell-mn.gov/contract-search?category=10886&keyword=&page=1'\", \"'https://www.sourcewell-mn.gov/cooperative-purchasing/080819-bps'\", \"'https://www.sourcewell-mn.gov/cooperative-purchasing/040920-bla'\", \"'https://www.sourcewell-mn.gov/cooperative-purchasing/013019-bsc'\", \"'https://www.sourcewell-mn.gov/contract-search?category=10966'\", \"'https://www.sourcewell-mn.gov/cooperative-purchasing/040319-cec'\", \"'https://www.sourcewell-mn.gov/cooperative-purchasing/041719-cec'\", \"'https://www.sourcewell-mn.gov/cooperative-purchasing/091319-brt'\", \"'https://www.sourcewell-mn.gov/cooperative-purchasing/091319-clh'\", \"'https://www.sourcewell-mn.gov/cooperative-purchasing/070121-car'\", \"'https://www.sourcewell-mn.gov/cooperative-purchasing/092222-cat'\", \"'https://www.sourcewell-mn.gov/cooperative-purchasing/030421-ctl'\", \"'https://www.sourcewell-mn.gov/cooperative-purchasing/121919-cor'\", \"'https://www.sourcewell-mn.gov/cooperative-purchasing/092222-cmm'\", \"'https://www.sourcewell-mn.gov/cooperative-purchasing/010920-dbm'\", \"'https://www.sourcewell-mn.gov/cooperative-purchasing/042821-eco'\", \"'https://www.sourcewell-mn.gov/cooperative-purchasing/020421-eyg'\", \"'https://www.sourcewell-mn.gov/cooperative-purchasing/050421-fac'\", \"'https://www.sourcewell-mn.gov/cooperative-purchasing/091422-fas'\", \"'https://www.sourcewell-mn.gov/cooperative-purchasing/070121-hmi'\", \"'https://www.sourcewell-mn.gov/cooperative-purchasing/041719-gen'\", \"'https://www.sourcewell-mn.gov/cooperative-purchasing/092222-gnr'\", \"'https://www.sourcewell-mn.gov/cooperative-purchasing/020421-ggi'\", \"'https://www.sourcewell-mn.gov/cooperative-purchasing/020421-act'\", \"'https://www.sourcewell-mn.gov/cooperative-purchasing/080922-wwg'\", \"'https://www.sourcewell-mn.gov/contract-search?category=11176'\", \"'https://www.sourcewell-mn.gov/contract-search?category=10956'\", \"'https://www.sourcewell-mn.gov/contract-search?category=10926'\", \"'https://www.sourcewell-mn.gov/cooperative-purchasing/090122-wwg'\", \"'https://www.sourcewell-mn.gov/cooperative-purchasing/091422-wwg'\", \"'https://www.sourcewell-mn.gov/cooperative-purchasing/101320-wwg'\", \"'https://www.sourcewell-mn.gov/cooperative-purchasing/070121-hny'\", \"'https://www.sourcewell-mn.gov/contract-search?category=10791&keyword=&page=0'\", \"'https://www.sourcewell-mn.gov/contract-search?category=10791&keyword=&page=1'\", \"'https://www.sourcewell-mn.gov/contract-search?category=10791&keyword=&page=2'\", \"'https://www.sourcewell-mn.gov/contract-search?category=10791&keyword=&page=3'\", \"'https://www.sourcewell-mn.gov/cooperative-purchasing/112420-cas'\", \"'https://www.sourcewell-mn.gov/cooperative-purchasing/091319-css'\", \"'https://www.sourcewell-mn.gov/cooperative-purchasing/081721-cxt'\", \"'https://www.sourcewell-mn.gov/cooperative-purchasing/050819-dak'\", \"'https://www.sourcewell-mn.gov/cooperative-purchasing/091719-dct'\", \"'https://www.sourcewell-mn.gov/cooperative-purchasing/093021-exp'\", \"'https://www.sourcewell-mn.gov/cooperative-purchasing/010521-lts-2'\", \"'https://www.sourcewell-mn.gov/cooperative-purchasing/010721-grn'\", \"'https://www.sourcewell-mn.gov/cooperative-purchasing/010721-lsi'\", \"'https://www.sourcewell-mn.gov/cooperative-purchasing/010521-lts-4'\", \"'https://www.sourcewell-mn.gov/cooperative-purchasing/010521-lts-3'\", \"'https://www.sourcewell-mn.gov/cooperative-purchasing/050819-nvc'\", \"'https://www.sourcewell-mn.gov/cooperative-purchasing/081721-niu'\", \"'https://www.sourcewell-mn.gov/cooperative-purchasing/081120-tru-1'\", \"'https://www.sourcewell-mn.gov/cooperative-purchasing/010721-odr'\", \"'https://www.sourcewell-mn.gov/cooperative-purchasing/010521-lts-8'\", \"'https://www.sourcewell-mn.gov/cooperative-purchasing/012621-ppc'\", \"'https://www.sourcewell-mn.gov/cooperative-purchasing/081721-prm'\", \"'https://www.sourcewell-mn.gov/cooperative-purchasing/010521-rdp'\", \"'https://www.sourcewell-mn.gov/cooperative-purchasing/081721-rmt'\", \"'https://www.sourcewell-mn.gov/contract-search?category=10916&keyword=&page=0'\", \"'https://www.sourcewell-mn.gov/contract-search?category=10916&keyword=&page=1'\", \"'https://www.sourcewell-mn.gov/cooperative-purchasing/080119-att'\", \"'https://www.sourcewell-mn.gov/contract-search?category=10846'\", \"'https://www.sourcewell-mn.gov/cooperative-purchasing/090320-sdi'\", \"'https://www.sourcewell-mn.gov/cooperative-purchasing/071321-cdw'\", \"'https://www.sourcewell-mn.gov/cooperative-purchasing/081419-cdw'\", \"'https://www.sourcewell-mn.gov/cooperative-purchasing/071321-cai'\", \"'https://www.sourcewell-mn.gov/cooperative-purchasing/081419-gvc'\", \"'https://www.sourcewell-mn.gov/cooperative-purchasing/042020-wwr'\", \"'https://www.sourcewell-mn.gov/cooperative-purchasing/042020-onl'\", \"'https://www.sourcewell-mn.gov/cooperative-purchasing/030321-eps'\", \"'https://www.sourcewell-mn.gov/cooperative-purchasing/101718-eyg'\", \"'https://www.sourcewell-mn.gov/cooperative-purchasing/080119-att-1'\", \"'https://www.sourcewell-mn.gov/cooperative-purchasing/090320-esl'\", \"'https://www.sourcewell-mn.gov/cooperative-purchasing/040121-h2i'\", \"'https://www.sourcewell-mn.gov/cooperative-purchasing/030321-hpc'\", \"'https://www.sourcewell-mn.gov/contract-search?category=10726&keyword=&page=0'\", \"'https://www.sourcewell-mn.gov/contract-search?category=10726&keyword=&page=1'\", \"'https://www.sourcewell-mn.gov/contract-search?category=10726&keyword=&page=2'\", \"'https://www.sourcewell-mn.gov/cooperative-purchasing/102821-gty'\", \"'https://www.sourcewell-mn.gov/cooperative-purchasing/102821-fmy'\", \"'https://www.sourcewell-mn.gov/cooperative-purchasing/102821-mnd'\", \"'https://www.sourcewell-mn.gov/cooperative-purchasing/102821-lfw'\", \"'https://www.sourcewell-mn.gov/cooperative-purchasing/102821-swd'\", \"'https://www.sourcewell-mn.gov/cooperative-purchasing/102821-tks'\", \"'https://www.filteredeffect.com/'\", \"'https://www.sourcewell-mn.gov/on-demand-services'\", \"'https://www.sourcewell-mn.gov/powerschool-efinance-plus'\", \"'https://www.sourcewell-mn.gov/powerschool-student-information-system'\", \"'https://www.proliftic.org/'\", \"'https://www.springmath.org/'\", \"'https://www.mn.sourcewell.org/education'\", \"'https://www.mn.sourcewell.org/'\", \"'http://www.co.cass.mn.us/'\", \"'http://crowwing.us/'\", \"'http://www.co.morrison.mn.us/'\", \"'https://www.co.todd.mn.us/'\", \"'http://www.co.wadena.mn.us'\", \"'https://www.thegoodlifenorthcentralmn.com/'\", \"'https://www.regionfive.org/welcome'\", \"'http://www.resilientregion.org/plan/'\", \"'http://www.resilientregion.org/'\", \"'https://www.mn.sourcewell.org/insurance-employee-benefits'\", \"'https://www.leg.mn.gov/'\", \"'https://www.leg.mn.gov/search.aspx'\", \"'https://www.house.leg.state.mn.us/'\", \"'https://www.house.leg.state.mn.us/members/hmem.asp'\", \"'https://www.house.leg.state.mn.us/members/houseleaders.asp'\", \"'https://www.house.leg.state.mn.us/hinfo/staff.asp'\", \"'https://www.house.leg.state.mn.us/has/employment.asp'\", \"'https://www.gis.leg.mn/iMaps/districts/'\", \"'https://www.house.leg.state.mn.us/comm/commemlist.asp'\", \"'https://www.house.leg.state.mn.us/hinfo/scheduleall.asp'\", \"'https://www.house.leg.state.mn.us/comm/commminutes.asp'\", \"'https://www.leg.mn.gov/leg/deadlines'\", \"'https://www.house.leg.state.mn.us/cco/cco.asp'\", \"'https://www.house.leg.state.mn.us/fiscal/fahome.asp'\", \"'https://www.house.leg.state.mn.us/hrd/hrd.aspx'\", \"'https://www.house.leg.state.mn.us/hinfo/hinfo.asp'\", \"'https://www.house.leg.state.mn.us/sergeant/sergeant.asp'\", \"'https://www.house.leg.state.mn.us/caucuses.asp'\", \"'https://www.house.leg.state.mn.us/cco/journals/journl.htm'\", \"'https://www.house.leg.state.mn.us/cco/rules/permrule/permrule.asp'\", \"'https://www.house.leg.state.mn.us/cco/rules/jtrule/jtrule.asp'\", \"'https://www.house.leg.state.mn.us/sergeant/education.asp'\", \"'https://www.house.leg.state.mn.us/members/pronunciation.asp'\", \"'https://www.house.leg.state.mn.us/members/meminfo.xls'\", \"'https://www.senate.mn/'\", \"'https://www.senate.mn/committees'\", \"'https://www.senate.mn/departments/scrfa/'\", \"'https://www.senate.mn/rules/rules_joint'\", \"'https://www.commissions.leg.state.mn.us/'\", \"'https://www.revisor.mn.gov/'\", \"'https://www.lrl.mn.gov'\", \"'https://www.auditor.leg.state.mn.us/'\", \"'https://www.lbo.leg.mn/'\", \"'https://www.lcc.leg.mn/'\", \"'https://www.lccmr.leg.mn/'\", \"'https://www.lcpr.leg.mn/'\", \"'https://www.lsohc.leg.mn/'\", \"'https://www.legacy.mn.gov/'\", \"'https://www.leg.mn.gov/leg/schedules'\", \"'https://www.house.leg.state.mn.us/hinfo/hinfosched.asp'\", \"'https://www.house.leg.state.mn.us/cco/orders/orders.htm'\", \"'https://www.house.leg.state.mn.us/cco/calendar.asp'\", \"'https://www.house.leg.state.mn.us/cco/calendarsup.asp'\", \"'https://www.house.leg.state.mn.us/cco/fiscal.asp'\", \"'https://www.senate.mn/orders/calendar.html'\", \"'https://www.senate.mn/orders/go.html'\", \"'https://www.leg.mn.gov/calendarday.aspx'\", \"'https://www.house.leg.state.mn.us/htv/htv.asp'\", \"'https://www.leg.mn.gov/leg/committees'\", \"'https://www.senate.mn/committees/'\", \"'https://www.leg.mn.gov/leg/cc/'\", \"'https://www.revisor.mn.gov/side_by_sides/'\", \"'https://www.leg.mn.gov/leg/legis'\", \"'https://www.house.leg.state.mn.us/cco/introductions.asp'\", \"'https://www.house.leg.state.mn.us/hrd/billsum.aspx'\", \"'https://www.house.leg.state.mn.us/hrd/actsum.aspx'\", \"'https://www.house.leg.state.mn.us/fiscal/tracking.asp'\", \"'https://www.house.leg.state.mn.us/bills/hotlistarchives.asp'\", \"'https://www.leg.mn.gov/leg/legis.aspx'\", \"'https://www.house.leg.state.mn.us/leg/billsublogin.asp'\", \"'https://www.lrl.mn.gov/vetoes/vetodetails.aspx'\", \"'https://www.revisor.mn.gov/laws/current/'\", \"'https://www.revisor.mn.gov/pubs/'\", \"'https://www.revisor.mn.gov/search/?search=all&stat=1&laws=1&rule=1&court=1'\", \"'https://www.revisor.mn.gov/statutes/'\", \"'https://www.revisor.mn.gov/statutes/?view=index'\", \"'https://www.revisor.mn.gov/statutes/?view=archive'\", \"'https://www.revisor.mn.gov/search/?search=all&stat=0&laws=1&rule=0&court=0'\", \"'https://www.revisor.mn.gov/topics/?type=laws'\", \"'https://www.revisor.mn.gov/laws/'\", \"'https://www.revisor.mn.gov/search/?search=all&stat=0&laws=0&rule=1&court=0'\", \"'https://www.revisor.mn.gov/rules/'\", \"'https://www.revisor.mn.gov/topics/?type=rule'\", \"'https://www.revisor.mn.gov/rules/?view=archive'\", \"'https://www.revisor.mn.gov/state_register/'\", \"'https://www.revisor.mn.gov/constitution/'\", \"'https://www.lrl.mn.gov/mngov/constitutionalamendments.aspx'\", \"'https://www.revisor.mn.gov/court_rules/'\", \"'https://www.leg.mn.gov/leg/multimedia'\", \"'https://www.house.leg.state.mn.us/live/1'\", \"'https://www.house.leg.state.mn.us/htv/schedule.asp'\", \"'https://www.house.leg.state.mn.us/audio/default.asp'\", \"'https://www.house.leg.state.mn.us/hinfo/sdaily.asp'\", \"'https://www.house.leg.state.mn.us/hinfo/images.asp'\", \"'https://www.senate.mn/media/media_coming_up.html'\", \"'https://www.lrl.mn.gov/media/'\", \"'https://www.senate.mn/media-gallery/'\", \"'https://www.commissions.leg.state.mn.us/meetings-all.htm'\", \"'https://www.leg.mn.gov/leg/publicat'\", \"'https://www.house.leg.state.mn.us/hrd/publications.aspx'\", \"'https://www.auditor.leg.state.mn.us/allreports.htm'\", \"'https://www.senate.mn/publications'\", \"'https://www.lrl.mn.gov/'\", \"'https://www.house.mn/hinfo/leginfo/elecdir.htm'\", \"'https://www.lrl.mn.gov/leg/history/histstep.aspx'\", \"'https://www.lrl.mn.gov/legdb/'\", \"'https://www.house.leg.state.mn.us/cco/journals/journl.asp'\", \"'https://www.lrl.mn.gov/timecapsule/index.aspx'\", \"'https://www.lrl.mn.gov/vetoes/vetoes.aspx'\", \"'https://www.lrl.mn.gov/guides/'\", \"'https://www.house.leg.state.mn.us/newlaws/'\", \"'https://www.lrl.mn.gov/booksreports.aspx'\", \"'https://intra.revisor.mn.gov/'\", \"'https://www.revisor.mn.gov/staff/drafting_areas'\", \"'https://www.revisor.mn.gov/staff/'\", \"'https://www.revisor.mn.gov/office/duties'\", \"'https://www.revisor.mn.gov/office/publications'\", \"'https://www.revisor.mn.gov/office/meetings'\", \"'https://www.revisor.mn.gov/seminars/'\", \"'https://www.revisor.mn.gov/employment/'\", \"'https://www.revisor.mn.gov/office/order'\", \"'https://www.revisor.mn.gov/search/?stat=1&laws=1&rule=1'\", \"'https://www.sourcewell-mn.gov/statutes/'\", \"'https://www.sourcewell-mn.gov/statutes/cite/123A'\", \"'https://www.revisor.mn.gov/statutes/cite/123A.19'\", \"'https://www.revisor.mn.gov/statutes/cite/123A.215'\", \"'https://www.revisor.mn.gov/authenticate/'\", \"'https://www.sourcewell-mn.gov/search/?search=stat'\", \"'https://www.sourcewell-mn.gov/statutes/info'\", \"'https://www.sourcewell-mn.gov/statutes/table2'\", \"'https://www.sourcewell-mn.gov/index/statute/?year=2022'\", \"'https://www.sourcewell-mn.gov/statutes/cite/123A/full'\", \"'https://www.sourcewell-mn.gov/statutes/cite/123A/versions'\", \"'https://www.sourcewell-mn.gov/statutes/cite/123A.21/versions'\", \"'https://www.sourcewell-mn.gov/index/statute/S10671821?year=2022'\", \"'https://www.sourcewell-mn.gov/index/statute/S10674877?year=2022'\", \"'https://www.sourcewell-mn.gov/index/statute/S10685360?year=2022'\", \"'https://www.sourcewell-mn.gov/index/statute/S10687220?year=2022'\", \"'https://www.sourcewell-mn.gov/index/statute/S10695862?year=2022'\", \"'https://www.sourcewell-mn.gov/index/statute/S10705812?year=2022'\", \"'https://www.sourcewell-mn.gov/index/statute/S10718589?year=2022'\", \"'https://www.sourcewell-mn.gov/index/statute/S10719747?year=2022'\", \"'https://www.sourcewell-mn.gov/index/statute/S10723599?year=2022'\", \"'https://www.sourcewell-mn.gov/index/statute/S10731832?year=2022'\", \"'https://www.sourcewell-mn.gov/index/statute/S10731892?year=2022'\", \"'https://www.sourcewell-mn.gov/index/statute/S10731993?year=2022'\", \"'https://www.sourcewell-mn.gov/index/statute/S10732434?year=2022'\", \"'https://www.sourcewell-mn.gov/index/statute/S10739794?year=2022'\", \"'https://www.sourcewell-mn.gov/index/statute/S10760697?year=2022'\", \"'https://www.sourcewell-mn.gov/index/statute/S10766331?year=2022'\", \"'https://www.sourcewell-mn.gov/index/statute/S10786222?year=2022'\", \"'https://www.sourcewell-mn.gov/index/statute/S10801147?year=2022'\", \"'https://www.sourcewell-mn.gov/index/statute/S10832719?year=2022'\", \"'https://www.sourcewell-mn.gov/index/statute/S10834149?year=2022'\", \"'https://www.sourcewell-mn.gov/index/statute/S10853636?year=2022'\", \"'https://www.sourcewell-mn.gov/index/statute/S10869318?year=2022'\", \"'https://www.sourcewell-mn.gov/index/statute/S10879850?year=2022'\", \"'https://www.sourcewell-mn.gov/index/statute/S10882240?year=2022'\", \"'https://www.sourcewell-mn.gov/index/statute/S10883339?year=2022'\", \"'https://www.sourcewell-mn.gov/index/statute/S10884801?year=2022'\", \"'https://www.sourcewell-mn.gov/index/statute/S10884830?year=2022'\", \"'https://www.sourcewell-mn.gov/index/statute/S10884845?year=2022'\", \"'https://www.sourcewell-mn.gov/index/statute/S10885654?year=2022'\", \"'https://www.sourcewell-mn.gov/index/statute/S10890600?year=2022'\", \"'https://www.sourcewell-mn.gov/index/statute/S10891699?year=2022'\", \"'https://www.sourcewell-mn.gov/index/statute/S10912003?year=2022'\", \"'https://www.sourcewell-mn.gov/index/statute/S10913868?year=2022'\", \"'https://www.sourcewell-mn.gov/index/statute/S10917932?year=2022'\", \"'https://www.sourcewell-mn.gov/index/statute/S10930429?year=2022'\", \"'https://www.sourcewell-mn.gov/statutes/table2?full=123A.21'\", \"'https://www.sourcewell-mn.gov/statutes/2017/cite/123A.21/subd/123A.21.5'\", \"'https://www.sourcewell-mn.gov/laws/2017/1/5/laws.12.22.0'\", \"'https://www.sourcewell-mn.gov/statutes/2006/cite/123A.21/subd/.123A.21.7'\", \"'https://www.sourcewell-mn.gov/laws/2006/0/255/laws.0.1.0'\", \"'https://www.sourcewell-mn.gov/statutes/2006/cite/123A.21/subd/.123A.21.12'\", \"'https://www.sourcewell-mn.gov/statutes/cite/462.381'\", \"'https://www.sourcewell-mn.gov/statutes/cite/462.397'\", \"'https://www.sourcewell-mn.gov/statutes/cite/471.59'\", \"'https://www.sourcewell-mn.gov/statutes/cite/144.50'\", \"'https://www.sourcewell-mn.gov/statutes/cite/144.56'\", \"'https://www.sourcewell-mn.gov/statutes/cite/123A.24'\", \"'https://www.sourcewell-mn.gov/statutes/cite/13.203'\", \"'https://www.sourcewell-mn.gov/laws/?id=3&year=1995&type=1'\", \"'https://www.sourcewell-mn.gov/laws/?id=397&year=1998&type=0'\", \"'https://www.sourcewell-mn.gov/laws/?id=398&year=1998&type=0'\", \"'https://www.sourcewell-mn.gov/laws/?id=255&year=2006&type=0'\", \"'https://www.sourcewell-mn.gov/laws/?id=5&year=2017&type=1'\", \"'https://www.lrl.mn.gov/history/'\", \"'https://www.leg.mn.gov/leg/jobs.aspx'\", \"'https://www.leg.mn.gov/leg/faq/faq?subject=14'\", \"'https://www.leg.mn.gov/leg/faq/faq?subject=19'\", \"'http://www.leg.mn.gov/leg/faq/faqtoc.aspx'\", \"'http://www.gis.leg.mn/OpenLayers/districts/'\", \"'http://www.house.leg.state.mn.us/members/hmem.asp'\", \"'https://www.lrl.mn.gov/comments'\", \"'https://www.leg.mn.gov/leg/legdir'\", \"'http://www.house.mn/hinfo/news.asp'\", \"'http://www.senate.mn/media/'\", \"'https://www.leg.mn.gov/mybills/'\", \"'https://www.leg.mn.gov/leg/elists'\", \"'https://www.mnservcoop.org/Domain/4'\", \"'https://www.mnservcoop.org/site/Default.aspx?PageType=7&SiteID=4&IgnoreRedirect=true'\", \"'https://www.sourcewell-mn.gov/Page/1'\", \"'https://www.sourcewell-mn.gov/domain/25'\", \"'https://www.sourcewell-mn.gov/domain/38'\", \"'https://www.sourcewell-mn.gov/domain/26'\", \"'https://www.sourcewell-mn.gov/domain/24'\", \"'https://www.sourcewell-mn.gov/domain/20'\", \"'https://www.sourcewell-mn.gov/domain/31'\", \"'https://www.sourcewell-mn.gov/domain/21'\", \"'https://www.sourcewell-mn.gov/domain/1055'\", \"'https://www.sourcewell-mn.gov/domain/28'\", \"'https://www.sourcewell-mn.gov/domain/41'\", \"'https://www.sourcewell-mn.gov/domain/1056'\", \"'https://www.sourcewell-mn.gov/domain/1057'\", \"'https://www.sourcewell-mn.gov/domain/1054'\", \"'https://www.sourcewell-mn.gov/domain/33'\", \"'https://www.sourcewell-mn.gov/domain/27'\", \"'https://www.sourcewell-mn.gov/domain/39'\", \"'https://www.sourcewell-mn.gov/domain/45'\", \"'https://www.sourcewell-mn.gov/domain/46'\", \"'https://www.sourcewell-mn.gov/Page/2'\", \"'https://www.sourcewell-mn.gov/Domain/4'\", \"'http://www.lcsc.org/'\", \"'http://www.metroecsu.org/'\", \"'http://www.nescmn.net/'\", \"'http://www.nw-service.k12.mn.us/'\", \"'https://www.resourcecoop-mn.gov/'\", \"'http://mnscsc.org/'\", \"'http://www.ssc.coop/'\", \"'http://www.swwc.org/'\", \"'https://www.sourcewell-mn.gov/site/Default.aspx?PageType=15&SiteID=4&SectionMax=15&DirectoryType=6'\", \"'https://www.blackboard.com/blackboard-web-community-manager-privacy-statement'\", \"'https://help.blackboard.com/Terms_of_Use'\", \"'http://www.blackboard.com'\", \"'https://sourcewell.wd1.myworkdayjobs.com/SWCareers '\", \"'https://topworkplaces.com/company/sourcewell/'\", \"'https://www.sourcewell-mn.gov/services/insurance-employee-benefits/employee-benefits'\", \"'https://www.sourcewell-mn.gov/statutes/part/MUNICIPALITIES'\", \"'https://www.sourcewell-mn.gov/statutes/cite/471'\", \"'https://www.revisor.mn.gov/statutes/cite/471.58'\", \"'https://www.revisor.mn.gov/statutes/cite/471.591'\", \"'https://www.sourcewell-mn.gov/statutes/cite/471/full'\", \"'https://www.sourcewell-mn.gov/statutes/cite/471/versions'\", \"'https://www.sourcewell-mn.gov/statutes/cite/471.59/versions'\", \"'https://www.sourcewell-mn.gov/index/statute/S10672162?year=2022'\", \"'https://www.sourcewell-mn.gov/index/statute/S10673676?year=2022'\", \"'https://www.sourcewell-mn.gov/index/statute/S10695915?year=2022'\", \"'https://www.sourcewell-mn.gov/index/statute/S10696538?year=2022'\", \"'https://www.sourcewell-mn.gov/index/statute/S10700958?year=2022'\", \"'https://www.sourcewell-mn.gov/index/statute/S10704707?year=2022'\", \"'https://www.sourcewell-mn.gov/index/statute/S10719857?year=2022'\", \"'https://www.sourcewell-mn.gov/index/statute/S10739419?year=2022'\", \"'https://www.sourcewell-mn.gov/index/statute/S10741128?year=2022'\", \"'https://www.sourcewell-mn.gov/index/statute/S10742037?year=2022'\", \"'https://www.sourcewell-mn.gov/index/statute/S10745570?year=2022'\", \"'https://www.sourcewell-mn.gov/index/statute/S10748647?year=2022'\", \"'https://www.sourcewell-mn.gov/index/statute/S10771469?year=2022'\", \"'https://www.sourcewell-mn.gov/index/statute/S10772831?year=2022'\", \"'https://www.sourcewell-mn.gov/index/statute/S10778105?year=2022'\", \"'https://www.sourcewell-mn.gov/index/statute/S10786220?year=2022'\", \"'https://www.sourcewell-mn.gov/index/statute/S10795814?year=2022'\", \"'https://www.sourcewell-mn.gov/index/statute/S10802548?year=2022'\", \"'https://www.sourcewell-mn.gov/index/statute/S10810322?year=2022'\", \"'https://www.sourcewell-mn.gov/index/statute/S10816190?year=2022'\", \"'https://www.sourcewell-mn.gov/index/statute/S10841100?year=2022'\", \"'https://www.sourcewell-mn.gov/index/statute/S10848339?year=2022'\", \"'https://www.sourcewell-mn.gov/index/statute/S10857612?year=2022'\", \"'https://www.sourcewell-mn.gov/index/statute/S10860295?year=2022'\", \"'https://www.sourcewell-mn.gov/index/statute/S10870390?year=2022'\", \"'https://www.sourcewell-mn.gov/index/statute/S10870454?year=2022'\", \"'https://www.sourcewell-mn.gov/index/statute/S10892555?year=2022'\", \"'https://www.sourcewell-mn.gov/index/statute/S10899657?year=2022'\", \"'https://www.sourcewell-mn.gov/index/statute/S10908706?year=2022'\", \"'https://www.sourcewell-mn.gov/index/statute/S10927144?year=2022'\", \"'https://www.sourcewell-mn.gov/index/statute/S10927242?year=2022'\", \"'https://www.sourcewell-mn.gov/index/statute/S10928261?year=2022'\", \"'https://www.sourcewell-mn.gov/statutes/table2?full=471.59'\", \"'https://www.sourcewell-mn.gov/statutes/2021/cite/471.59/subd/471.59.1'\", \"'https://www.sourcewell-mn.gov/laws/2021/1/1/laws.4.3.0'\", \"'https://www.sourcewell-mn.gov/statutes/2019/cite/471.59/subd/471.59.1'\", \"'https://www.sourcewell-mn.gov/laws/2019/1/11/laws.6.5.0'\", \"'https://www.sourcewell-mn.gov/statutes/2013/cite/471.59/subd/471.59.1'\", \"'https://www.sourcewell-mn.gov/laws/2013/0/108/laws.9.12.0'\", \"'https://www.sourcewell-mn.gov/statutes/2010/cite/471.59/subd/471.59.1'\", \"'https://www.sourcewell-mn.gov/laws/2010/0/193/laws.0.1.0'\", \"'https://www.sourcewell-mn.gov/statutes/2010/cite/471.59/subd/471.59.10'\", \"'https://www.sourcewell-mn.gov/laws/2010/0/347/laws.1.26.0'\", \"'https://www.sourcewell-mn.gov/statutes/2009/cite/471.59/subd/471.59.12a'\", \"'https://www.sourcewell-mn.gov/laws/2009/0/59/laws.5.14.0'\", \"'https://www.sourcewell-mn.gov/statutes/2009/cite/471.59/subd/471.59.12b'\", \"'https://www.sourcewell-mn.gov/laws/2009/0/59/laws.4.6.0'\", \"'https://www.sourcewell-mn.gov/statutes/2007/cite/471.59/subd/471.59.1'\", \"'https://www.sourcewell-mn.gov/laws/2007/0/43/laws.0.1.0'\", \"'https://www.sourcewell-mn.gov/statutes/2006/cite/471.59/subd/.471.59.1a'\", \"'https://www.sourcewell-mn.gov/laws/2006/0/232/laws.0.1.0'\", \"'https://www.sourcewell-mn.gov/statutes/2005/cite/471.59'\", \"'https://www.sourcewell-mn.gov/statutes/2003/cite/471.59'\", \"'https://www.sourcewell-mn.gov/laws/2003/1/14/a7'\", \"'https://www.sourcewell-mn.gov/statutes/2001/cite/471.59'\", \"'https://www.sourcewell-mn.gov/statutes/1999/cite/471.59'\", \"'https://www.sourcewell-mn.gov/laws/1999/0/214/a2'\", \"'https://www.sourcewell-mn.gov/statutes/1997/cite/471.59'\", \"'https://www.sourcewell-mn.gov/laws/1997/0/203/a5'\", \"'https://www.sourcewell-mn.gov/laws/1996/0/412/a3'\", \"'https://www.sourcewell-mn.gov/laws/1996/0/471/a3'\", \"'https://www.sourcewell-mn.gov/laws/1996/0/464/a1'\", \"'https://www.sourcewell-mn.gov/statutes/cite/123A.21'\", \"'https://www.sourcewell-mn.gov/statutes/cite/3.736'\", \"'https://www.sourcewell-mn.gov/statutes/cite/466.04'\", \"'https://www.sourcewell-mn.gov/statutes/cite/466.06'\", \"'https://www.sourcewell-mn.gov/statutes/cite/471.981'\", \"'https://www.sourcewell-mn.gov/statutes/cite/124D.23'\", \"'https://www.sourcewell-mn.gov/statutes/cite/124D.23#stat.124D.23.1'\", \"'https://www.sourcewell-mn.gov/statutes/cite/245.491'\", \"'https://www.sourcewell-mn.gov/statutes/cite/245.495'\", \"'https://www.sourcewell-mn.gov/statutes/cite/245.493#stat.245.493.1'\", \"'https://www.sourcewell-mn.gov/statutes/cite/473.121#stat.473.121.2'\", \"'https://www.sourcewell-mn.gov/statutes/cite/469.001'\", \"'https://www.sourcewell-mn.gov/statutes/cite/469.047'\", \"'https://www.sourcewell-mn.gov/statutes/cite/469.090'\", \"'https://www.sourcewell-mn.gov/statutes/cite/469.1081'\", \"'https://www.sourcewell-mn.gov/statutes/cite/469.033#stat.469.033.6'\", \"'https://www.sourcewell-mn.gov/statutes/cite/469.107'\", \"'https://www.sourcewell-mn.gov/laws/?id=557&year=1943&type=0'\", \"'https://www.sourcewell-mn.gov/laws/?id=448&year=1949&type=0'\", \"'https://www.sourcewell-mn.gov/laws/?id=662&year=1961&type=0'\", \"'https://www.sourcewell-mn.gov/laws/?id=744&year=1965&type=0'\", \"'https://www.sourcewell-mn.gov/laws/?id=123&year=1973&type=0'\", \"'https://www.sourcewell-mn.gov/laws/?id=541&year=1973&type=0'\", \"'https://www.sourcewell-mn.gov/laws/?id=134&year=1975&type=0'\", \"'https://www.sourcewell-mn.gov/laws/?id=532&year=1980&type=0'\", \"'https://www.sourcewell-mn.gov/laws/?id=507&year=1982&type=0'\", \"'https://www.sourcewell-mn.gov/laws/?id=342&year=1983&type=0'\", \"'https://www.sourcewell-mn.gov/laws/?id=495&year=1984&type=0'\", \"'https://www.sourcewell-mn.gov/laws/?id=465&year=1986&type=0'\", \"'https://www.sourcewell-mn.gov/laws/?id=572&year=1990&type=0'\", \"'https://www.sourcewell-mn.gov/laws/?id=44&year=1991&type=0'\", \"'https://www.sourcewell-mn.gov/laws/?id=412&year=1996&type=0'\", \"'https://www.sourcewell-mn.gov/laws/?id=464&year=1996&type=0'\", \"'https://www.sourcewell-mn.gov/laws/?id=471&year=1996&type=0'\", \"'https://www.sourcewell-mn.gov/laws/?id=203&year=1997&type=0'\", \"'https://www.sourcewell-mn.gov/laws/?id=214&year=1999&type=0'\", \"'https://www.sourcewell-mn.gov/laws/?id=7&year=2001&type=0'\", \"'https://www.sourcewell-mn.gov/laws/?id=14&year=2003&type=1'\", \"'https://www.sourcewell-mn.gov/laws/?id=9&year=2005&type=0'\", \"'https://www.sourcewell-mn.gov/laws/?id=232&year=2006&type=0'\", \"'https://www.sourcewell-mn.gov/laws/?id=43&year=2007&type=0'\", \"'https://www.sourcewell-mn.gov/laws/?id=59&year=2009&type=0'\", \"'https://www.sourcewell-mn.gov/laws/?id=193&year=2010&type=0'\", \"'https://www.sourcewell-mn.gov/laws/?id=347&year=2010&type=0'\", \"'https://www.sourcewell-mn.gov/laws/?id=108&year=2013&type=0'\", \"'https://www.sourcewell-mn.gov/laws/?id=11&year=2019&type=1'\", \"'https://www.sourcewell-mn.gov/laws/?id=1&year=2021&type=1'\", \"'https://www.sourcewell-mn.gov/process'\", \"'https://www.sourcewell-mn.gov/buy-sourcewell'\", \"'https://www.sourcewell-mn.gov/state-government'\", \"'https://www.sourcewell-mn.gov/local-government'\", \"'https://www.sourcewell-mn.gov/higher-education'\", \"'https://www.sourcewell-mn.gov/k-12'\", \"'https://www.sourcewell-mn.gov/explore-contracts'\", \"'https://www.sourcewell-mn.gov/guides'\", \"'https://www.sourcewell-mn.gov/cooperative-purchasing/050421-ggi'\", \"'https://www.sourcewell-mn.gov/cooperative-purchasing/031121-aco-1'\", \"'https://www.sourcewell-mn.gov/cooperative-purchasing/042021-rdo'\", \"'https://www.sourcewell-mn.gov/cooperative-purchasing/042021-wnt'\", \"'https://www.sourcewell-mn.gov/cooperative-purchasing/042021-pur'\", \"'https://www.sourcewell-mn.gov/cooperative-purchasing/042021-mot'\", \"'https://www.sourcewell-mn.gov/cooperative-purchasing/042021-l3h'\", \"'https://www.sourcewell-mn.gov/contract-search?destination=/&_exception_statuscode=404&keyword=&page=0'\", \"'https://www.sourcewell-mn.gov/contract-search?destination=/&_exception_statuscode=404&keyword=&page=1'\", \"'https://www.sourcewell-mn.gov/contract-search?destination=/&_exception_statuscode=404&keyword=&page=2'\", \"'https://www.sourcewell-mn.gov/contract-search?destination=/&_exception_statuscode=404&keyword=&page=3'\", \"'https://www.sourcewell-mn.gov/contract-search?destination=/&_exception_statuscode=404&keyword=&page=4'\", \"'https://www.sourcewell-mn.gov/contract-search?destination=/&_exception_statuscode=404&keyword=&page=5'\", \"'https://www.sourcewell-mn.gov/contract-search?destination=/&_exception_statuscode=404&keyword=&page=6'\", \"'https://www.sourcewell-mn.gov/contract-search?destination=/&_exception_statuscode=404&keyword=&page=7'\", \"'https://www.sourcewell-mn.gov/contract-search?destination=/&_exception_statuscode=404&keyword=&page=8'\", \"'https://www.sourcewell-mn.gov/education/podcast'\", \"'https://www.sourcewell-mn.gov/education/leadership-development'\", \"'https://www.sourcewell-mn.gov/education/networks'\", \"'https://www.sourcewell-mn.gov/education/reimbursement'\", \"'https://www.sourcewell-mn.gov/event-list?program_category=1081 '\", \"'https://www.sourcewell-mn.gov/education/equity'\", \"'https://www.sourcewell-mn.gov/education/tech-mobile'\", \"'https://www.sourcewell-mn.gov/career-college-readiness-programs'\", \"'https://www.sourcewell-mn.gov/education/student-programs'\", \"'https://www.sourcewell-mn.gov/education/lending-library'\", \"'https://www.sourcewell-mn.gov/education/awards'\", \"'https://www.lcsc.org/domain/3'\", \"'https://www.sourcewell-mn.gov/user/password'\", \"'https://www.sourcewell-mn.gov/user/register'\", \"'https://www.sourcewell-mn.gov'\", \"'https://www.sourcewell-mn.gov/saml_login'\",\n",
        "\n",
        "    ]\n",
        "\n",
        "# Iterate through the paragraphs of the document\n",
        "for para in doc.paragraphs:\n",
        "    for keyword in keywords:\n",
        "        if keyword in para.text:\n",
        "            # If the keyword is found in the paragraph, remove it\n",
        "            para.text = para.text.replace(keyword, \"\")"
      ],
      "metadata": {
        "id": "PE4mC_OUJVP1"
      },
      "execution_count": null,
      "outputs": []
    },
    {
      "cell_type": "code",
      "source": [
        "#10QUANTUM: THIS IS SUBSEQUENT LAYERS SPECIFIC: Define a list of recursive URLs to delete for the [3rd] LAYERS URL LIST SEARCH\n",
        "keywords = [\n",
        "\n",
        "\"'https://www.sourcewell-mn.gov/cooperative-purchasing/how-it-works'\", \"'https://www.sourcewell-mn.gov/cooperative-purchasing-eziqc-contracting'\", \"'https://www.sourcewell-mn.gov/become-member'\", \"'https://www.sourcewell-mn.gov/node/500421'\", \"'https://www.sourcewell-mn.gov/cooperative-purchasing-eziqc/search'\", \"'https://www.sourcewell-mn.gov/cooperative-purchasing/contracts-vendor-search/'\", \"'https://www.sourcewell-mn.gov/cooperative-purchasing/contracts-vendor-search?category=10846'\", \"'https://www.sourcewell-mn.gov/cooperative-purchasing/contracts-vendor-search?category=10966'\", \"'https://www.sourcewell-mn.gov/cooperative-purchasing/contracts-vendor-search?category=10971'\", \"'https://www.sourcewell-mn.gov/cooperative-purchasing/contracts-vendor-search?category=10791'\", \"'https://www.sourcewell-mn.gov/cooperative-purchasing/contracts-vendor-search?category=11101'\", \"'https://www.sourcewell-mn.gov/cooperative-purchasing/contracts-vendor-search?category=11176'\", \"'https://www.sourcewell-mn.gov/cooperative-purchasing/contracts-vendor-search?category=11051'\", \"'https://www.sourcewell-mn.gov/cooperative-purchasing/contracts-vendor-search?category=10926'\", \"'https://www.sourcewell-mn.gov/contract-search?category=28686&keyword='\", \"'https://www.sourcewell-mn.gov/cooperative-purchasing/contracts-vendor-search?category=10726'\", \"'https://www.sourcewell-mn.gov/cooperative-purchasing/contracts-vendor-search?category=10881'\", \"'https://www.sourcewell-mn.gov/cooperative-purchasing/contracts-vendor-search?category=11066'\", \"'https://www.sourcewell-mn.gov/contract-search?category=28626&keyword='\", \"'https://www.sourcewell-mn.gov/cooperative-purchasing/contracts-vendor-search?category=10996'\", \"'https://www.sourcewell-mn.gov/cooperative-purchasing/contract-search-a-z'\", \"'https://sourcewell.co/contract-list'\", \"'https://www.sourcewell-mn.gov/cooperative-purchasing/071321-cen'\", \"'https://www.sourcewell-mn.gov/contract-search?category=10726'\", \"'https://www.sourcewell-mn.gov/cooperative-purchasing/090122-911'\", \"'https://www.sourcewell-mn.gov/contract-search?category=10791'\", \"'https://www.sourcewell-mn.gov/contract-search?category=11066'\", \"'https://www.sourcewell-mn.gov/cooperative-purchasing/062421-aba'\", \"'https://www.sourcewell-mn.gov/cooperative-purchasing/051321-env'\", \"'https://www.sourcewell-mn.gov/cooperative-purchasing/081721-adp'\", \"'https://www.sourcewell-mn.gov/contract-search?category=10881'\", \"'https://www.sourcewell-mn.gov/cooperative-purchasing/011221-ads'\", \"'https://www.sourcewell-mn.gov/cooperative-purchasing/011822-ads'\", \"'https://www.sourcewell-mn.gov/cooperative-purchasing/090122-ads'\", \"'https://www.sourcewell-mn.gov/cooperative-purchasing/051922-adv'\", \"'https://www.sourcewell-mn.gov/contract-search?category=28686'\", \"'https://www.sourcewell-mn.gov/cooperative-purchasing/020221-aac'\", \"'https://www.sourcewell-mn.gov/contract-search?category=11101'\", \"'https://www.sourcewell-mn.gov/cooperative-purchasing/070821-agi'\", \"'https://www.sourcewell-mn.gov/contract-search?category=11051'\", \"'https://www.sourcewell-mn.gov/contract-search?category=10996'\", \"'https://www.sourcewell-mn.gov/cooperative-purchasing/090122-ats'\", \"'https://www.sourcewell-mn.gov/contract-search?category=28626'\", \"'https://www.sourcewell-mn.gov/cooperative-purchasing/120320-all'\", \"'https://www.sourcewell-mn.gov/cooperative-purchasing/020421-alp'\", \"'https://www.sourcewell-mn.gov/cooperative-purchasing/110421-alt'\", \"'https://www.sourcewell-mn.gov/cooperative-purchasing/070821-atz'\", \"'https://www.sourcewell-mn.gov/cooperative-purchasing/120320-amr'\", \"'https://www.sourcewell-mn.gov/cooperative-purchasing/112420-arc'\", \"'https://www.sourcewell-mn.gov/cooperative-purchasing/020221-ivs'\", \"'https://www.sourcewell-mn.gov/cooperative-purchasing/031121-aco'\", \"'https://www.sourcewell-mn.gov/cooperative-purchasing/120721-ars'\", \"'https://www.sourcewell-mn.gov/cooperative-purchasing/013020-arp'\", \"'https://www.sourcewell-mn.gov/cooperative-purchasing/112420-art'\", \"'https://www.sourcewell-mn.gov/cooperative-purchasing/062222-aeb'\", \"'https://www.sourcewell-mn.gov/cooperative-purchasing/060122-ate'\", \"'https://www.sourcewell-mn.gov/contract-search?category=10971'\", \"'https://www.sourcewell-mn.gov/cooperative-purchasing/031022-ast'\", \"'https://www.sourcewell-mn.gov/cooperative-purchasing/031622-ast'\", \"'https://www.sourcewell-mn.gov/cooperative-purchasing/060518-ast'\", \"'https://www.sourcewell-mn.gov/cooperative-purchasing/120320-ath'\", \"'https://www.sourcewell-mn.gov/cooperative-purchasing/051321-aog'\", \"'https://www.sourcewell-mn.gov/contract-search?category=All&keyword=&page=0'\", \"'https://www.sourcewell-mn.gov/contract-search?category=All&keyword=&page=1'\", \"'https://www.sourcewell-mn.gov/contract-search?category=All&keyword=&page=2'\", \"'https://www.sourcewell-mn.gov/contract-search?category=All&keyword=&page=3'\", \"'https://www.sourcewell-mn.gov/contract-search?category=All&keyword=&page=4'\", \"'https://www.sourcewell-mn.gov/contract-search?category=All&keyword=&page=5'\", \"'https://www.sourcewell-mn.gov/contract-search?category=All&keyword=&page=6'\", \"'https://www.sourcewell-mn.gov/contract-search?category=All&keyword=&page=7'\", \"'https://www.sourcewell-mn.gov/contract-search?category=All&keyword=&page=8'\", \"'https://proportal.sourcewell-mn.gov/Module/Tenders/en'\", \"'https://www.sourcewell-mn.gov/cooperative-purchasing/how-it-works/'\", \"'https://www.sourcewell-mn.gov/node/1381176'\", \"'https://www.sourcewell-mn.gov/node/1378796'\", \"'https://www.sourcewell-mn.gov/node/1376826'\", \"'https://www.sourcewell-mn.gov/node/1373771'\", \"'https://www.sourcewell-mn.gov/node/1367416'\", \"'https://www.sourcewell-mn.gov/node/1365656'\", \"'https://www.sourcewell-mn.gov/node/1362081'\", \"'https://www.sourcewell-mn.gov/node/1354466'\", \"'https://www.sourcewell-mn.gov/node/1352816'\", \"'https://www.sourcewell-mn.gov/node/1344411'\", \"'https://www.sourcewell-mn.gov/node/1336861'\", \"'https://www.sourcewell-mn.gov/node/1334306'\", \"'https://www.sourcewell-mn.gov/node/1326076'\", \"'https://www.sourcewell-mn.gov/node/1292666'\", \"'https://www.sourcewell-mn.gov/node/1289731'\", \"'https://www.sourcewell-mn.gov/node/1265391'\", \"'https://www.sourcewell-mn.gov/node/1347921'\", \"'https://www.sourcewell-mn.gov/node/1323591'\", \"'https://www.sourcewell-mn.gov/node/1311171'\", \"'https://www.sourcewell-mn.gov/node/1293891'\", \"'https://www.sourcewell-mn.gov/node/1285401'\", \"'https://www.sourcewell-mn.gov/node/1280856'\", \"'https://www.sourcewell-mn.gov/node/1269946'\", \"'https://www.sourcewell-mn.gov/node/1283016'\", \"'https://www.sourcewell-mn.gov/node/1246806'\", \"'https://www.sourcewell-mn.gov/node/1228436'\", \"'https://www.sourcewell-mn.gov/node/1208506'\", \"'https://www.sourcewell-mn.gov/node/1091406'\", \"'https://www.sourcewell-mn.gov/about/board-of-directors'\", \"'https://www.sourcewell-mn.gov/sourcewell-for-vendors/become-a-supplier'\", \"'https://sourcewell-mn.gov'\", \"'https://start.sourcewell.website/'\", \"'https://news.sourcewell-mn.gov/'\", \"'https://www.sourcewell-mn.gov/contract-search?h=1&t=law enforcement'\", \"'https://www.sourcewell-mn.gov/contract-search?h=1&t=equipment'\", \"'https://www.sourcewell-mn.gov/contract-search?h=1&t=Crosby Grindle'\", \"'https://www.sourcewell-mn.gov/contract-search?h=1&t=All Traffic Solutions'\", \"'https://www.sourcewell-mn.gov/contract-search?h=1&t=ADS'\", \"'https://news.sourcewell-mn.gov/equipping-our-heroes/'\", \"'https://www.sourcewell-mn.gov/contract-search?h=1&t=regional'\", \"'https://news.sourcewell-mn.gov/hear-to-help/'\", \"'https://www.sourcewell-mn.gov/contract-search?h=1&t=national'\", \"'https://news.sourcewell-mn.gov/one-stop-shop-for-public-safety-emergency-management/'\", \"'https://news.sourcewell-mn.gov/media-library/'\", \"'https://sourcewell-mn.gov/'\", \"'https://news.sourcewell-mn.gov/?h=1&t=national'\", \"'https://news.sourcewell-mn.gov/tagfeed/en-us/tags/national'\", \"'https://news.sourcewell-mn.gov/contracts-that-pave-the-way/'\", \"'https://news.sourcewell-mn.gov/when-the-weather-outside-is-frightful/'\", \"'https://news.sourcewell-mn.gov/get-everything-including-the-kitchen-sink/'\", \"'https://news.sourcewell-mn.gov/?h=1&t=regional'\", \"'https://news.sourcewell-mn.gov/tagfeed/en-us/tags/regional'\", \"'https://news.sourcewell-mn.gov/a-true-silver-lining/'\", \"'https://news.sourcewell-mn.gov/a-legacy-leaving-impact/'\", \"'https://news.sourcewell-mn.gov/taking-time-for-yourself/'\", \"'https://www.sourcewell-mn.gov/contract-search?c=1'\", \"'https://news.sourcewell-mn.gov/feed/Sourcewell/media_en-us/'\", \"'https://www.newsargus.com/brunswick_beacon/news/aasa-awards-mini-grants-to-school-districts-across-the-nation/article_c3d36ee6-1c48-5bae-b70d-bc0eb0b0a6dc.html'\", \"'https://www.aroundosceola.com/news/news-briefs-stark-holding-event-new-office-school-district-receives-disaster-relief-grant'\", \"'https://www.businesswire.com/news/home/20230110005943/en'\", \"'https://metro.newschannelnebraska.com/story/48127376/city-council-approves-miniexcavator-purchase'\", \"'http://markets.post-gazette.com/postgazette/article/getnews-2023-1-10-healthsource-solutions-signs-a-newly-awarded-contract-with-sourcewell'\", \"'https://cleantechnica.com/2023/01/05/the-hardest-part-of-electric-school-buses-made-easier/'\", \"'https://www.themunicipal.com/2023/01/five-case-studies-in-effective-salt-storage-facilities/'\", \"'https://www.newsbreak.com/news/2866361270210/wahkon-cc-taking-care-of-business'\", \"'https://www.communityadvocate.com/2022/12/20/select-board-approves-funding-for-body-cameras-tasers/'\", \"'https://dallasexpress.com/city/dallas-approves-160m-for-police-equipment/'\", \"'https://www.newsbreak.com/news/2858523887426/woodfin-elementary-s-new-playground-equipment-funded-by-anonymous-donors-school-board-oks'\", \"'https://www.newstribune.com/news/2022/dec/14/parks-pickleball-coming-to-washington-park/'\", \"'https://max983.net/2022/12/culver-community-school-board-approves-new-bleacher-purchase/'\", \"'https://www.hometownsource.com/morrison_county_record/jessie-evans-named-child-care-provider-of-the-year/article_630f96b4-74c5-11ed-9fc0-c7e6ee60a641.html'\", \"'https://www.westnewsmagazine.com/news/ballwin-unveils-more-improvement-steps-for-holloway-park/article_916c4bd6-701c-11ed-9dff-674ead27ab64.html'\", \"'https://www.cleveland.com/community/2022/11/fairview-park-awarded-federal-grants-for-new-radios-and-ambulance-power-lifts.html'\", \"'https://www.pineandlakes.com/news/local/pequot-lakes-students-attend-young-authors-conference-in-staples'\", \"'https://www.brainerddispatch.com/news/local/school-staff-students-dedicate-new-lincoln-education-center'\", \"'https://www.eschoolnews.com/2022/11/23/using-data-insight-platforms-to-improve-sel-strategies/'\", \"'https://www.mreavoice.org/mrea-hosts-future-educators-at-summit/'\", \"'https://www.covnews.com/sports/breaking-newton-county-school-board-votes-unanimously-approve-installation-artificial-turf-sharp-stadium/'\", \"'https://www.wadenapj.com/news/local/wadena-county-is-calling-goes-live'\", \"'https://www.enidnews.com/news/city-to-consider-contract-for-new-lighting-at-kellet-park-levying-28k-in-workers-comp/article_64608c5e-5962-11ed-9417-47e5c652f45a.html'\", \"'https://www.marketscreener.com/quote/stock/BLINK-CHARGING-CO-40834333/news/SemaConnect-taps-EV-charging-service-organization-42105029/'\", \"'https://www.sourcewell-mn.gov/'\", \"'https://www.sourcewell-mn.gov/apply'\", \"'https://www.sourcewell-mn.gov/member-lookup'\", \"'https://canoeprocurement.ca/members/'\", \"'https://www.sourcewell-mn.gov/become-member/application'\", \"'https://www.sourcewell-mn.gov/contact/member_profile_update_link'\", \"'https://www.sourcewell-mn.gov/node/1589391'\", \"'https://www.sourcewell-mn.gov/node/1580981'\", \"'https://www.sourcewell-mn.gov/node/1551866'\", \"'https://www.sourcewell-mn.gov/node/1585196'\", \"'https://www.sourcewell-mn.gov/node/1588086'\", \"'https://www.sourcewell-mn.gov/node/1408186'\", \"'https://www.sourcewell-mn.gov/node/1574401'\", \"'https://www.sourcewell-mn.gov/node/1584571'\", \"'https://www.sourcewell-mn.gov/node/1588481'\", \"'https://www.sourcewell-mn.gov/node/1494711'\", \"'https://www.sourcewell-mn.gov/contract-search?location=&title=&field_type=All&page=0'\", \"'https://www.sourcewell-mn.gov/contract-search?location=&title=&field_type=All&page=1'\", \"'https://www.sourcewell-mn.gov/contract-search?location=&title=&field_type=All&page=2'\", \"'https://www.sourcewell-mn.gov/contract-search?location=&title=&field_type=All&page=3'\", \"'https://www.sourcewell-mn.gov/contract-search?location=&title=&field_type=All&page=4'\", \"'https://www.sourcewell-mn.gov/contract-search?location=&title=&field_type=All&page=5'\", \"'https://www.sourcewell-mn.gov/contract-search?location=&title=&field_type=All&page=6'\", \"'https://www.sourcewell-mn.gov/contract-search?location=&title=&field_type=All&page=7'\", \"'https://www.sourcewell-mn.gov/contract-search?location=&title=&field_type=All&page=8'\", \"'https://www.sourcewell-mn.gov/fleet'\", \"'https://www.sourcewell-mn.gov/fire-rescue-gpo'\", \"'https://www.sourcewell-mn.gov/facilities'\", \"'https://www.sourcewell-mn.gov/contract-search?category=10886&keyword='\", \"'https://www.sourcewell-mn.gov/contract-search?category=10791&keyword='\", \"'https://www.sourcewell-mn.gov/contract-search?category=10916&keyword='\", \"'https://www.sourcewell-mn.gov/contract-search?category=10726&keyword='\", \"'https://www.sourcewell-mn.gov/contract-search?category=All&keyword=teletherapy'\", \"'https://sourcewell.org/solutions/edtech'\", \"'https://www.sourcewell-mn.gov/services/mn-programs'\", \"'https://www.sourcewell-mn.gov/about/mn-region'\", \"'https://www.sourcewell-mn.gov/about/board-of-trustees'\", \"'https://www.sourcewell-mn.gov/about/senior-leadership'\", \"'https://www.revisor.mn.gov/statutes/?id=123a.21'\", \"'https://www.mnservcoop.org/domain/24'\", \"'https://www.mn.sourcewell.org/events/event-policies'\", \"'https://sourcewell.wd1.myworkdayjobs.com/SWCareers'\", \"'https://www.sourcewell-mn.gov/careers/openings'\", \"'https://www.sourcewell-mn.gov/careers/benefits'\", \"'https://www.sourcewell-mn.gov/careers/culture'\", \"'https://www.revisor.mn.gov/statutes/?id=471.59'\", \"'https://www.sourcewell-mn.gov/compliance-legal/Canada'\", \"'https://www.sourcewell-mn.gov/become-member/'\", \"'https://www.sourcewell-mn.gov/contact'\", \"'https://www.sourcewell-mn.gov/home-page'\", \"'https://www.sourcewell-mn.gov/event-list'\", \"'https://www.sourcewell-mn.gov/solutions'\", \"'https://www.sourcewell-mn.gov/solutions/cooperative-purchasing'\", \"'https://www.sourcewell-mn.gov/solutions/edtech'\", \"'https://www.sourcewell-mn.gov/minnesota-only-solutions'\", \"'https://www.sourcewell-mn.gov/better-health-collective'\", \"'https://www.sourcewell-mn.gov/communities'\", \"'https://www.sourcewell-mn.gov/education'\", \"'https://www.sourcewell-mn.gov/minnesota-solutions'\", \"'https://www.sourcewell-mn.gov/privacy-policy#privacy'\", \"'https://www.sourcewell-mn.gov/privacy-policy#accessibility'\", \"'https://www.sourcewell-mn.gov/education/leaders'\", \"'https://www.sourcewell-mn.gov/education/educators'\", \"'https://www.sourcewell-mn.gov/education/students'\", \"'https://www.sourcewell-mn.gov/event-list?program_category=776'\", \"'https://www.sourcewell-mn.gov/government'\", \"'https://www.sourcewell-mn.gov/government/cities'\", \"'https://www.sourcewell-mn.gov/government/counties'\", \"'https://www.sourcewell-mn.gov/government/special-districts'\", \"'https://www.sourcewell-mn.gov/government/townships'\", \"'https://www.sourcewell-mn.gov/event-list?program_category=1071'\", \"'https://www.sourcewell-mn.gov/insurance-employee-benefits'\", \"'https://www.sourcewell-mn.gov/insurance-employee-benefits/brokers'\", \"'https://www.sourcewell-mn.gov/insurance-employee-benefits/employees'\", \"'https://www.sourcewell-mn.gov/insurance-employee-benefits/employers'\", \"'https://www.sourcewell-mn.gov/event-list?program_category=1096'\", \"'https://www.sourcewell-mn.gov/public-safety'\", \"'https://www.sourcewell-mn.gov/public-safety/ems'\", \"'https://www.sourcewell-mn.gov/public-safety/fire-rescue'\", \"'https://www.sourcewell-mn.gov/public-safety/law-enforcement'\", \"'https://www.sourcewell-mn.gov/event-list?program_category=1091'\", \"'https://www.sourcewell-mn.gov/licensing'\", \"'https://www.sourcewell-mn.gov/licensing/adult-foster-care'\", \"'https://www.sourcewell-mn.gov/licensing/family-child-care'\", \"'https://www.sourcewell-mn.gov/nonprofit'\", \"'https://www.sourcewell-mn.gov/nonprofit-organizations'\", \"'https://www.sourcewell-mn.gov/event-list?program_category=781'\", \"'https://www.sourcewell-mn.gov/contact/member_resources'\", \"'https://www.sourcewell-mn.gov/sourcewell-for-suppliers/agency-locator'\", \"'https://www.sourcewell-mn.gov/contact/invite-to-participate'\", \"'https://supplierportal.sourcewell.org/'\",\n",
        "\n",
        "    ]\n",
        "\n",
        "# Iterate through the paragraphs of the document\n",
        "for para in doc.paragraphs:\n",
        "    for keyword in keywords:\n",
        "        if keyword in para.text:\n",
        "            # If the keyword is found in the paragraph, remove it\n",
        "            para.text = para.text.replace(keyword, \"\")"
      ],
      "metadata": {
        "id": "TTKdyXD49q44"
      },
      "execution_count": null,
      "outputs": []
    },
    {
      "cell_type": "code",
      "source": [
        "###IF THIS IS 1ST EXECUTION OF THE CODE THEN RETURN BACK TO STEP 6 AFTER RUNNING STEP 10QUANTUM"
      ],
      "metadata": {
        "id": "o4WNxKZx4iR8"
      },
      "execution_count": null,
      "outputs": []
    },
    {
      "cell_type": "code",
      "source": [
        "###ELSE START BACK AT STEP 1 AFTER POPULATING \"'KEYWORDS LIST'\" INTO STEP 10QUANTUM"
      ],
      "metadata": {
        "id": "lmtqTdVI4do2"
      },
      "execution_count": null,
      "outputs": []
    },
    {
      "cell_type": "code",
      "source": [
        "###IF THIS IS THE 2ND EXECUTION OF THE CODE THEN RETURN BACK TO STEP 7 AFTER RUNNING STEP 10QUANTUM"
      ],
      "metadata": {
        "id": "btBsrAdWs1Sb"
      },
      "execution_count": null,
      "outputs": []
    }
  ]
}